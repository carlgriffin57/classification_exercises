{
 "cells": [
  {
   "cell_type": "code",
   "execution_count": 40,
   "metadata": {
    "scrolled": true
   },
   "outputs": [],
   "source": [
    "# ignore warnings\n",
    "import warnings\n",
    "warnings.filterwarnings(\"ignore\")\n",
    "\n",
    "import numpy as np\n",
    "import pandas as pd\n",
    "\n",
    "import acquire\n",
    "import prepare\n",
    "import analysis\n",
    "import model_func as m\n",
    "\n",
    "from sklearn.model_selection import train_test_split\n",
    "from sklearn.dummy import DummyClassifier\n",
    "from sklearn.tree import DecisionTreeClassifier, plot_tree, export_text\n",
    "from sklearn.tree import export_graphviz\n",
    "from sklearn.metrics import classification_report\n",
    "from sklearn.metrics import confusion_matrix\n",
    "\n",
    "import matplotlib.pyplot as plt\n",
    "%matplotlib inline\n",
    "import seaborn as sns\n",
    "\n"
   ]
  },
  {
   "cell_type": "code",
   "execution_count": 6,
   "metadata": {},
   "outputs": [
    {
     "data": {
      "text/html": [
       "<div>\n",
       "<style scoped>\n",
       "    .dataframe tbody tr th:only-of-type {\n",
       "        vertical-align: middle;\n",
       "    }\n",
       "\n",
       "    .dataframe tbody tr th {\n",
       "        vertical-align: top;\n",
       "    }\n",
       "\n",
       "    .dataframe thead th {\n",
       "        text-align: right;\n",
       "    }\n",
       "</style>\n",
       "<table border=\"1\" class=\"dataframe\">\n",
       "  <thead>\n",
       "    <tr style=\"text-align: right;\">\n",
       "      <th></th>\n",
       "      <th>Unnamed: 0</th>\n",
       "      <th>passenger_id</th>\n",
       "      <th>survived</th>\n",
       "      <th>pclass</th>\n",
       "      <th>sex</th>\n",
       "      <th>age</th>\n",
       "      <th>sibsp</th>\n",
       "      <th>parch</th>\n",
       "      <th>fare</th>\n",
       "      <th>embarked</th>\n",
       "      <th>class</th>\n",
       "      <th>deck</th>\n",
       "      <th>embark_town</th>\n",
       "      <th>alone</th>\n",
       "    </tr>\n",
       "  </thead>\n",
       "  <tbody>\n",
       "    <tr>\n",
       "      <th>0</th>\n",
       "      <td>0</td>\n",
       "      <td>0</td>\n",
       "      <td>0</td>\n",
       "      <td>3</td>\n",
       "      <td>male</td>\n",
       "      <td>22.0</td>\n",
       "      <td>1</td>\n",
       "      <td>0</td>\n",
       "      <td>7.2500</td>\n",
       "      <td>S</td>\n",
       "      <td>Third</td>\n",
       "      <td>NaN</td>\n",
       "      <td>Southampton</td>\n",
       "      <td>0</td>\n",
       "    </tr>\n",
       "    <tr>\n",
       "      <th>1</th>\n",
       "      <td>1</td>\n",
       "      <td>1</td>\n",
       "      <td>1</td>\n",
       "      <td>1</td>\n",
       "      <td>female</td>\n",
       "      <td>38.0</td>\n",
       "      <td>1</td>\n",
       "      <td>0</td>\n",
       "      <td>71.2833</td>\n",
       "      <td>C</td>\n",
       "      <td>First</td>\n",
       "      <td>C</td>\n",
       "      <td>Cherbourg</td>\n",
       "      <td>0</td>\n",
       "    </tr>\n",
       "    <tr>\n",
       "      <th>2</th>\n",
       "      <td>2</td>\n",
       "      <td>2</td>\n",
       "      <td>1</td>\n",
       "      <td>3</td>\n",
       "      <td>female</td>\n",
       "      <td>26.0</td>\n",
       "      <td>0</td>\n",
       "      <td>0</td>\n",
       "      <td>7.9250</td>\n",
       "      <td>S</td>\n",
       "      <td>Third</td>\n",
       "      <td>NaN</td>\n",
       "      <td>Southampton</td>\n",
       "      <td>1</td>\n",
       "    </tr>\n",
       "    <tr>\n",
       "      <th>3</th>\n",
       "      <td>3</td>\n",
       "      <td>3</td>\n",
       "      <td>1</td>\n",
       "      <td>1</td>\n",
       "      <td>female</td>\n",
       "      <td>35.0</td>\n",
       "      <td>1</td>\n",
       "      <td>0</td>\n",
       "      <td>53.1000</td>\n",
       "      <td>S</td>\n",
       "      <td>First</td>\n",
       "      <td>C</td>\n",
       "      <td>Southampton</td>\n",
       "      <td>0</td>\n",
       "    </tr>\n",
       "    <tr>\n",
       "      <th>4</th>\n",
       "      <td>4</td>\n",
       "      <td>4</td>\n",
       "      <td>0</td>\n",
       "      <td>3</td>\n",
       "      <td>male</td>\n",
       "      <td>35.0</td>\n",
       "      <td>0</td>\n",
       "      <td>0</td>\n",
       "      <td>8.0500</td>\n",
       "      <td>S</td>\n",
       "      <td>Third</td>\n",
       "      <td>NaN</td>\n",
       "      <td>Southampton</td>\n",
       "      <td>1</td>\n",
       "    </tr>\n",
       "  </tbody>\n",
       "</table>\n",
       "</div>"
      ],
      "text/plain": [
       "   Unnamed: 0  passenger_id  survived  pclass     sex   age  sibsp  parch  \\\n",
       "0           0             0         0       3    male  22.0      1      0   \n",
       "1           1             1         1       1  female  38.0      1      0   \n",
       "2           2             2         1       3  female  26.0      0      0   \n",
       "3           3             3         1       1  female  35.0      1      0   \n",
       "4           4             4         0       3    male  35.0      0      0   \n",
       "\n",
       "      fare embarked  class deck  embark_town  alone  \n",
       "0   7.2500        S  Third  NaN  Southampton      0  \n",
       "1  71.2833        C  First    C    Cherbourg      0  \n",
       "2   7.9250        S  Third  NaN  Southampton      1  \n",
       "3  53.1000        S  First    C  Southampton      0  \n",
       "4   8.0500        S  Third  NaN  Southampton      1  "
      ]
     },
     "execution_count": 6,
     "metadata": {},
     "output_type": "execute_result"
    }
   ],
   "source": [
    "# read titanic data\n",
    "df = pd.read_csv('titanic_df.csv')\n",
    "\n",
    "df.head()"
   ]
  },
  {
   "cell_type": "code",
   "execution_count": 8,
   "metadata": {},
   "outputs": [],
   "source": [
    "# prepare the data\n",
    "train, validate, test = prepare.prep_titanic(df)"
   ]
  },
  {
   "cell_type": "code",
   "execution_count": 9,
   "metadata": {},
   "outputs": [],
   "source": [
    "drops = ['sex', 'class','embarked', 'embark_town', 'passenger_id']\n"
   ]
  },
  {
   "cell_type": "code",
   "execution_count": 10,
   "metadata": {},
   "outputs": [
    {
     "data": {
      "text/plain": [
       "[None, None, None]"
      ]
     },
     "execution_count": 10,
     "metadata": {},
     "output_type": "execute_result"
    }
   ],
   "source": [
    "[dataset.drop(columns=drops, inplace=True) for dataset in [train, validate, test]]"
   ]
  },
  {
   "cell_type": "code",
   "execution_count": 11,
   "metadata": {},
   "outputs": [
    {
     "data": {
      "text/plain": [
       "0    549\n",
       "1    342\n",
       "Name: survived, dtype: int64"
      ]
     },
     "execution_count": 11,
     "metadata": {},
     "output_type": "execute_result"
    }
   ],
   "source": [
    "df.survived.value_counts()"
   ]
  },
  {
   "cell_type": "code",
   "execution_count": 14,
   "metadata": {},
   "outputs": [
    {
     "data": {
      "text/html": [
       "<div>\n",
       "<style scoped>\n",
       "    .dataframe tbody tr th:only-of-type {\n",
       "        vertical-align: middle;\n",
       "    }\n",
       "\n",
       "    .dataframe tbody tr th {\n",
       "        vertical-align: top;\n",
       "    }\n",
       "\n",
       "    .dataframe thead th {\n",
       "        text-align: right;\n",
       "    }\n",
       "</style>\n",
       "<table border=\"1\" class=\"dataframe\">\n",
       "  <thead>\n",
       "    <tr style=\"text-align: right;\">\n",
       "      <th></th>\n",
       "      <th>Unnamed: 0</th>\n",
       "      <th>survived</th>\n",
       "      <th>pclass</th>\n",
       "      <th>age</th>\n",
       "      <th>sibsp</th>\n",
       "      <th>parch</th>\n",
       "      <th>fare</th>\n",
       "      <th>alone</th>\n",
       "      <th>Q</th>\n",
       "      <th>S</th>\n",
       "    </tr>\n",
       "  </thead>\n",
       "  <tbody>\n",
       "    <tr>\n",
       "      <th>583</th>\n",
       "      <td>583</td>\n",
       "      <td>0</td>\n",
       "      <td>1</td>\n",
       "      <td>36.000000</td>\n",
       "      <td>0</td>\n",
       "      <td>0</td>\n",
       "      <td>40.1250</td>\n",
       "      <td>1</td>\n",
       "      <td>0</td>\n",
       "      <td>0</td>\n",
       "    </tr>\n",
       "    <tr>\n",
       "      <th>337</th>\n",
       "      <td>337</td>\n",
       "      <td>1</td>\n",
       "      <td>1</td>\n",
       "      <td>41.000000</td>\n",
       "      <td>0</td>\n",
       "      <td>0</td>\n",
       "      <td>134.5000</td>\n",
       "      <td>1</td>\n",
       "      <td>0</td>\n",
       "      <td>0</td>\n",
       "    </tr>\n",
       "    <tr>\n",
       "      <th>50</th>\n",
       "      <td>50</td>\n",
       "      <td>0</td>\n",
       "      <td>3</td>\n",
       "      <td>7.000000</td>\n",
       "      <td>4</td>\n",
       "      <td>1</td>\n",
       "      <td>39.6875</td>\n",
       "      <td>0</td>\n",
       "      <td>0</td>\n",
       "      <td>1</td>\n",
       "    </tr>\n",
       "    <tr>\n",
       "      <th>218</th>\n",
       "      <td>218</td>\n",
       "      <td>1</td>\n",
       "      <td>1</td>\n",
       "      <td>32.000000</td>\n",
       "      <td>0</td>\n",
       "      <td>0</td>\n",
       "      <td>76.2917</td>\n",
       "      <td>1</td>\n",
       "      <td>0</td>\n",
       "      <td>0</td>\n",
       "    </tr>\n",
       "    <tr>\n",
       "      <th>31</th>\n",
       "      <td>31</td>\n",
       "      <td>1</td>\n",
       "      <td>1</td>\n",
       "      <td>29.916875</td>\n",
       "      <td>1</td>\n",
       "      <td>0</td>\n",
       "      <td>146.5208</td>\n",
       "      <td>0</td>\n",
       "      <td>0</td>\n",
       "      <td>0</td>\n",
       "    </tr>\n",
       "  </tbody>\n",
       "</table>\n",
       "</div>"
      ],
      "text/plain": [
       "     Unnamed: 0  survived  pclass        age  sibsp  parch      fare  alone  \\\n",
       "583         583         0       1  36.000000      0      0   40.1250      1   \n",
       "337         337         1       1  41.000000      0      0  134.5000      1   \n",
       "50           50         0       3   7.000000      4      1   39.6875      0   \n",
       "218         218         1       1  32.000000      0      0   76.2917      1   \n",
       "31           31         1       1  29.916875      1      0  146.5208      0   \n",
       "\n",
       "     Q  S  \n",
       "583  0  0  \n",
       "337  0  0  \n",
       "50   0  1  \n",
       "218  0  0  \n",
       "31   0  0  "
      ]
     },
     "execution_count": 14,
     "metadata": {},
     "output_type": "execute_result"
    }
   ],
   "source": [
    "train.head()"
   ]
  },
  {
   "cell_type": "code",
   "execution_count": 15,
   "metadata": {},
   "outputs": [],
   "source": [
    "# getting ready to test our models...\n",
    "X_cols = ['pclass', 'age', 'alone', 'Q', 'S']\n",
    "y_col = 'survived'\n",
    "\n",
    "X_train, y_train = train[X_cols], train[y_col]\n",
    "X_validate, y_validate = validate[X_cols], validate[y_col]\n",
    "X_test, y_test = test[X_cols], test[y_col]"
   ]
  },
  {
   "cell_type": "markdown",
   "metadata": {},
   "source": [
    "1. What is your baseline prediction? What is your baseline accuracy? remember: your baseline prediction for a classification problem is predicting the most prevelant class in the training dataset (the mode). When you make those predictions, what is your accuracy? This is your baseline accuracy."
   ]
  },
  {
   "cell_type": "code",
   "execution_count": 16,
   "metadata": {},
   "outputs": [
    {
     "name": "stdout",
     "output_type": "stream",
     "text": [
      "Baseline accuracy: 0.6177\n"
     ]
    }
   ],
   "source": [
    "# 1. Create the object\n",
    "baseline = DummyClassifier(strategy='constant', constant=0)\n",
    "# 2. Fit the object\n",
    "baseline.fit(X_train, y_train)\n",
    "# how does it do on training data set?\n",
    "print('Baseline accuracy: %.4f' % baseline.score(X_train, y_train))"
   ]
  },
  {
   "cell_type": "markdown",
   "metadata": {},
   "source": [
    "2. Fit the decision tree classifier to your training sample and transform (i.e. make predictions on the training sample)"
   ]
  },
  {
   "cell_type": "code",
   "execution_count": 17,
   "metadata": {},
   "outputs": [
    {
     "data": {
      "text/plain": [
       "DecisionTreeClassifier()"
      ]
     },
     "execution_count": 17,
     "metadata": {},
     "output_type": "execute_result"
    }
   ],
   "source": [
    "model1 = DecisionTreeClassifier()\n",
    "model1.fit(X_train, y_train)"
   ]
  },
  {
   "cell_type": "code",
   "execution_count": 18,
   "metadata": {},
   "outputs": [],
   "source": [
    "train['model1_pred'] = model1.predict(X_train)"
   ]
  },
  {
   "cell_type": "code",
   "execution_count": 19,
   "metadata": {},
   "outputs": [
    {
     "data": {
      "text/html": [
       "<div>\n",
       "<style scoped>\n",
       "    .dataframe tbody tr th:only-of-type {\n",
       "        vertical-align: middle;\n",
       "    }\n",
       "\n",
       "    .dataframe tbody tr th {\n",
       "        vertical-align: top;\n",
       "    }\n",
       "\n",
       "    .dataframe thead th {\n",
       "        text-align: right;\n",
       "    }\n",
       "</style>\n",
       "<table border=\"1\" class=\"dataframe\">\n",
       "  <thead>\n",
       "    <tr style=\"text-align: right;\">\n",
       "      <th></th>\n",
       "      <th>Unnamed: 0</th>\n",
       "      <th>survived</th>\n",
       "      <th>pclass</th>\n",
       "      <th>age</th>\n",
       "      <th>sibsp</th>\n",
       "      <th>parch</th>\n",
       "      <th>fare</th>\n",
       "      <th>alone</th>\n",
       "      <th>Q</th>\n",
       "      <th>S</th>\n",
       "      <th>model1_pred</th>\n",
       "    </tr>\n",
       "  </thead>\n",
       "  <tbody>\n",
       "    <tr>\n",
       "      <th>583</th>\n",
       "      <td>583</td>\n",
       "      <td>0</td>\n",
       "      <td>1</td>\n",
       "      <td>36.000000</td>\n",
       "      <td>0</td>\n",
       "      <td>0</td>\n",
       "      <td>40.1250</td>\n",
       "      <td>1</td>\n",
       "      <td>0</td>\n",
       "      <td>0</td>\n",
       "      <td>0</td>\n",
       "    </tr>\n",
       "    <tr>\n",
       "      <th>337</th>\n",
       "      <td>337</td>\n",
       "      <td>1</td>\n",
       "      <td>1</td>\n",
       "      <td>41.000000</td>\n",
       "      <td>0</td>\n",
       "      <td>0</td>\n",
       "      <td>134.5000</td>\n",
       "      <td>1</td>\n",
       "      <td>0</td>\n",
       "      <td>0</td>\n",
       "      <td>1</td>\n",
       "    </tr>\n",
       "    <tr>\n",
       "      <th>50</th>\n",
       "      <td>50</td>\n",
       "      <td>0</td>\n",
       "      <td>3</td>\n",
       "      <td>7.000000</td>\n",
       "      <td>4</td>\n",
       "      <td>1</td>\n",
       "      <td>39.6875</td>\n",
       "      <td>0</td>\n",
       "      <td>0</td>\n",
       "      <td>1</td>\n",
       "      <td>0</td>\n",
       "    </tr>\n",
       "    <tr>\n",
       "      <th>218</th>\n",
       "      <td>218</td>\n",
       "      <td>1</td>\n",
       "      <td>1</td>\n",
       "      <td>32.000000</td>\n",
       "      <td>0</td>\n",
       "      <td>0</td>\n",
       "      <td>76.2917</td>\n",
       "      <td>1</td>\n",
       "      <td>0</td>\n",
       "      <td>0</td>\n",
       "      <td>1</td>\n",
       "    </tr>\n",
       "    <tr>\n",
       "      <th>31</th>\n",
       "      <td>31</td>\n",
       "      <td>1</td>\n",
       "      <td>1</td>\n",
       "      <td>29.916875</td>\n",
       "      <td>1</td>\n",
       "      <td>0</td>\n",
       "      <td>146.5208</td>\n",
       "      <td>0</td>\n",
       "      <td>0</td>\n",
       "      <td>0</td>\n",
       "      <td>1</td>\n",
       "    </tr>\n",
       "    <tr>\n",
       "      <th>...</th>\n",
       "      <td>...</td>\n",
       "      <td>...</td>\n",
       "      <td>...</td>\n",
       "      <td>...</td>\n",
       "      <td>...</td>\n",
       "      <td>...</td>\n",
       "      <td>...</td>\n",
       "      <td>...</td>\n",
       "      <td>...</td>\n",
       "      <td>...</td>\n",
       "      <td>...</td>\n",
       "    </tr>\n",
       "    <tr>\n",
       "      <th>313</th>\n",
       "      <td>313</td>\n",
       "      <td>0</td>\n",
       "      <td>3</td>\n",
       "      <td>28.000000</td>\n",
       "      <td>0</td>\n",
       "      <td>0</td>\n",
       "      <td>7.8958</td>\n",
       "      <td>1</td>\n",
       "      <td>0</td>\n",
       "      <td>1</td>\n",
       "      <td>0</td>\n",
       "    </tr>\n",
       "    <tr>\n",
       "      <th>636</th>\n",
       "      <td>636</td>\n",
       "      <td>0</td>\n",
       "      <td>3</td>\n",
       "      <td>32.000000</td>\n",
       "      <td>0</td>\n",
       "      <td>0</td>\n",
       "      <td>7.9250</td>\n",
       "      <td>1</td>\n",
       "      <td>0</td>\n",
       "      <td>1</td>\n",
       "      <td>1</td>\n",
       "    </tr>\n",
       "    <tr>\n",
       "      <th>222</th>\n",
       "      <td>222</td>\n",
       "      <td>0</td>\n",
       "      <td>3</td>\n",
       "      <td>51.000000</td>\n",
       "      <td>0</td>\n",
       "      <td>0</td>\n",
       "      <td>8.0500</td>\n",
       "      <td>1</td>\n",
       "      <td>0</td>\n",
       "      <td>1</td>\n",
       "      <td>0</td>\n",
       "    </tr>\n",
       "    <tr>\n",
       "      <th>485</th>\n",
       "      <td>485</td>\n",
       "      <td>0</td>\n",
       "      <td>3</td>\n",
       "      <td>29.916875</td>\n",
       "      <td>3</td>\n",
       "      <td>1</td>\n",
       "      <td>25.4667</td>\n",
       "      <td>0</td>\n",
       "      <td>0</td>\n",
       "      <td>1</td>\n",
       "      <td>0</td>\n",
       "    </tr>\n",
       "    <tr>\n",
       "      <th>553</th>\n",
       "      <td>553</td>\n",
       "      <td>1</td>\n",
       "      <td>3</td>\n",
       "      <td>22.000000</td>\n",
       "      <td>0</td>\n",
       "      <td>0</td>\n",
       "      <td>7.2250</td>\n",
       "      <td>1</td>\n",
       "      <td>0</td>\n",
       "      <td>0</td>\n",
       "      <td>0</td>\n",
       "    </tr>\n",
       "  </tbody>\n",
       "</table>\n",
       "<p>497 rows × 11 columns</p>\n",
       "</div>"
      ],
      "text/plain": [
       "     Unnamed: 0  survived  pclass        age  sibsp  parch      fare  alone  \\\n",
       "583         583         0       1  36.000000      0      0   40.1250      1   \n",
       "337         337         1       1  41.000000      0      0  134.5000      1   \n",
       "50           50         0       3   7.000000      4      1   39.6875      0   \n",
       "218         218         1       1  32.000000      0      0   76.2917      1   \n",
       "31           31         1       1  29.916875      1      0  146.5208      0   \n",
       "..          ...       ...     ...        ...    ...    ...       ...    ...   \n",
       "313         313         0       3  28.000000      0      0    7.8958      1   \n",
       "636         636         0       3  32.000000      0      0    7.9250      1   \n",
       "222         222         0       3  51.000000      0      0    8.0500      1   \n",
       "485         485         0       3  29.916875      3      1   25.4667      0   \n",
       "553         553         1       3  22.000000      0      0    7.2250      1   \n",
       "\n",
       "     Q  S  model1_pred  \n",
       "583  0  0            0  \n",
       "337  0  0            1  \n",
       "50   0  1            0  \n",
       "218  0  0            1  \n",
       "31   0  0            1  \n",
       "..  .. ..          ...  \n",
       "313  0  1            0  \n",
       "636  0  1            1  \n",
       "222  0  1            0  \n",
       "485  0  1            0  \n",
       "553  0  0            0  \n",
       "\n",
       "[497 rows x 11 columns]"
      ]
     },
     "execution_count": 19,
     "metadata": {},
     "output_type": "execute_result"
    }
   ],
   "source": [
    "train"
   ]
  },
  {
   "cell_type": "code",
   "execution_count": 20,
   "metadata": {},
   "outputs": [
    {
     "name": "stdout",
     "output_type": "stream",
     "text": [
      "training score: 87.53%\n",
      "validate score: 68.22%\n"
     ]
    }
   ],
   "source": [
    "print(f'training score: {model1.score(X_train, y_train):.2%}')\n",
    "print(f'validate score: {model1.score(X_validate, y_validate):.2%}')"
   ]
  },
  {
   "cell_type": "code",
   "execution_count": 21,
   "metadata": {},
   "outputs": [
    {
     "data": {
      "text/plain": [
       "[Text(806.1422468354431, 633.1341176470589, 'pclass <= 2.5\\ngini = 0.472\\nsamples = 497\\nvalue = [307, 190]\\nclass = died'),\n",
       " Text(425.51914556962026, 594.7623529411765, 'alone <= 0.5\\ngini = 0.493\\nsamples = 231\\nvalue = [102, 129]\\nclass = survived'),\n",
       " Text(115.21993670886077, 556.3905882352942, 'age <= 17.5\\ngini = 0.42\\nsamples = 110\\nvalue = [33, 77]\\nclass = survived'),\n",
       " Text(25.427848101265823, 518.0188235294117, 'age <= 3.0\\ngini = 0.095\\nsamples = 20\\nvalue = [1, 19]\\nclass = survived'),\n",
       " Text(16.951898734177217, 479.64705882352945, 'pclass <= 1.5\\ngini = 0.278\\nsamples = 6\\nvalue = [1, 5]\\nclass = survived'),\n",
       " Text(8.475949367088608, 441.2752941176471, 'gini = 0.0\\nsamples = 1\\nvalue = [1, 0]\\nclass = died'),\n",
       " Text(25.427848101265823, 441.2752941176471, 'gini = 0.0\\nsamples = 5\\nvalue = [0, 5]\\nclass = survived'),\n",
       " Text(33.90379746835443, 479.64705882352945, 'gini = 0.0\\nsamples = 14\\nvalue = [0, 14]\\nclass = survived'),\n",
       " Text(205.01202531645572, 518.0188235294117, 'age <= 29.458\\ngini = 0.458\\nsamples = 90\\nvalue = [32, 58]\\nclass = survived'),\n",
       " Text(75.2240506329114, 479.64705882352945, 'age <= 18.5\\ngini = 0.497\\nsamples = 28\\nvalue = [15, 13]\\nclass = died'),\n",
       " Text(42.37974683544304, 441.2752941176471, 'pclass <= 1.5\\ngini = 0.444\\nsamples = 3\\nvalue = [1, 2]\\nclass = survived'),\n",
       " Text(33.90379746835443, 402.90352941176474, 'gini = 0.0\\nsamples = 1\\nvalue = [1, 0]\\nclass = died'),\n",
       " Text(50.85569620253165, 402.90352941176474, 'gini = 0.0\\nsamples = 2\\nvalue = [0, 2]\\nclass = survived'),\n",
       " Text(108.06835443037976, 441.2752941176471, 'S <= 0.5\\ngini = 0.493\\nsamples = 25\\nvalue = [14, 11]\\nclass = died'),\n",
       " Text(67.80759493670887, 402.90352941176474, 'age <= 23.5\\ngini = 0.469\\nsamples = 8\\nvalue = [3, 5]\\nclass = survived'),\n",
       " Text(59.33164556962026, 364.5317647058824, 'gini = 0.0\\nsamples = 2\\nvalue = [0, 2]\\nclass = survived'),\n",
       " Text(76.28354430379747, 364.5317647058824, 'age <= 24.5\\ngini = 0.5\\nsamples = 6\\nvalue = [3, 3]\\nclass = died'),\n",
       " Text(67.80759493670887, 326.16, 'gini = 0.0\\nsamples = 1\\nvalue = [1, 0]\\nclass = died'),\n",
       " Text(84.75949367088609, 326.16, 'age <= 27.5\\ngini = 0.48\\nsamples = 5\\nvalue = [2, 3]\\nclass = survived'),\n",
       " Text(76.28354430379747, 287.78823529411767, 'age <= 26.0\\ngini = 0.5\\nsamples = 4\\nvalue = [2, 2]\\nclass = died'),\n",
       " Text(59.33164556962026, 249.4164705882353, 'pclass <= 1.5\\ngini = 0.5\\nsamples = 2\\nvalue = [1, 1]\\nclass = died'),\n",
       " Text(50.85569620253165, 211.04470588235296, 'gini = 0.0\\nsamples = 1\\nvalue = [0, 1]\\nclass = survived'),\n",
       " Text(67.80759493670887, 211.04470588235296, 'gini = 0.0\\nsamples = 1\\nvalue = [1, 0]\\nclass = died'),\n",
       " Text(93.23544303797469, 249.4164705882353, 'pclass <= 1.5\\ngini = 0.5\\nsamples = 2\\nvalue = [1, 1]\\nclass = died'),\n",
       " Text(84.75949367088609, 211.04470588235296, 'gini = 0.0\\nsamples = 1\\nvalue = [1, 0]\\nclass = died'),\n",
       " Text(101.7113924050633, 211.04470588235296, 'gini = 0.0\\nsamples = 1\\nvalue = [0, 1]\\nclass = survived'),\n",
       " Text(93.23544303797469, 287.78823529411767, 'gini = 0.0\\nsamples = 1\\nvalue = [0, 1]\\nclass = survived'),\n",
       " Text(148.32911392405066, 402.90352941176474, 'age <= 21.5\\ngini = 0.457\\nsamples = 17\\nvalue = [11, 6]\\nclass = died'),\n",
       " Text(127.13924050632913, 364.5317647058824, 'age <= 20.0\\ngini = 0.278\\nsamples = 6\\nvalue = [5, 1]\\nclass = died'),\n",
       " Text(118.66329113924051, 326.16, 'pclass <= 1.5\\ngini = 0.444\\nsamples = 3\\nvalue = [2, 1]\\nclass = died'),\n",
       " Text(110.18734177215191, 287.78823529411767, 'gini = 0.0\\nsamples = 1\\nvalue = [1, 0]\\nclass = died'),\n",
       " Text(127.13924050632913, 287.78823529411767, 'gini = 0.5\\nsamples = 2\\nvalue = [1, 1]\\nclass = died'),\n",
       " Text(135.61518987341773, 326.16, 'gini = 0.0\\nsamples = 3\\nvalue = [3, 0]\\nclass = died'),\n",
       " Text(169.51898734177217, 364.5317647058824, 'age <= 24.5\\ngini = 0.496\\nsamples = 11\\nvalue = [6, 5]\\nclass = died'),\n",
       " Text(152.56708860759494, 326.16, 'pclass <= 1.5\\ngini = 0.444\\nsamples = 6\\nvalue = [2, 4]\\nclass = survived'),\n",
       " Text(144.09113924050635, 287.78823529411767, 'gini = 0.0\\nsamples = 2\\nvalue = [0, 2]\\nclass = survived'),\n",
       " Text(161.04303797468356, 287.78823529411767, 'age <= 23.5\\ngini = 0.5\\nsamples = 4\\nvalue = [2, 2]\\nclass = died'),\n",
       " Text(152.56708860759494, 249.4164705882353, 'gini = 0.0\\nsamples = 1\\nvalue = [1, 0]\\nclass = died'),\n",
       " Text(169.51898734177217, 249.4164705882353, 'gini = 0.444\\nsamples = 3\\nvalue = [1, 2]\\nclass = survived'),\n",
       " Text(186.47088607594938, 326.16, 'age <= 28.5\\ngini = 0.32\\nsamples = 5\\nvalue = [4, 1]\\nclass = died'),\n",
       " Text(177.99493670886076, 287.78823529411767, 'gini = 0.0\\nsamples = 3\\nvalue = [3, 0]\\nclass = died'),\n",
       " Text(194.946835443038, 287.78823529411767, 'pclass <= 1.5\\ngini = 0.5\\nsamples = 2\\nvalue = [1, 1]\\nclass = died'),\n",
       " Text(186.47088607594938, 249.4164705882353, 'gini = 0.0\\nsamples = 1\\nvalue = [1, 0]\\nclass = died'),\n",
       " Text(203.4227848101266, 249.4164705882353, 'gini = 0.0\\nsamples = 1\\nvalue = [0, 1]\\nclass = survived'),\n",
       " Text(334.8, 479.64705882352945, 'age <= 29.958\\ngini = 0.398\\nsamples = 62\\nvalue = [17, 45]\\nclass = survived'),\n",
       " Text(326.3240506329114, 441.2752941176471, 'gini = 0.0\\nsamples = 5\\nvalue = [0, 5]\\nclass = survived'),\n",
       " Text(343.27594936708863, 441.2752941176471, 'age <= 46.5\\ngini = 0.419\\nsamples = 57\\nvalue = [17, 40]\\nclass = survived'),\n",
       " Text(288.1822784810127, 402.90352941176474, 'age <= 45.5\\ngini = 0.461\\nsamples = 36\\nvalue = [13, 23]\\nclass = survived'),\n",
       " Text(279.7063291139241, 364.5317647058824, 'pclass <= 1.5\\ngini = 0.451\\nsamples = 35\\nvalue = [12, 23]\\nclass = survived'),\n",
       " Text(254.27848101265826, 326.16, 'age <= 37.5\\ngini = 0.36\\nsamples = 17\\nvalue = [4, 13]\\nclass = survived'),\n",
       " Text(228.85063291139244, 287.78823529411767, 'age <= 35.5\\ngini = 0.18\\nsamples = 10\\nvalue = [1, 9]\\nclass = survived'),\n",
       " Text(220.37468354430382, 249.4164705882353, 'gini = 0.0\\nsamples = 5\\nvalue = [0, 5]\\nclass = survived'),\n",
       " Text(237.32658227848103, 249.4164705882353, 'S <= 0.5\\ngini = 0.32\\nsamples = 5\\nvalue = [1, 4]\\nclass = survived'),\n",
       " Text(228.85063291139244, 211.04470588235296, 'gini = 0.0\\nsamples = 1\\nvalue = [0, 1]\\nclass = survived'),\n",
       " Text(245.80253164556964, 211.04470588235296, 'age <= 36.5\\ngini = 0.375\\nsamples = 4\\nvalue = [1, 3]\\nclass = survived'),\n",
       " Text(237.32658227848103, 172.6729411764706, 'gini = 0.444\\nsamples = 3\\nvalue = [1, 2]\\nclass = survived'),\n",
       " Text(254.27848101265826, 172.6729411764706, 'gini = 0.0\\nsamples = 1\\nvalue = [0, 1]\\nclass = survived'),\n",
       " Text(279.7063291139241, 287.78823529411767, 'Q <= 0.5\\ngini = 0.49\\nsamples = 7\\nvalue = [3, 4]\\nclass = survived'),\n",
       " Text(271.23037974683547, 249.4164705882353, 'S <= 0.5\\ngini = 0.444\\nsamples = 6\\nvalue = [2, 4]\\nclass = survived'),\n",
       " Text(262.75443037974685, 211.04470588235296, 'gini = 0.0\\nsamples = 1\\nvalue = [0, 1]\\nclass = survived'),\n",
       " Text(279.7063291139241, 211.04470588235296, 'age <= 40.5\\ngini = 0.48\\nsamples = 5\\nvalue = [2, 3]\\nclass = survived'),\n",
       " Text(271.23037974683547, 172.6729411764706, 'gini = 0.5\\nsamples = 2\\nvalue = [1, 1]\\nclass = died'),\n",
       " Text(288.1822784810127, 172.6729411764706, 'age <= 44.0\\ngini = 0.444\\nsamples = 3\\nvalue = [1, 2]\\nclass = survived'),\n",
       " Text(279.7063291139241, 134.3011764705883, 'gini = 0.0\\nsamples = 1\\nvalue = [0, 1]\\nclass = survived'),\n",
       " Text(296.6582278481013, 134.3011764705883, 'gini = 0.5\\nsamples = 2\\nvalue = [1, 1]\\nclass = died'),\n",
       " Text(288.1822784810127, 249.4164705882353, 'gini = 0.0\\nsamples = 1\\nvalue = [1, 0]\\nclass = died'),\n",
       " Text(305.1341772151899, 326.16, 'S <= 0.5\\ngini = 0.494\\nsamples = 18\\nvalue = [8, 10]\\nclass = survived'),\n",
       " Text(296.6582278481013, 287.78823529411767, 'gini = 0.0\\nsamples = 1\\nvalue = [1, 0]\\nclass = died'),\n",
       " Text(313.6101265822785, 287.78823529411767, 'age <= 31.5\\ngini = 0.484\\nsamples = 17\\nvalue = [7, 10]\\nclass = survived'),\n",
       " Text(305.1341772151899, 249.4164705882353, 'gini = 0.0\\nsamples = 2\\nvalue = [0, 2]\\nclass = survived'),\n",
       " Text(322.0860759493671, 249.4164705882353, 'age <= 32.5\\ngini = 0.498\\nsamples = 15\\nvalue = [7, 8]\\nclass = survived'),\n",
       " Text(313.6101265822785, 211.04470588235296, 'gini = 0.0\\nsamples = 1\\nvalue = [1, 0]\\nclass = died'),\n",
       " Text(330.56202531645573, 211.04470588235296, 'age <= 33.5\\ngini = 0.49\\nsamples = 14\\nvalue = [6, 8]\\nclass = survived'),\n",
       " Text(322.0860759493671, 172.6729411764706, 'gini = 0.0\\nsamples = 2\\nvalue = [0, 2]\\nclass = survived'),\n",
       " Text(339.03797468354435, 172.6729411764706, 'age <= 38.5\\ngini = 0.5\\nsamples = 12\\nvalue = [6, 6]\\nclass = died'),\n",
       " Text(322.0860759493671, 134.3011764705883, 'age <= 36.25\\ngini = 0.444\\nsamples = 6\\nvalue = [4, 2]\\nclass = died'),\n",
       " Text(313.6101265822785, 95.92941176470583, 'age <= 35.0\\ngini = 0.5\\nsamples = 4\\nvalue = [2, 2]\\nclass = died'),\n",
       " Text(305.1341772151899, 57.55764705882359, 'gini = 0.444\\nsamples = 3\\nvalue = [2, 1]\\nclass = died'),\n",
       " Text(322.0860759493671, 57.55764705882359, 'gini = 0.0\\nsamples = 1\\nvalue = [0, 1]\\nclass = survived'),\n",
       " Text(330.56202531645573, 95.92941176470583, 'gini = 0.0\\nsamples = 2\\nvalue = [2, 0]\\nclass = died'),\n",
       " Text(355.9898734177215, 134.3011764705883, 'age <= 41.5\\ngini = 0.444\\nsamples = 6\\nvalue = [2, 4]\\nclass = survived'),\n",
       " Text(347.51392405063297, 95.92941176470583, 'gini = 0.0\\nsamples = 2\\nvalue = [0, 2]\\nclass = survived'),\n",
       " Text(364.46582278481014, 95.92941176470583, 'age <= 44.0\\ngini = 0.5\\nsamples = 4\\nvalue = [2, 2]\\nclass = died'),\n",
       " Text(355.9898734177215, 57.55764705882359, 'age <= 42.5\\ngini = 0.444\\nsamples = 3\\nvalue = [2, 1]\\nclass = died'),\n",
       " Text(347.51392405063297, 19.18588235294112, 'gini = 0.5\\nsamples = 2\\nvalue = [1, 1]\\nclass = died'),\n",
       " Text(364.46582278481014, 19.18588235294112, 'gini = 0.0\\nsamples = 1\\nvalue = [1, 0]\\nclass = died'),\n",
       " Text(372.94177215189876, 57.55764705882359, 'gini = 0.0\\nsamples = 1\\nvalue = [0, 1]\\nclass = survived'),\n",
       " Text(296.6582278481013, 364.5317647058824, 'gini = 0.0\\nsamples = 1\\nvalue = [1, 0]\\nclass = died'),\n",
       " Text(398.3696202531646, 402.90352941176474, 'S <= 0.5\\ngini = 0.308\\nsamples = 21\\nvalue = [4, 17]\\nclass = survived'),\n",
       " Text(381.4177215189874, 364.5317647058824, 'age <= 48.5\\ngini = 0.444\\nsamples = 9\\nvalue = [3, 6]\\nclass = survived'),\n",
       " Text(372.94177215189876, 326.16, 'gini = 0.0\\nsamples = 1\\nvalue = [0, 1]\\nclass = survived'),\n",
       " Text(389.893670886076, 326.16, 'age <= 59.0\\ngini = 0.469\\nsamples = 8\\nvalue = [3, 5]\\nclass = survived'),\n",
       " Text(381.4177215189874, 287.78823529411767, 'age <= 57.0\\ngini = 0.49\\nsamples = 7\\nvalue = [3, 4]\\nclass = survived'),\n",
       " Text(372.94177215189876, 249.4164705882353, 'age <= 51.5\\ngini = 0.444\\nsamples = 6\\nvalue = [2, 4]\\nclass = survived'),\n",
       " Text(364.46582278481014, 211.04470588235296, 'age <= 50.0\\ngini = 0.5\\nsamples = 4\\nvalue = [2, 2]\\nclass = died'),\n",
       " Text(355.9898734177215, 172.6729411764706, 'gini = 0.444\\nsamples = 3\\nvalue = [1, 2]\\nclass = survived'),\n",
       " Text(372.94177215189876, 172.6729411764706, 'gini = 0.0\\nsamples = 1\\nvalue = [1, 0]\\nclass = died'),\n",
       " Text(381.4177215189874, 211.04470588235296, 'gini = 0.0\\nsamples = 2\\nvalue = [0, 2]\\nclass = survived'),\n",
       " Text(389.893670886076, 249.4164705882353, 'gini = 0.0\\nsamples = 1\\nvalue = [1, 0]\\nclass = died'),\n",
       " Text(398.3696202531646, 287.78823529411767, 'gini = 0.0\\nsamples = 1\\nvalue = [0, 1]\\nclass = survived'),\n",
       " Text(415.3215189873418, 364.5317647058824, 'age <= 53.5\\ngini = 0.153\\nsamples = 12\\nvalue = [1, 11]\\nclass = survived'),\n",
       " Text(406.8455696202532, 326.16, 'gini = 0.0\\nsamples = 8\\nvalue = [0, 8]\\nclass = survived'),\n",
       " Text(423.7974683544304, 326.16, 'age <= 56.0\\ngini = 0.375\\nsamples = 4\\nvalue = [1, 3]\\nclass = survived'),\n",
       " Text(415.3215189873418, 287.78823529411767, 'pclass <= 1.5\\ngini = 0.5\\nsamples = 2\\nvalue = [1, 1]\\nclass = died'),\n",
       " Text(406.8455696202532, 249.4164705882353, 'gini = 0.0\\nsamples = 1\\nvalue = [1, 0]\\nclass = died'),\n",
       " Text(423.7974683544304, 249.4164705882353, 'gini = 0.0\\nsamples = 1\\nvalue = [0, 1]\\nclass = survived'),\n",
       " Text(432.273417721519, 287.78823529411767, 'gini = 0.0\\nsamples = 2\\nvalue = [0, 2]\\nclass = survived'),\n",
       " Text(735.8183544303798, 556.3905882352942, 'age <= 49.5\\ngini = 0.49\\nsamples = 121\\nvalue = [69, 52]\\nclass = died'),\n",
       " Text(632.5177215189874, 518.0188235294117, 'pclass <= 1.5\\ngini = 0.499\\nsamples = 96\\nvalue = [50, 46]\\nclass = died'),\n",
       " Text(536.1037974683545, 479.64705882352945, 'age <= 47.5\\ngini = 0.473\\nsamples = 47\\nvalue = [18, 29]\\nclass = survived'),\n",
       " Text(527.6278481012658, 441.2752941176471, 'age <= 45.25\\ngini = 0.483\\nsamples = 44\\nvalue = [18, 26]\\nclass = survived'),\n",
       " Text(519.1518987341773, 402.90352941176474, 'age <= 31.5\\ngini = 0.472\\nsamples = 42\\nvalue = [16, 26]\\nclass = survived'),\n",
       " Text(478.8911392405064, 364.5317647058824, 'age <= 28.958\\ngini = 0.497\\nsamples = 28\\nvalue = [13, 15]\\nclass = survived'),\n",
       " Text(457.7012658227849, 326.16, 'age <= 25.0\\ngini = 0.32\\nsamples = 10\\nvalue = [2, 8]\\nclass = survived'),\n",
       " Text(449.22531645569626, 287.78823529411767, 'S <= 0.5\\ngini = 0.444\\nsamples = 6\\nvalue = [2, 4]\\nclass = survived'),\n",
       " Text(440.74936708860764, 249.4164705882353, 'age <= 23.0\\ngini = 0.48\\nsamples = 5\\nvalue = [2, 3]\\nclass = survived'),\n",
       " Text(432.273417721519, 211.04470588235296, 'gini = 0.0\\nsamples = 1\\nvalue = [1, 0]\\nclass = died'),\n",
       " Text(449.22531645569626, 211.04470588235296, 'gini = 0.375\\nsamples = 4\\nvalue = [1, 3]\\nclass = survived'),\n",
       " Text(457.7012658227849, 249.4164705882353, 'gini = 0.0\\nsamples = 1\\nvalue = [0, 1]\\nclass = survived'),\n",
       " Text(466.17721518987344, 287.78823529411767, 'gini = 0.0\\nsamples = 4\\nvalue = [0, 4]\\nclass = survived'),\n",
       " Text(500.0810126582279, 326.16, 'S <= 0.5\\ngini = 0.475\\nsamples = 18\\nvalue = [11, 7]\\nclass = died'),\n",
       " Text(483.12911392405067, 287.78823529411767, 'age <= 29.958\\ngini = 0.375\\nsamples = 8\\nvalue = [6, 2]\\nclass = died'),\n",
       " Text(474.65316455696205, 249.4164705882353, 'gini = 0.278\\nsamples = 6\\nvalue = [5, 1]\\nclass = died'),\n",
       " Text(491.6050632911393, 249.4164705882353, 'gini = 0.5\\nsamples = 2\\nvalue = [1, 1]\\nclass = died'),\n",
       " Text(517.0329113924051, 287.78823529411767, 'age <= 30.5\\ngini = 0.5\\nsamples = 10\\nvalue = [5, 5]\\nclass = died'),\n",
       " Text(508.5569620253165, 249.4164705882353, 'age <= 29.958\\ngini = 0.494\\nsamples = 9\\nvalue = [4, 5]\\nclass = survived'),\n",
       " Text(500.0810126582279, 211.04470588235296, 'gini = 0.5\\nsamples = 8\\nvalue = [4, 4]\\nclass = died'),\n",
       " Text(517.0329113924051, 211.04470588235296, 'gini = 0.0\\nsamples = 1\\nvalue = [0, 1]\\nclass = survived'),\n",
       " Text(525.5088607594937, 249.4164705882353, 'gini = 0.0\\nsamples = 1\\nvalue = [1, 0]\\nclass = died'),\n",
       " Text(559.4126582278482, 364.5317647058824, 'age <= 35.5\\ngini = 0.337\\nsamples = 14\\nvalue = [3, 11]\\nclass = survived'),\n",
       " Text(550.9367088607595, 326.16, 'gini = 0.0\\nsamples = 5\\nvalue = [0, 5]\\nclass = survived'),\n",
       " Text(567.8886075949367, 326.16, 'age <= 39.0\\ngini = 0.444\\nsamples = 9\\nvalue = [3, 6]\\nclass = survived'),\n",
       " Text(550.9367088607595, 287.78823529411767, 'S <= 0.5\\ngini = 0.444\\nsamples = 3\\nvalue = [2, 1]\\nclass = died'),\n",
       " Text(542.4607594936709, 249.4164705882353, 'gini = 0.0\\nsamples = 1\\nvalue = [1, 0]\\nclass = died'),\n",
       " Text(559.4126582278482, 249.4164705882353, 'age <= 37.0\\ngini = 0.5\\nsamples = 2\\nvalue = [1, 1]\\nclass = died'),\n",
       " Text(550.9367088607595, 211.04470588235296, 'gini = 0.0\\nsamples = 1\\nvalue = [0, 1]\\nclass = survived'),\n",
       " Text(567.8886075949367, 211.04470588235296, 'gini = 0.0\\nsamples = 1\\nvalue = [1, 0]\\nclass = died'),\n",
       " Text(584.840506329114, 287.78823529411767, 'age <= 44.5\\ngini = 0.278\\nsamples = 6\\nvalue = [1, 5]\\nclass = survived'),\n",
       " Text(576.3645569620254, 249.4164705882353, 'gini = 0.0\\nsamples = 4\\nvalue = [0, 4]\\nclass = survived'),\n",
       " Text(593.3164556962026, 249.4164705882353, 'gini = 0.5\\nsamples = 2\\nvalue = [1, 1]\\nclass = died'),\n",
       " Text(536.1037974683545, 402.90352941176474, 'gini = 0.0\\nsamples = 2\\nvalue = [2, 0]\\nclass = died'),\n",
       " Text(544.5797468354431, 441.2752941176471, 'gini = 0.0\\nsamples = 3\\nvalue = [0, 3]\\nclass = survived'),\n",
       " Text(728.9316455696203, 479.64705882352945, 'age <= 40.5\\ngini = 0.453\\nsamples = 49\\nvalue = [32, 17]\\nclass = died'),\n",
       " Text(720.4556962025317, 441.2752941176471, 'Q <= 0.5\\ngini = 0.423\\nsamples = 46\\nvalue = [32, 14]\\nclass = died'),\n",
       " Text(711.979746835443, 402.90352941176474, 'age <= 31.25\\ngini = 0.411\\nsamples = 45\\nvalue = [32, 13]\\nclass = died'),\n",
       " Text(669.6, 364.5317647058824, 'age <= 22.0\\ngini = 0.367\\nsamples = 33\\nvalue = [25, 8]\\nclass = died'),\n",
       " Text(635.6962025316457, 326.16, 'age <= 18.5\\ngini = 0.49\\nsamples = 7\\nvalue = [4, 3]\\nclass = died'),\n",
       " Text(618.7443037974684, 287.78823529411767, 'age <= 17.5\\ngini = 0.375\\nsamples = 4\\nvalue = [3, 1]\\nclass = died'),\n",
       " Text(610.2683544303798, 249.4164705882353, 'age <= 16.5\\ngini = 0.5\\nsamples = 2\\nvalue = [1, 1]\\nclass = died'),\n",
       " Text(601.7924050632912, 211.04470588235296, 'gini = 0.0\\nsamples = 1\\nvalue = [1, 0]\\nclass = died'),\n",
       " Text(618.7443037974684, 211.04470588235296, 'gini = 0.0\\nsamples = 1\\nvalue = [0, 1]\\nclass = survived'),\n",
       " Text(627.220253164557, 249.4164705882353, 'gini = 0.0\\nsamples = 2\\nvalue = [2, 0]\\nclass = died'),\n",
       " Text(652.6481012658228, 287.78823529411767, 'age <= 20.0\\ngini = 0.444\\nsamples = 3\\nvalue = [1, 2]\\nclass = survived'),\n",
       " Text(644.1721518987342, 249.4164705882353, 'gini = 0.0\\nsamples = 1\\nvalue = [0, 1]\\nclass = survived'),\n",
       " Text(661.1240506329115, 249.4164705882353, 'gini = 0.5\\nsamples = 2\\nvalue = [1, 1]\\nclass = died'),\n",
       " Text(703.5037974683545, 326.16, 'S <= 0.5\\ngini = 0.311\\nsamples = 26\\nvalue = [21, 5]\\nclass = died'),\n",
       " Text(686.5518987341773, 287.78823529411767, 'age <= 26.458\\ngini = 0.5\\nsamples = 2\\nvalue = [1, 1]\\nclass = died'),\n",
       " Text(678.0759493670887, 249.4164705882353, 'gini = 0.0\\nsamples = 1\\nvalue = [0, 1]\\nclass = survived'),\n",
       " Text(695.0278481012659, 249.4164705882353, 'gini = 0.0\\nsamples = 1\\nvalue = [1, 0]\\nclass = died'),\n",
       " Text(720.4556962025317, 287.78823529411767, 'age <= 26.5\\ngini = 0.278\\nsamples = 24\\nvalue = [20, 4]\\nclass = died'),\n",
       " Text(711.979746835443, 249.4164705882353, 'gini = 0.0\\nsamples = 10\\nvalue = [10, 0]\\nclass = died'),\n",
       " Text(728.9316455696203, 249.4164705882353, 'age <= 29.958\\ngini = 0.408\\nsamples = 14\\nvalue = [10, 4]\\nclass = died'),\n",
       " Text(720.4556962025317, 211.04470588235296, 'age <= 28.958\\ngini = 0.444\\nsamples = 12\\nvalue = [8, 4]\\nclass = died'),\n",
       " Text(711.979746835443, 172.6729411764706, 'age <= 27.5\\ngini = 0.469\\nsamples = 8\\nvalue = [5, 3]\\nclass = died'),\n",
       " Text(703.5037974683545, 134.3011764705883, 'gini = 0.444\\nsamples = 3\\nvalue = [2, 1]\\nclass = died'),\n",
       " Text(720.4556962025317, 134.3011764705883, 'gini = 0.48\\nsamples = 5\\nvalue = [3, 2]\\nclass = died'),\n",
       " Text(728.9316455696203, 172.6729411764706, 'gini = 0.375\\nsamples = 4\\nvalue = [3, 1]\\nclass = died'),\n",
       " Text(737.407594936709, 211.04470588235296, 'gini = 0.0\\nsamples = 2\\nvalue = [2, 0]\\nclass = died'),\n",
       " Text(754.3594936708862, 364.5317647058824, 'age <= 37.5\\ngini = 0.486\\nsamples = 12\\nvalue = [7, 5]\\nclass = died'),\n",
       " Text(745.8835443037975, 326.16, 'age <= 32.75\\ngini = 0.5\\nsamples = 10\\nvalue = [5, 5]\\nclass = died'),\n",
       " Text(737.407594936709, 287.78823529411767, 'gini = 0.0\\nsamples = 1\\nvalue = [0, 1]\\nclass = survived'),\n",
       " Text(754.3594936708862, 287.78823529411767, 'age <= 33.5\\ngini = 0.494\\nsamples = 9\\nvalue = [5, 4]\\nclass = died'),\n",
       " Text(745.8835443037975, 249.4164705882353, 'gini = 0.0\\nsamples = 1\\nvalue = [1, 0]\\nclass = died'),\n",
       " Text(762.8354430379748, 249.4164705882353, 'age <= 34.5\\ngini = 0.5\\nsamples = 8\\nvalue = [4, 4]\\nclass = died'),\n",
       " Text(754.3594936708862, 211.04470588235296, 'gini = 0.444\\nsamples = 3\\nvalue = [1, 2]\\nclass = survived'),\n",
       " Text(771.3113924050633, 211.04470588235296, 'age <= 35.5\\ngini = 0.48\\nsamples = 5\\nvalue = [3, 2]\\nclass = died'),\n",
       " Text(762.8354430379748, 172.6729411764706, 'gini = 0.444\\nsamples = 3\\nvalue = [2, 1]\\nclass = died'),\n",
       " Text(779.787341772152, 172.6729411764706, 'gini = 0.5\\nsamples = 2\\nvalue = [1, 1]\\nclass = died'),\n",
       " Text(762.8354430379748, 326.16, 'gini = 0.0\\nsamples = 2\\nvalue = [2, 0]\\nclass = died'),\n",
       " Text(728.9316455696203, 402.90352941176474, 'gini = 0.0\\nsamples = 1\\nvalue = [0, 1]\\nclass = survived'),\n",
       " Text(737.407594936709, 441.2752941176471, 'gini = 0.0\\nsamples = 3\\nvalue = [0, 3]\\nclass = survived'),\n",
       " Text(839.1189873417723, 518.0188235294117, 'age <= 75.5\\ngini = 0.365\\nsamples = 25\\nvalue = [19, 6]\\nclass = died'),\n",
       " Text(830.6430379746836, 479.64705882352945, 'age <= 58.5\\ngini = 0.33\\nsamples = 24\\nvalue = [19, 5]\\nclass = died'),\n",
       " Text(813.6911392405063, 441.2752941176471, 'age <= 57.0\\ngini = 0.444\\nsamples = 12\\nvalue = [8, 4]\\nclass = died'),\n",
       " Text(805.2151898734178, 402.90352941176474, 'S <= 0.5\\ngini = 0.42\\nsamples = 10\\nvalue = [7, 3]\\nclass = died'),\n",
       " Text(796.7392405063292, 364.5317647058824, 'gini = 0.0\\nsamples = 1\\nvalue = [1, 0]\\nclass = died'),\n",
       " Text(813.6911392405063, 364.5317647058824, 'age <= 55.5\\ngini = 0.444\\nsamples = 9\\nvalue = [6, 3]\\nclass = died'),\n",
       " Text(805.2151898734178, 326.16, 'pclass <= 1.5\\ngini = 0.469\\nsamples = 8\\nvalue = [5, 3]\\nclass = died'),\n",
       " Text(788.2632911392406, 287.78823529411767, 'age <= 53.5\\ngini = 0.5\\nsamples = 2\\nvalue = [1, 1]\\nclass = died'),\n",
       " Text(779.787341772152, 249.4164705882353, 'gini = 0.0\\nsamples = 1\\nvalue = [0, 1]\\nclass = survived'),\n",
       " Text(796.7392405063292, 249.4164705882353, 'gini = 0.0\\nsamples = 1\\nvalue = [1, 0]\\nclass = died'),\n",
       " Text(822.167088607595, 287.78823529411767, 'age <= 54.5\\ngini = 0.444\\nsamples = 6\\nvalue = [4, 2]\\nclass = died'),\n",
       " Text(813.6911392405063, 249.4164705882353, 'age <= 51.0\\ngini = 0.32\\nsamples = 5\\nvalue = [4, 1]\\nclass = died'),\n",
       " Text(805.2151898734178, 211.04470588235296, 'gini = 0.5\\nsamples = 2\\nvalue = [1, 1]\\nclass = died'),\n",
       " Text(822.167088607595, 211.04470588235296, 'gini = 0.0\\nsamples = 3\\nvalue = [3, 0]\\nclass = died'),\n",
       " Text(830.6430379746836, 249.4164705882353, 'gini = 0.0\\nsamples = 1\\nvalue = [0, 1]\\nclass = survived'),\n",
       " Text(822.167088607595, 326.16, 'gini = 0.0\\nsamples = 1\\nvalue = [1, 0]\\nclass = died'),\n",
       " Text(822.167088607595, 402.90352941176474, 'gini = 0.5\\nsamples = 2\\nvalue = [1, 1]\\nclass = died'),\n",
       " Text(847.5949367088608, 441.2752941176471, 'pclass <= 1.5\\ngini = 0.153\\nsamples = 12\\nvalue = [11, 1]\\nclass = died'),\n",
       " Text(839.1189873417723, 402.90352941176474, 'gini = 0.0\\nsamples = 8\\nvalue = [8, 0]\\nclass = died'),\n",
       " Text(856.0708860759495, 402.90352941176474, 'age <= 64.0\\ngini = 0.375\\nsamples = 4\\nvalue = [3, 1]\\nclass = died'),\n",
       " Text(847.5949367088608, 364.5317647058824, 'age <= 60.5\\ngini = 0.5\\nsamples = 2\\nvalue = [1, 1]\\nclass = died'),\n",
       " Text(839.1189873417723, 326.16, 'gini = 0.0\\nsamples = 1\\nvalue = [1, 0]\\nclass = died'),\n",
       " Text(856.0708860759495, 326.16, 'gini = 0.0\\nsamples = 1\\nvalue = [0, 1]\\nclass = survived'),\n",
       " Text(864.546835443038, 364.5317647058824, 'gini = 0.0\\nsamples = 2\\nvalue = [2, 0]\\nclass = died'),\n",
       " Text(847.5949367088608, 479.64705882352945, 'gini = 0.0\\nsamples = 1\\nvalue = [0, 1]\\nclass = survived'),\n",
       " Text(1186.765348101266, 594.7623529411765, 'age <= 33.5\\ngini = 0.353\\nsamples = 266\\nvalue = [205, 61]\\nclass = died'),\n",
       " Text(1059.7585443037976, 556.3905882352942, 'age <= 6.5\\ngini = 0.39\\nsamples = 226\\nvalue = [166, 60]\\nclass = died'),\n",
       " Text(906.9265822784811, 518.0188235294117, 'age <= 4.5\\ngini = 0.492\\nsamples = 16\\nvalue = [7, 9]\\nclass = survived'),\n",
       " Text(898.4506329113925, 479.64705882352945, 'age <= 1.5\\ngini = 0.5\\nsamples = 14\\nvalue = [7, 7]\\nclass = died'),\n",
       " Text(881.4987341772153, 441.2752941176471, 'S <= 0.5\\ngini = 0.32\\nsamples = 5\\nvalue = [1, 4]\\nclass = survived'),\n",
       " Text(873.0227848101266, 402.90352941176474, 'gini = 0.0\\nsamples = 2\\nvalue = [0, 2]\\nclass = survived'),\n",
       " Text(889.9746835443038, 402.90352941176474, 'gini = 0.444\\nsamples = 3\\nvalue = [1, 2]\\nclass = survived'),\n",
       " Text(915.4025316455698, 441.2752941176471, 'age <= 3.5\\ngini = 0.444\\nsamples = 9\\nvalue = [6, 3]\\nclass = died'),\n",
       " Text(906.9265822784811, 402.90352941176474, 'age <= 2.5\\ngini = 0.278\\nsamples = 6\\nvalue = [5, 1]\\nclass = died'),\n",
       " Text(898.4506329113925, 364.5317647058824, 'S <= 0.5\\ngini = 0.32\\nsamples = 5\\nvalue = [4, 1]\\nclass = died'),\n",
       " Text(889.9746835443038, 326.16, 'gini = 0.0\\nsamples = 1\\nvalue = [1, 0]\\nclass = died'),\n",
       " Text(906.9265822784811, 326.16, 'gini = 0.375\\nsamples = 4\\nvalue = [3, 1]\\nclass = died'),\n",
       " Text(915.4025316455698, 364.5317647058824, 'gini = 0.0\\nsamples = 1\\nvalue = [1, 0]\\nclass = died'),\n",
       " Text(923.8784810126583, 402.90352941176474, 'gini = 0.444\\nsamples = 3\\nvalue = [1, 2]\\nclass = survived'),\n",
       " Text(915.4025316455698, 479.64705882352945, 'gini = 0.0\\nsamples = 2\\nvalue = [0, 2]\\nclass = survived'),\n",
       " Text(1212.590506329114, 518.0188235294117, 'Q <= 0.5\\ngini = 0.368\\nsamples = 210\\nvalue = [159, 51]\\nclass = died'),\n",
       " Text(1145.3126582278483, 479.64705882352945, 'age <= 30.5\\ngini = 0.336\\nsamples = 178\\nvalue = [140, 38]\\nclass = died'),\n",
       " Text(1070.0886075949368, 441.2752941176471, 'alone <= 0.5\\ngini = 0.307\\nsamples = 164\\nvalue = [133, 31]\\nclass = died'),\n",
       " Text(987.4481012658229, 402.90352941176474, 'S <= 0.5\\ngini = 0.411\\nsamples = 52\\nvalue = [37, 15]\\nclass = died'),\n",
       " Text(940.8303797468355, 364.5317647058824, 'age <= 25.0\\ngini = 0.492\\nsamples = 16\\nvalue = [9, 7]\\nclass = died'),\n",
       " Text(923.8784810126583, 326.16, 'age <= 19.0\\ngini = 0.49\\nsamples = 7\\nvalue = [3, 4]\\nclass = survived'),\n",
       " Text(915.4025316455698, 287.78823529411767, 'age <= 14.5\\ngini = 0.48\\nsamples = 5\\nvalue = [3, 2]\\nclass = died'),\n",
       " Text(906.9265822784811, 249.4164705882353, 'age <= 10.5\\ngini = 0.444\\nsamples = 3\\nvalue = [1, 2]\\nclass = survived'),\n",
       " Text(898.4506329113925, 211.04470588235296, 'gini = 0.0\\nsamples = 1\\nvalue = [1, 0]\\nclass = died'),\n",
       " Text(915.4025316455698, 211.04470588235296, 'gini = 0.0\\nsamples = 2\\nvalue = [0, 2]\\nclass = survived'),\n",
       " Text(923.8784810126583, 249.4164705882353, 'gini = 0.0\\nsamples = 2\\nvalue = [2, 0]\\nclass = died'),\n",
       " Text(932.3544303797469, 287.78823529411767, 'gini = 0.0\\nsamples = 2\\nvalue = [0, 2]\\nclass = survived'),\n",
       " Text(957.7822784810128, 326.16, 'age <= 28.0\\ngini = 0.444\\nsamples = 9\\nvalue = [6, 3]\\nclass = died'),\n",
       " Text(949.3063291139241, 287.78823529411767, 'gini = 0.0\\nsamples = 2\\nvalue = [2, 0]\\nclass = died'),\n",
       " Text(966.2582278481013, 287.78823529411767, 'age <= 29.458\\ngini = 0.49\\nsamples = 7\\nvalue = [4, 3]\\nclass = died'),\n",
       " Text(957.7822784810128, 249.4164705882353, 'gini = 0.0\\nsamples = 1\\nvalue = [0, 1]\\nclass = survived'),\n",
       " Text(974.73417721519, 249.4164705882353, 'gini = 0.444\\nsamples = 6\\nvalue = [4, 2]\\nclass = died'),\n",
       " Text(1034.0658227848103, 364.5317647058824, 'age <= 27.5\\ngini = 0.346\\nsamples = 36\\nvalue = [28, 8]\\nclass = died'),\n",
       " Text(1017.113924050633, 326.16, 'age <= 26.5\\ngini = 0.408\\nsamples = 21\\nvalue = [15, 6]\\nclass = died'),\n",
       " Text(1008.6379746835444, 287.78823529411767, 'age <= 16.5\\ngini = 0.332\\nsamples = 19\\nvalue = [15, 4]\\nclass = died'),\n",
       " Text(991.6860759493671, 249.4164705882353, 'age <= 9.5\\ngini = 0.198\\nsamples = 9\\nvalue = [8, 1]\\nclass = died'),\n",
       " Text(983.2101265822786, 211.04470588235296, 'age <= 8.0\\ngini = 0.278\\nsamples = 6\\nvalue = [5, 1]\\nclass = died'),\n",
       " Text(974.73417721519, 172.6729411764706, 'gini = 0.0\\nsamples = 1\\nvalue = [1, 0]\\nclass = died'),\n",
       " Text(991.6860759493671, 172.6729411764706, 'gini = 0.32\\nsamples = 5\\nvalue = [4, 1]\\nclass = died'),\n",
       " Text(1000.1620253164558, 211.04470588235296, 'gini = 0.0\\nsamples = 3\\nvalue = [3, 0]\\nclass = died'),\n",
       " Text(1025.5898734177217, 249.4164705882353, 'age <= 17.5\\ngini = 0.42\\nsamples = 10\\nvalue = [7, 3]\\nclass = died'),\n",
       " Text(1017.113924050633, 211.04470588235296, 'gini = 0.0\\nsamples = 1\\nvalue = [0, 1]\\nclass = survived'),\n",
       " Text(1034.0658227848103, 211.04470588235296, 'age <= 25.5\\ngini = 0.346\\nsamples = 9\\nvalue = [7, 2]\\nclass = died'),\n",
       " Text(1025.5898734177217, 172.6729411764706, 'age <= 23.0\\ngini = 0.444\\nsamples = 6\\nvalue = [4, 2]\\nclass = died'),\n",
       " Text(1017.113924050633, 134.3011764705883, 'gini = 0.0\\nsamples = 2\\nvalue = [2, 0]\\nclass = died'),\n",
       " Text(1034.0658227848103, 134.3011764705883, 'age <= 24.5\\ngini = 0.5\\nsamples = 4\\nvalue = [2, 2]\\nclass = died'),\n",
       " Text(1025.5898734177217, 95.92941176470583, 'gini = 0.0\\nsamples = 1\\nvalue = [0, 1]\\nclass = survived'),\n",
       " Text(1042.5417721518988, 95.92941176470583, 'gini = 0.444\\nsamples = 3\\nvalue = [2, 1]\\nclass = died'),\n",
       " Text(1042.5417721518988, 172.6729411764706, 'gini = 0.0\\nsamples = 3\\nvalue = [3, 0]\\nclass = died'),\n",
       " Text(1025.5898734177217, 287.78823529411767, 'gini = 0.0\\nsamples = 2\\nvalue = [0, 2]\\nclass = survived'),\n",
       " Text(1051.0177215189874, 326.16, 'age <= 29.458\\ngini = 0.231\\nsamples = 15\\nvalue = [13, 2]\\nclass = died'),\n",
       " Text(1042.5417721518988, 287.78823529411767, 'gini = 0.0\\nsamples = 4\\nvalue = [4, 0]\\nclass = died'),\n",
       " Text(1059.493670886076, 287.78823529411767, 'gini = 0.298\\nsamples = 11\\nvalue = [9, 2]\\nclass = died'),\n",
       " Text(1152.7291139240508, 402.90352941176474, 'age <= 27.5\\ngini = 0.245\\nsamples = 112\\nvalue = [96, 16]\\nclass = died'),\n",
       " Text(1127.301265822785, 364.5317647058824, 'age <= 25.5\\ngini = 0.324\\nsamples = 64\\nvalue = [51, 13]\\nclass = died'),\n",
       " Text(1101.873417721519, 326.16, 'S <= 0.5\\ngini = 0.249\\nsamples = 55\\nvalue = [47, 8]\\nclass = died'),\n",
       " Text(1076.4455696202533, 287.78823529411767, 'age <= 22.75\\ngini = 0.444\\nsamples = 3\\nvalue = [2, 1]\\nclass = died'),\n",
       " Text(1067.9696202531647, 249.4164705882353, 'gini = 0.5\\nsamples = 2\\nvalue = [1, 1]\\nclass = died'),\n",
       " Text(1084.9215189873419, 249.4164705882353, 'gini = 0.0\\nsamples = 1\\nvalue = [1, 0]\\nclass = died'),\n",
       " Text(1127.301265822785, 287.78823529411767, 'age <= 19.5\\ngini = 0.233\\nsamples = 52\\nvalue = [45, 7]\\nclass = died'),\n",
       " Text(1101.873417721519, 249.4164705882353, 'age <= 17.5\\ngini = 0.32\\nsamples = 20\\nvalue = [16, 4]\\nclass = died'),\n",
       " Text(1084.9215189873419, 211.04470588235296, 'age <= 16.5\\ngini = 0.245\\nsamples = 7\\nvalue = [6, 1]\\nclass = died'),\n",
       " Text(1076.4455696202533, 172.6729411764706, 'gini = 0.375\\nsamples = 4\\nvalue = [3, 1]\\nclass = died'),\n",
       " Text(1093.3974683544304, 172.6729411764706, 'gini = 0.0\\nsamples = 3\\nvalue = [3, 0]\\nclass = died'),\n",
       " Text(1118.8253164556963, 211.04470588235296, 'age <= 18.5\\ngini = 0.355\\nsamples = 13\\nvalue = [10, 3]\\nclass = died'),\n",
       " Text(1110.3493670886078, 172.6729411764706, 'gini = 0.408\\nsamples = 7\\nvalue = [5, 2]\\nclass = died'),\n",
       " Text(1127.301265822785, 172.6729411764706, 'gini = 0.278\\nsamples = 6\\nvalue = [5, 1]\\nclass = died'),\n",
       " Text(1152.7291139240508, 249.4164705882353, 'age <= 21.5\\ngini = 0.17\\nsamples = 32\\nvalue = [29, 3]\\nclass = died'),\n",
       " Text(1144.253164556962, 211.04470588235296, 'gini = 0.0\\nsamples = 12\\nvalue = [12, 0]\\nclass = died'),\n",
       " Text(1161.2050632911394, 211.04470588235296, 'age <= 23.5\\ngini = 0.255\\nsamples = 20\\nvalue = [17, 3]\\nclass = died'),\n",
       " Text(1144.253164556962, 172.6729411764706, 'age <= 22.5\\ngini = 0.18\\nsamples = 10\\nvalue = [9, 1]\\nclass = died'),\n",
       " Text(1135.7772151898735, 134.3011764705883, 'gini = 0.245\\nsamples = 7\\nvalue = [6, 1]\\nclass = died'),\n",
       " Text(1152.7291139240508, 134.3011764705883, 'gini = 0.0\\nsamples = 3\\nvalue = [3, 0]\\nclass = died'),\n",
       " Text(1178.1569620253165, 172.6729411764706, 'age <= 24.25\\ngini = 0.32\\nsamples = 10\\nvalue = [8, 2]\\nclass = died'),\n",
       " Text(1169.681012658228, 134.3011764705883, 'gini = 0.375\\nsamples = 4\\nvalue = [3, 1]\\nclass = died'),\n",
       " Text(1186.6329113924053, 134.3011764705883, 'age <= 24.75\\ngini = 0.278\\nsamples = 6\\nvalue = [5, 1]\\nclass = died'),\n",
       " Text(1178.1569620253165, 95.92941176470583, 'gini = 0.0\\nsamples = 1\\nvalue = [1, 0]\\nclass = died'),\n",
       " Text(1195.1088607594938, 95.92941176470583, 'gini = 0.32\\nsamples = 5\\nvalue = [4, 1]\\nclass = died'),\n",
       " Text(1152.7291139240508, 326.16, 'age <= 26.5\\ngini = 0.494\\nsamples = 9\\nvalue = [4, 5]\\nclass = survived'),\n",
       " Text(1144.253164556962, 287.78823529411767, 'gini = 0.48\\nsamples = 5\\nvalue = [3, 2]\\nclass = died'),\n",
       " Text(1161.2050632911394, 287.78823529411767, 'gini = 0.375\\nsamples = 4\\nvalue = [1, 3]\\nclass = survived'),\n",
       " Text(1178.1569620253165, 364.5317647058824, 'S <= 0.5\\ngini = 0.117\\nsamples = 48\\nvalue = [45, 3]\\nclass = died'),\n",
       " Text(1169.681012658228, 326.16, 'gini = 0.0\\nsamples = 10\\nvalue = [10, 0]\\nclass = died'),\n",
       " Text(1186.6329113924053, 326.16, 'age <= 29.208\\ngini = 0.145\\nsamples = 38\\nvalue = [35, 3]\\nclass = died'),\n",
       " Text(1178.1569620253165, 287.78823529411767, 'gini = 0.0\\nsamples = 7\\nvalue = [7, 0]\\nclass = died'),\n",
       " Text(1195.1088607594938, 287.78823529411767, 'age <= 29.958\\ngini = 0.175\\nsamples = 31\\nvalue = [28, 3]\\nclass = died'),\n",
       " Text(1186.6329113924053, 249.4164705882353, 'gini = 0.198\\nsamples = 27\\nvalue = [24, 3]\\nclass = died'),\n",
       " Text(1203.5848101265824, 249.4164705882353, 'gini = 0.0\\nsamples = 4\\nvalue = [4, 0]\\nclass = died'),\n",
       " Text(1220.5367088607595, 441.2752941176471, 'age <= 32.5\\ngini = 0.5\\nsamples = 14\\nvalue = [7, 7]\\nclass = died'),\n",
       " Text(1203.5848101265824, 402.90352941176474, 'age <= 31.5\\ngini = 0.48\\nsamples = 10\\nvalue = [4, 6]\\nclass = survived'),\n",
       " Text(1195.1088607594938, 364.5317647058824, 'gini = 0.444\\nsamples = 3\\nvalue = [1, 2]\\nclass = survived'),\n",
       " Text(1212.060759493671, 364.5317647058824, 'gini = 0.49\\nsamples = 7\\nvalue = [3, 4]\\nclass = survived'),\n",
       " Text(1237.4886075949369, 402.90352941176474, 'alone <= 0.5\\ngini = 0.375\\nsamples = 4\\nvalue = [3, 1]\\nclass = died'),\n",
       " Text(1229.0126582278483, 364.5317647058824, 'gini = 0.5\\nsamples = 2\\nvalue = [1, 1]\\nclass = died'),\n",
       " Text(1245.9645569620254, 364.5317647058824, 'gini = 0.0\\nsamples = 2\\nvalue = [2, 0]\\nclass = died'),\n",
       " Text(1279.86835443038, 479.64705882352945, 'age <= 17.0\\ngini = 0.482\\nsamples = 32\\nvalue = [19, 13]\\nclass = died'),\n",
       " Text(1262.9164556962025, 441.2752941176471, 'alone <= 0.5\\ngini = 0.375\\nsamples = 4\\nvalue = [1, 3]\\nclass = survived'),\n",
       " Text(1254.440506329114, 402.90352941176474, 'gini = 0.0\\nsamples = 1\\nvalue = [1, 0]\\nclass = died'),\n",
       " Text(1271.3924050632913, 402.90352941176474, 'gini = 0.0\\nsamples = 3\\nvalue = [0, 3]\\nclass = survived'),\n",
       " Text(1296.820253164557, 441.2752941176471, 'alone <= 0.5\\ngini = 0.459\\nsamples = 28\\nvalue = [18, 10]\\nclass = died'),\n",
       " Text(1288.3443037974685, 402.90352941176474, 'gini = 0.0\\nsamples = 2\\nvalue = [0, 2]\\nclass = survived'),\n",
       " Text(1305.2962025316456, 402.90352941176474, 'age <= 21.5\\ngini = 0.426\\nsamples = 26\\nvalue = [18, 8]\\nclass = died'),\n",
       " Text(1296.820253164557, 364.5317647058824, 'gini = 0.0\\nsamples = 4\\nvalue = [4, 0]\\nclass = died'),\n",
       " Text(1313.7721518987344, 364.5317647058824, 'age <= 23.5\\ngini = 0.463\\nsamples = 22\\nvalue = [14, 8]\\nclass = died'),\n",
       " Text(1305.2962025316456, 326.16, 'gini = 0.0\\nsamples = 1\\nvalue = [0, 1]\\nclass = survived'),\n",
       " Text(1322.248101265823, 326.16, 'age <= 30.458\\ngini = 0.444\\nsamples = 21\\nvalue = [14, 7]\\nclass = died'),\n",
       " Text(1313.7721518987344, 287.78823529411767, 'age <= 27.458\\ngini = 0.465\\nsamples = 19\\nvalue = [12, 7]\\nclass = died'),\n",
       " Text(1305.2962025316456, 249.4164705882353, 'gini = 0.0\\nsamples = 1\\nvalue = [1, 0]\\nclass = died'),\n",
       " Text(1322.248101265823, 249.4164705882353, 'gini = 0.475\\nsamples = 18\\nvalue = [11, 7]\\nclass = died'),\n",
       " Text(1330.7240506329115, 287.78823529411767, 'gini = 0.0\\nsamples = 2\\nvalue = [2, 0]\\nclass = died'),\n",
       " Text(1313.7721518987344, 556.3905882352942, 'alone <= 0.5\\ngini = 0.049\\nsamples = 40\\nvalue = [39, 1]\\nclass = died'),\n",
       " Text(1305.2962025316456, 518.0188235294117, 'age <= 36.5\\ngini = 0.153\\nsamples = 12\\nvalue = [11, 1]\\nclass = died'),\n",
       " Text(1296.820253164557, 479.64705882352945, 'gini = 0.444\\nsamples = 3\\nvalue = [2, 1]\\nclass = died'),\n",
       " Text(1313.7721518987344, 479.64705882352945, 'gini = 0.0\\nsamples = 9\\nvalue = [9, 0]\\nclass = died'),\n",
       " Text(1322.248101265823, 518.0188235294117, 'gini = 0.0\\nsamples = 28\\nvalue = [28, 0]\\nclass = died')]"
      ]
     },
     "execution_count": 21,
     "metadata": {},
     "output_type": "execute_result"
    },
    {
     "data": {
      "image/png": "[encoded data removed]",
      "text/plain": [
       "<Figure size 1728x864 with 1 Axes>"
      ]
     },
     "metadata": {
      "needs_background": "light"
     },
     "output_type": "display_data"
    }
   ],
   "source": [
    "import matplotlib.pyplot as plt\n",
    "plt.figure(figsize=(24,12))\n",
    "plot_tree(\n",
    "    model1,\n",
    "    feature_names=X_train.columns.tolist(),\n",
    "    class_names=['died', 'survived'],\n",
    ")"
   ]
  },
  {
   "cell_type": "markdown",
   "metadata": {},
   "source": [
    "3. Evaluate your in-sample results using the model score, confusion matrix, and classification report."
   ]
  },
  {
   "cell_type": "code",
   "execution_count": 22,
   "metadata": {},
   "outputs": [],
   "source": [
    "train['prediction'] = model1.predict(X_train)"
   ]
  },
  {
   "cell_type": "code",
   "execution_count": 23,
   "metadata": {},
   "outputs": [
    {
     "data": {
      "text/plain": [
       "583    0\n",
       "337    1\n",
       "50     0\n",
       "218    1\n",
       "31     1\n",
       "Name: prediction, dtype: int64"
      ]
     },
     "execution_count": 23,
     "metadata": {},
     "output_type": "execute_result"
    }
   ],
   "source": [
    "train['prediction'].head()"
   ]
  },
  {
   "cell_type": "markdown",
   "metadata": {},
   "source": [
    "4. Compute: Accuracy, true positive rate, false positive rate, true negative rate, false negative rate, precision, recall, f1-score, and support."
   ]
  },
  {
   "cell_type": "code",
   "execution_count": 24,
   "metadata": {},
   "outputs": [
    {
     "data": {
      "text/html": [
       "<div>\n",
       "<style scoped>\n",
       "    .dataframe tbody tr th:only-of-type {\n",
       "        vertical-align: middle;\n",
       "    }\n",
       "\n",
       "    .dataframe tbody tr th {\n",
       "        vertical-align: top;\n",
       "    }\n",
       "\n",
       "    .dataframe thead th {\n",
       "        text-align: right;\n",
       "    }\n",
       "</style>\n",
       "<table border=\"1\" class=\"dataframe\">\n",
       "  <thead>\n",
       "    <tr style=\"text-align: right;\">\n",
       "      <th></th>\n",
       "      <th>0</th>\n",
       "      <th>1</th>\n",
       "    </tr>\n",
       "  </thead>\n",
       "  <tbody>\n",
       "    <tr>\n",
       "      <th>actual death</th>\n",
       "      <td>295</td>\n",
       "      <td>12</td>\n",
       "    </tr>\n",
       "    <tr>\n",
       "      <th>actual survived</th>\n",
       "      <td>50</td>\n",
       "      <td>140</td>\n",
       "    </tr>\n",
       "  </tbody>\n",
       "</table>\n",
       "</div>"
      ],
      "text/plain": [
       "                   0    1\n",
       "actual death     295   12\n",
       "actual survived   50  140"
      ]
     },
     "execution_count": 24,
     "metadata": {},
     "output_type": "execute_result"
    }
   ],
   "source": [
    "pd.DataFrame(confusion_matrix(train.survived, train.prediction), index=['actual death', 'actual survived'])"
   ]
  },
  {
   "cell_type": "code",
   "execution_count": 25,
   "metadata": {},
   "outputs": [],
   "source": [
    "rubric_df = pd.DataFrame([['True Negative', 'False positive'], ['False Negative', 'True Positive']], columns=['pred death', 'pred survived'])"
   ]
  },
  {
   "cell_type": "code",
   "execution_count": 87,
   "metadata": {
    "scrolled": true
   },
   "outputs": [
    {
     "data": {
      "text/html": [
       "<div>\n",
       "<style scoped>\n",
       "    .dataframe tbody tr th:only-of-type {\n",
       "        vertical-align: middle;\n",
       "    }\n",
       "\n",
       "    .dataframe tbody tr th {\n",
       "        vertical-align: top;\n",
       "    }\n",
       "\n",
       "    .dataframe thead th {\n",
       "        text-align: right;\n",
       "    }\n",
       "</style>\n",
       "<table border=\"1\" class=\"dataframe\">\n",
       "  <thead>\n",
       "    <tr style=\"text-align: right;\">\n",
       "      <th></th>\n",
       "      <th>pred death</th>\n",
       "      <th>pred survived</th>\n",
       "    </tr>\n",
       "  </thead>\n",
       "  <tbody>\n",
       "    <tr>\n",
       "      <th>0</th>\n",
       "      <td>True Negative: 295</td>\n",
       "      <td>False positive: 12</td>\n",
       "    </tr>\n",
       "    <tr>\n",
       "      <th>1</th>\n",
       "      <td>False Negative: 50</td>\n",
       "      <td>True Positive: 140</td>\n",
       "    </tr>\n",
       "  </tbody>\n",
       "</table>\n",
       "</div>"
      ],
      "text/plain": [
       "           pred death       pred survived\n",
       "0  True Negative: 295  False positive: 12\n",
       "1  False Negative: 50  True Positive: 140"
      ]
     },
     "execution_count": 87,
     "metadata": {},
     "output_type": "execute_result"
    }
   ],
   "source": [
    "rubric_df + ': ' + confusion_matrix(train.survived, train.prediction).astype(str)"
   ]
  },
  {
   "cell_type": "code",
   "execution_count": 28,
   "metadata": {},
   "outputs": [],
   "source": [
    "tp = 140\n",
    "tn = 295\n",
    "fp = 12\n",
    "fn = 50\n",
    "tpr = tp/(tp+fn)\n",
    "fpr = fp/(fp+tn)\n",
    "tnr = tn/(tn+fp)\n",
    "fnr = fn/(fn+tp)"
   ]
  },
  {
   "cell_type": "code",
   "execution_count": 29,
   "metadata": {},
   "outputs": [],
   "source": [
    "classification = pd.DataFrame(classification_report(train.survived, train.prediction, output_dict=True))"
   ]
  },
  {
   "cell_type": "code",
   "execution_count": 30,
   "metadata": {},
   "outputs": [
    {
     "data": {
      "text/html": [
       "<div>\n",
       "<style scoped>\n",
       "    .dataframe tbody tr th:only-of-type {\n",
       "        vertical-align: middle;\n",
       "    }\n",
       "\n",
       "    .dataframe tbody tr th {\n",
       "        vertical-align: top;\n",
       "    }\n",
       "\n",
       "    .dataframe thead th {\n",
       "        text-align: right;\n",
       "    }\n",
       "</style>\n",
       "<table border=\"1\" class=\"dataframe\">\n",
       "  <thead>\n",
       "    <tr style=\"text-align: right;\">\n",
       "      <th></th>\n",
       "      <th>0</th>\n",
       "      <th>1</th>\n",
       "      <th>accuracy</th>\n",
       "      <th>macro avg</th>\n",
       "      <th>weighted avg</th>\n",
       "    </tr>\n",
       "  </thead>\n",
       "  <tbody>\n",
       "    <tr>\n",
       "      <th>precision</th>\n",
       "      <td>0.855072</td>\n",
       "      <td>0.921053</td>\n",
       "      <td>0.875252</td>\n",
       "      <td>0.888063</td>\n",
       "      <td>0.880296</td>\n",
       "    </tr>\n",
       "    <tr>\n",
       "      <th>recall</th>\n",
       "      <td>0.960912</td>\n",
       "      <td>0.736842</td>\n",
       "      <td>0.875252</td>\n",
       "      <td>0.848877</td>\n",
       "      <td>0.875252</td>\n",
       "    </tr>\n",
       "    <tr>\n",
       "      <th>f1-score</th>\n",
       "      <td>0.904908</td>\n",
       "      <td>0.818713</td>\n",
       "      <td>0.875252</td>\n",
       "      <td>0.861811</td>\n",
       "      <td>0.871956</td>\n",
       "    </tr>\n",
       "    <tr>\n",
       "      <th>support</th>\n",
       "      <td>307.000000</td>\n",
       "      <td>190.000000</td>\n",
       "      <td>0.875252</td>\n",
       "      <td>497.000000</td>\n",
       "      <td>497.000000</td>\n",
       "    </tr>\n",
       "  </tbody>\n",
       "</table>\n",
       "</div>"
      ],
      "text/plain": [
       "                    0           1  accuracy   macro avg  weighted avg\n",
       "precision    0.855072    0.921053  0.875252    0.888063      0.880296\n",
       "recall       0.960912    0.736842  0.875252    0.848877      0.875252\n",
       "f1-score     0.904908    0.818713  0.875252    0.861811      0.871956\n",
       "support    307.000000  190.000000  0.875252  497.000000    497.000000"
      ]
     },
     "execution_count": 30,
     "metadata": {},
     "output_type": "execute_result"
    }
   ],
   "source": [
    "classification"
   ]
  },
  {
   "cell_type": "code",
   "execution_count": 31,
   "metadata": {},
   "outputs": [
    {
     "name": "stdout",
     "output_type": "stream",
     "text": [
      "The overall Accuracy is 87.53%\n",
      "The True Positive rate is 73.68%\n",
      "The False Positive rate is 3.91%\n",
      "The True Negative rate is 96.09%\n",
      "The False Negative rate is 26.32%\n",
      "Precision for tree 1 is 92.11%\n",
      "Recall for tree 1 is 73.68%\n"
     ]
    }
   ],
   "source": [
    "# accuracy\n",
    "accuracy_1 = (train.survived == train.prediction).mean()\n",
    "# Precision\n",
    "subset = train[train.prediction == 1]\n",
    "precision_t1 = (subset.prediction == subset.survived).mean()\n",
    "# Recall\n",
    "subset = train[train.survived == 1]\n",
    "recall_t1 = (subset.prediction == subset.survived).mean()\n",
    "# f1-score\n",
    "\n",
    "print(f'The overall Accuracy is {accuracy_1:.2%}')\n",
    "print(f'The True Positive rate is {tpr:.2%}')\n",
    "print(f'The False Positive rate is {fpr:.2%}')\n",
    "print(f'The True Negative rate is {tnr:.2%}')\n",
    "print(f'The False Negative rate is {fnr:.2%}')\n",
    "print(f'Precision for tree 1 is {precision_t1:.2%}')\n",
    "print(f'Recall for tree 1 is {recall_t1:.2%}')"
   ]
  },
  {
   "cell_type": "markdown",
   "metadata": {},
   "source": [
    "5. Run through steps 2-4 using a different max_depth value."
   ]
  },
  {
   "cell_type": "code",
   "execution_count": 32,
   "metadata": {},
   "outputs": [
    {
     "data": {
      "text/plain": [
       "DecisionTreeClassifier(max_depth=2)"
      ]
     },
     "execution_count": 32,
     "metadata": {},
     "output_type": "execute_result"
    }
   ],
   "source": [
    "model2 = DecisionTreeClassifier(max_depth = 2)\n",
    "model2.fit(X_train, y_train)"
   ]
  },
  {
   "cell_type": "code",
   "execution_count": 33,
   "metadata": {},
   "outputs": [
    {
     "data": {
      "image/png": "[encoded data removed]",
      "text/plain": [
       "<Figure size 3600x2880 with 1 Axes>"
      ]
     },
     "metadata": {
      "needs_background": "light"
     },
     "output_type": "display_data"
    }
   ],
   "source": [
    "plt.figure(figsize = [50,40])\n",
    "plt.show(plot_tree(model2))"
   ]
  },
  {
   "cell_type": "code",
   "execution_count": 34,
   "metadata": {},
   "outputs": [
    {
     "data": {
      "text/html": [
       "<div>\n",
       "<style scoped>\n",
       "    .dataframe tbody tr th:only-of-type {\n",
       "        vertical-align: middle;\n",
       "    }\n",
       "\n",
       "    .dataframe tbody tr th {\n",
       "        vertical-align: top;\n",
       "    }\n",
       "\n",
       "    .dataframe thead th {\n",
       "        text-align: right;\n",
       "    }\n",
       "</style>\n",
       "<table border=\"1\" class=\"dataframe\">\n",
       "  <thead>\n",
       "    <tr style=\"text-align: right;\">\n",
       "      <th></th>\n",
       "      <th>Unnamed: 0</th>\n",
       "      <th>survived</th>\n",
       "      <th>pclass</th>\n",
       "      <th>age</th>\n",
       "      <th>sibsp</th>\n",
       "      <th>parch</th>\n",
       "      <th>fare</th>\n",
       "      <th>alone</th>\n",
       "      <th>Q</th>\n",
       "      <th>S</th>\n",
       "      <th>model1_pred</th>\n",
       "      <th>prediction</th>\n",
       "      <th>model2_pred</th>\n",
       "    </tr>\n",
       "  </thead>\n",
       "  <tbody>\n",
       "    <tr>\n",
       "      <th>583</th>\n",
       "      <td>583</td>\n",
       "      <td>0</td>\n",
       "      <td>1</td>\n",
       "      <td>36.000000</td>\n",
       "      <td>0</td>\n",
       "      <td>0</td>\n",
       "      <td>40.1250</td>\n",
       "      <td>1</td>\n",
       "      <td>0</td>\n",
       "      <td>0</td>\n",
       "      <td>0</td>\n",
       "      <td>0</td>\n",
       "      <td>0</td>\n",
       "    </tr>\n",
       "    <tr>\n",
       "      <th>337</th>\n",
       "      <td>337</td>\n",
       "      <td>1</td>\n",
       "      <td>1</td>\n",
       "      <td>41.000000</td>\n",
       "      <td>0</td>\n",
       "      <td>0</td>\n",
       "      <td>134.5000</td>\n",
       "      <td>1</td>\n",
       "      <td>0</td>\n",
       "      <td>0</td>\n",
       "      <td>1</td>\n",
       "      <td>1</td>\n",
       "      <td>0</td>\n",
       "    </tr>\n",
       "    <tr>\n",
       "      <th>50</th>\n",
       "      <td>50</td>\n",
       "      <td>0</td>\n",
       "      <td>3</td>\n",
       "      <td>7.000000</td>\n",
       "      <td>4</td>\n",
       "      <td>1</td>\n",
       "      <td>39.6875</td>\n",
       "      <td>0</td>\n",
       "      <td>0</td>\n",
       "      <td>1</td>\n",
       "      <td>0</td>\n",
       "      <td>0</td>\n",
       "      <td>0</td>\n",
       "    </tr>\n",
       "    <tr>\n",
       "      <th>218</th>\n",
       "      <td>218</td>\n",
       "      <td>1</td>\n",
       "      <td>1</td>\n",
       "      <td>32.000000</td>\n",
       "      <td>0</td>\n",
       "      <td>0</td>\n",
       "      <td>76.2917</td>\n",
       "      <td>1</td>\n",
       "      <td>0</td>\n",
       "      <td>0</td>\n",
       "      <td>1</td>\n",
       "      <td>1</td>\n",
       "      <td>0</td>\n",
       "    </tr>\n",
       "    <tr>\n",
       "      <th>31</th>\n",
       "      <td>31</td>\n",
       "      <td>1</td>\n",
       "      <td>1</td>\n",
       "      <td>29.916875</td>\n",
       "      <td>1</td>\n",
       "      <td>0</td>\n",
       "      <td>146.5208</td>\n",
       "      <td>0</td>\n",
       "      <td>0</td>\n",
       "      <td>0</td>\n",
       "      <td>1</td>\n",
       "      <td>1</td>\n",
       "      <td>1</td>\n",
       "    </tr>\n",
       "  </tbody>\n",
       "</table>\n",
       "</div>"
      ],
      "text/plain": [
       "     Unnamed: 0  survived  pclass        age  sibsp  parch      fare  alone  \\\n",
       "583         583         0       1  36.000000      0      0   40.1250      1   \n",
       "337         337         1       1  41.000000      0      0  134.5000      1   \n",
       "50           50         0       3   7.000000      4      1   39.6875      0   \n",
       "218         218         1       1  32.000000      0      0   76.2917      1   \n",
       "31           31         1       1  29.916875      1      0  146.5208      0   \n",
       "\n",
       "     Q  S  model1_pred  prediction  model2_pred  \n",
       "583  0  0            0           0            0  \n",
       "337  0  0            1           1            0  \n",
       "50   0  1            0           0            0  \n",
       "218  0  0            1           1            0  \n",
       "31   0  0            1           1            1  "
      ]
     },
     "execution_count": 34,
     "metadata": {},
     "output_type": "execute_result"
    }
   ],
   "source": [
    "train['model2_pred'] = model2.predict(X_train)\n",
    "train.head()"
   ]
  },
  {
   "cell_type": "code",
   "execution_count": 40,
   "metadata": {},
   "outputs": [
    {
     "data": {
      "text/html": [
       "<div>\n",
       "<style scoped>\n",
       "    .dataframe tbody tr th:only-of-type {\n",
       "        vertical-align: middle;\n",
       "    }\n",
       "\n",
       "    .dataframe tbody tr th {\n",
       "        vertical-align: top;\n",
       "    }\n",
       "\n",
       "    .dataframe thead th {\n",
       "        text-align: right;\n",
       "    }\n",
       "</style>\n",
       "<table border=\"1\" class=\"dataframe\">\n",
       "  <thead>\n",
       "    <tr style=\"text-align: right;\">\n",
       "      <th></th>\n",
       "      <th>Unnamed: 0</th>\n",
       "      <th>survived</th>\n",
       "      <th>pclass</th>\n",
       "      <th>age</th>\n",
       "      <th>sibsp</th>\n",
       "      <th>parch</th>\n",
       "      <th>fare</th>\n",
       "      <th>alone</th>\n",
       "      <th>Q</th>\n",
       "      <th>S</th>\n",
       "      <th>model2_pred</th>\n",
       "    </tr>\n",
       "  </thead>\n",
       "  <tbody>\n",
       "    <tr>\n",
       "      <th>610</th>\n",
       "      <td>610</td>\n",
       "      <td>0</td>\n",
       "      <td>3</td>\n",
       "      <td>39.000000</td>\n",
       "      <td>1</td>\n",
       "      <td>5</td>\n",
       "      <td>31.2750</td>\n",
       "      <td>0</td>\n",
       "      <td>0</td>\n",
       "      <td>1</td>\n",
       "      <td>0</td>\n",
       "    </tr>\n",
       "    <tr>\n",
       "      <th>424</th>\n",
       "      <td>424</td>\n",
       "      <td>0</td>\n",
       "      <td>3</td>\n",
       "      <td>18.000000</td>\n",
       "      <td>1</td>\n",
       "      <td>1</td>\n",
       "      <td>20.2125</td>\n",
       "      <td>0</td>\n",
       "      <td>0</td>\n",
       "      <td>1</td>\n",
       "      <td>0</td>\n",
       "    </tr>\n",
       "    <tr>\n",
       "      <th>568</th>\n",
       "      <td>568</td>\n",
       "      <td>0</td>\n",
       "      <td>3</td>\n",
       "      <td>29.916875</td>\n",
       "      <td>0</td>\n",
       "      <td>0</td>\n",
       "      <td>7.2292</td>\n",
       "      <td>1</td>\n",
       "      <td>0</td>\n",
       "      <td>0</td>\n",
       "      <td>0</td>\n",
       "    </tr>\n",
       "    <tr>\n",
       "      <th>701</th>\n",
       "      <td>701</td>\n",
       "      <td>1</td>\n",
       "      <td>1</td>\n",
       "      <td>35.000000</td>\n",
       "      <td>0</td>\n",
       "      <td>0</td>\n",
       "      <td>26.2875</td>\n",
       "      <td>1</td>\n",
       "      <td>0</td>\n",
       "      <td>1</td>\n",
       "      <td>0</td>\n",
       "    </tr>\n",
       "    <tr>\n",
       "      <th>101</th>\n",
       "      <td>101</td>\n",
       "      <td>0</td>\n",
       "      <td>3</td>\n",
       "      <td>29.916875</td>\n",
       "      <td>0</td>\n",
       "      <td>0</td>\n",
       "      <td>7.8958</td>\n",
       "      <td>1</td>\n",
       "      <td>0</td>\n",
       "      <td>1</td>\n",
       "      <td>0</td>\n",
       "    </tr>\n",
       "  </tbody>\n",
       "</table>\n",
       "</div>"
      ],
      "text/plain": [
       "     Unnamed: 0  survived  pclass        age  sibsp  parch     fare  alone  Q  \\\n",
       "610         610         0       3  39.000000      1      5  31.2750      0  0   \n",
       "424         424         0       3  18.000000      1      1  20.2125      0  0   \n",
       "568         568         0       3  29.916875      0      0   7.2292      1  0   \n",
       "701         701         1       1  35.000000      0      0  26.2875      1  0   \n",
       "101         101         0       3  29.916875      0      0   7.8958      1  0   \n",
       "\n",
       "     S  model2_pred  \n",
       "610  1            0  \n",
       "424  1            0  \n",
       "568  0            0  \n",
       "701  1            0  \n",
       "101  1            0  "
      ]
     },
     "execution_count": 40,
     "metadata": {},
     "output_type": "execute_result"
    }
   ],
   "source": [
    "validate['model2_pred'] = model2.predict(X_validate)\n",
    "validate.head()"
   ]
  },
  {
   "cell_type": "code",
   "execution_count": 41,
   "metadata": {},
   "outputs": [
    {
     "name": "stdout",
     "output_type": "stream",
     "text": [
      "              precision    recall  f1-score   support\n",
      "\n",
      "           0       0.71      0.89      0.79       307\n",
      "           1       0.70      0.41      0.51       190\n",
      "\n",
      "    accuracy                           0.71       497\n",
      "   macro avg       0.70      0.65      0.65       497\n",
      "weighted avg       0.70      0.71      0.68       497\n",
      "\n"
     ]
    }
   ],
   "source": [
    "print(classification_report(train.survived, train.model2_pred))\n"
   ]
  },
  {
   "cell_type": "code",
   "execution_count": 42,
   "metadata": {},
   "outputs": [
    {
     "name": "stdout",
     "output_type": "stream",
     "text": [
      "Train model is 70.62%\n",
      "Validate model is 69.16%\n"
     ]
    }
   ],
   "source": [
    "print(f'Train model is {model2.score(X_train, y_train):.2%}')\n",
    "print(f'Validate model is {model2.score(X_validate, y_validate):.2%}')"
   ]
  },
  {
   "cell_type": "code",
   "execution_count": 43,
   "metadata": {},
   "outputs": [
    {
     "data": {
      "text/plain": [
       "array([[274,  33],\n",
       "       [113,  77]])"
      ]
     },
     "execution_count": 43,
     "metadata": {},
     "output_type": "execute_result"
    }
   ],
   "source": [
    "\n",
    "confusion_matrix(train.survived, train.model2_pred)"
   ]
  },
  {
   "cell_type": "code",
   "execution_count": 44,
   "metadata": {},
   "outputs": [
    {
     "name": "stdout",
     "output_type": "stream",
     "text": [
      "              precision    recall  f1-score   support\n",
      "\n",
      "           0       0.69      0.91      0.78       132\n",
      "           1       0.70      0.34      0.46        82\n",
      "\n",
      "    accuracy                           0.69       214\n",
      "   macro avg       0.69      0.63      0.62       214\n",
      "weighted avg       0.69      0.69      0.66       214\n",
      "\n"
     ]
    }
   ],
   "source": [
    "print(classification_report(validate.survived, validate.model2_pred))"
   ]
  },
  {
   "cell_type": "code",
   "execution_count": 45,
   "metadata": {},
   "outputs": [
    {
     "data": {
      "text/plain": [
       "array([[120,  12],\n",
       "       [ 54,  28]])"
      ]
     },
     "execution_count": 45,
     "metadata": {},
     "output_type": "execute_result"
    }
   ],
   "source": [
    "val_matrix2 = confusion_matrix(validate.survived, validate.model2_pred)\n",
    "val_matrix2"
   ]
  },
  {
   "cell_type": "code",
   "execution_count": 46,
   "metadata": {},
   "outputs": [
    {
     "name": "stdout",
     "output_type": "stream",
     "text": [
      "Validate model accuracy is 69.16%\n"
     ]
    }
   ],
   "source": [
    "print(f'Validate model accuracy is {model2.score(X_validate, y_validate):.2%}')"
   ]
  },
  {
   "cell_type": "code",
   "execution_count": 47,
   "metadata": {},
   "outputs": [
    {
     "name": "stdout",
     "output_type": "stream",
     "text": [
      "True positive rate is 34.15%\n",
      "False positive rate is 9.09%\n",
      "True negative rate is 90.91%\n",
      "False negative rate is 90.91%\n"
     ]
    }
   ],
   "source": [
    "tpr2 = val_matrix2[1,1] / (val_matrix2[1,1] + val_matrix2[1,0])\n",
    "fpr2 = val_matrix2[0,1] / (val_matrix2[0,1] + val_matrix2[0,0])\n",
    "tnr2 = val_matrix2[0,0] / (val_matrix2[0,0] + val_matrix2[0,1])\n",
    "fnr2 = val_matrix2[1,0] / (val_matrix2[1,1] + val_matrix2[1,0])\n",
    "print(f'True positive rate is {tpr2:.2%}')\n",
    "print(f'False positive rate is {fpr2:.2%}')\n",
    "print(f'True negative rate is {tnr2:.2%}')\n",
    "print(f'False negative rate is {tnr2:.2%}')"
   ]
  },
  {
   "cell_type": "code",
   "execution_count": null,
   "metadata": {},
   "outputs": [],
   "source": []
  },
  {
   "cell_type": "markdown",
   "metadata": {},
   "source": [
    "6. Which model performs better on your in-sample data?"
   ]
  },
  {
   "cell_type": "code",
   "execution_count": null,
   "metadata": {},
   "outputs": [],
   "source": [
    "t_matrix1 = confusion_matrix(train.survived, train.model1_pred)"
   ]
  },
  {
   "cell_type": "code",
   "execution_count": null,
   "metadata": {},
   "outputs": [],
   "source": [
    "t_tpr = t_matrix1[1,1] / (t_matrix1[1,1] + t_matrix1[1,0])\n",
    "t_fpr = t_matrix1[0,1] / (t_matrix1[0,1] + t_matrix1[0,0])\n",
    "t_tnr = t_matrix1[0,0] / (t_matrix1[0,0] + t_matrix1[0,1])\n",
    "t_fnr = t_matrix1[1,0] / (t_matrix1[1,1] + t_matrix1[1,0])"
   ]
  },
  {
   "cell_type": "code",
   "execution_count": null,
   "metadata": {},
   "outputs": [],
   "source": [
    "t_matrix2 = confusion_matrix(train.survived, train.model2_pred)"
   ]
  },
  {
   "cell_type": "code",
   "execution_count": null,
   "metadata": {},
   "outputs": [],
   "source": [
    "t_tpr2 = t_matrix2[1,1] / (t_matrix2[1,1] + t_matrix2[1,0])\n",
    "t_fpr2 = t_matrix2[0,1] / (t_matrix2[0,1] + t_matrix2[0,0])\n",
    "t_tnr2 = t_matrix2[0,0] / (t_matrix2[0,0] + t_matrix2[0,1])\n",
    "t_fnr2 = t_matrix2[1,0] / (t_matrix2[1,1] + t_matrix2[1,0])"
   ]
  },
  {
   "cell_type": "code",
   "execution_count": null,
   "metadata": {},
   "outputs": [],
   "source": [
    "print('Train model metrics:')\n",
    "print('-_-_-_-_-_-_-_-_-_-_-_-_-_-')\n",
    "print(' ')\n",
    "print(f'True positive rate for model1 is {t_tpr:.2%}')\n",
    "print(f'False positive rate for model1 is  {t_fpr:.2%}')\n",
    "print(f'True negative rate for model1 is {t_tnr:.2%}')\n",
    "print(f'False negative rate for model 1 is {t_fnr:.2%}')\n",
    "print('---------------------------')\n",
    "print(f'True positive rate for model2 is {t_tpr2:.2%}')\n",
    "print(f'False positive rate for model2 is {t_fpr2:.2%}')\n",
    "print(f'True negative rate for model2 is {t_tnr2:.2%}')\n",
    "print(f'False negative rate for model2 is {t_tnr2:.2%}')"
   ]
  },
  {
   "cell_type": "markdown",
   "metadata": {},
   "source": [
    "Model 1 performs better on in sample data"
   ]
  },
  {
   "cell_type": "markdown",
   "metadata": {},
   "source": [
    "7. Which model performs best on your out-of-sample data, the validate set?"
   ]
  },
  {
   "cell_type": "code",
   "execution_count": null,
   "metadata": {},
   "outputs": [],
   "source": [
    "print('Model accuracies:')\n",
    "print('-_-_-_-_-_-_-_-_-_-_-_-_-_-')\n",
    "print(' ')\n",
    "print(f'Train model1 is {model1.score(X_train, y_train):.2%}')\n",
    "print(f'Validate model1 is {model1.score(X_validate, y_validate):.2%}')\n",
    "print('---------------------------')\n",
    "print(f'Train model2 is {model2.score(X_train, y_train):.2%}')\n",
    "print(f'Validate model2 is {model2.score(X_validate, y_validate):.2%}')"
   ]
  },
  {
   "cell_type": "markdown",
   "metadata": {},
   "source": [
    "Model 2 performs better on out of sample data"
   ]
  },
  {
   "cell_type": "code",
   "execution_count": 61,
   "metadata": {},
   "outputs": [],
   "source": [
    "def run_metrics(model, data_set):\n",
    "    \"\"\"\n",
    "    This function takes in a model and ouputs metrics. \n",
    "    model = name of class model\n",
    "    data_set = train, validate, test (AS A STRING)\n",
    "    Will output the Precision Score, the classification report, and the confusion matrix\n",
    "    It is advisable to print the name of the model you're working with before hand for clarity\n",
    "    i.e. print('Metrics for Model 1 with Train data\\n')\n",
    "    \"\"\"\n",
    "    if data_set == 'train':\n",
    "        X = X_train\n",
    "        y = y_train\n",
    "        df = train\n",
    "    if data_set == 'validate':\n",
    "        X = X_validate\n",
    "        y = y_validate\n",
    "        df = validate\n",
    "    if data_set == 'test':\n",
    "        X = X_test\n",
    "        y = y_test\n",
    "        df = test\n",
    "    score = model.score(X, y)\n",
    "    matrix = confusion_matrix(y, model.predict(X))\n",
    "    tpr = matrix[1,1] / (matrix[1,1] + matrix[1,0])\n",
    "    fpr = matrix[0,1] / (matrix[0,1] + matrix[0,0])\n",
    "    tnr = matrix[0,0] / (matrix[0,0] + matrix[0,1])\n",
    "    fnr = matrix[1,0] / (matrix[1,1] + matrix[1,0])\n",
    "    prc = matrix[1,1] / (matrix[1,1] + matrix[0,1])\n",
    "    \n",
    "    print(f'{data_set} data set accuracy score: {score:.2%}')\n",
    "    print(f'{data_set} data set precision score {prc:.2%}')\n",
    "    print(f'{data_set} data set recall score: {tpr:.2%}')\n",
    "    class_report = classification_report(y, model.predict(X), zero_division=True)\n",
    "    print('-------------------------------')\n",
    "    print(f'classification report')\n",
    "    print(class_report)\n",
    "    print ('-------------------------------')\n",
    "    print('')\n",
    "    print('confusion matrix')\n",
    "    print(matrix)\n",
    "    print(' ')\n",
    "    print(f'{data_set} data set model metrics')\n",
    "    print('---------------------------------')\n",
    "    print(f'True positive rate for the model is {tpr:.2%}')\n",
    "    print(f'False positive rate for the model is  {fpr:.2%}')\n",
    "    print(f'True negative rate for the model is {tnr:.2%}')\n",
    "    print(f'False negative rate for the model is {fnr:.2%}')\n",
    "    #developed by Heather McMillan and Parker Voit"
   ]
  },
  {
   "cell_type": "markdown",
   "metadata": {},
   "source": [
    "1. Fit the Random Forest classifier to your training sample and transform (i.e. make predictions on the training sample) setting the random_state accordingly and setting min_samples_leaf = 1 and max_depth = 10."
   ]
  },
  {
   "cell_type": "code",
   "execution_count": 62,
   "metadata": {},
   "outputs": [],
   "source": [
    "X_train, y_train = train[X_cols], train[y_col]\n",
    "X_validate, y_validate = validate[X_cols], validate[y_col]\n",
    "X_test, y_test = test[X_cols], test[y_col]"
   ]
  },
  {
   "cell_type": "code",
   "execution_count": 63,
   "metadata": {},
   "outputs": [],
   "source": [
    "from sklearn.ensemble import RandomForestClassifier"
   ]
  },
  {
   "cell_type": "code",
   "execution_count": 64,
   "metadata": {},
   "outputs": [],
   "source": [
    "rf = RandomForestClassifier(max_depth=10,\n",
    "                            min_samples_leaf=1,\n",
    "                            random_state=123)"
   ]
  },
  {
   "cell_type": "code",
   "execution_count": 65,
   "metadata": {},
   "outputs": [
    {
     "data": {
      "text/plain": [
       "RandomForestClassifier(max_depth=10, random_state=123)"
      ]
     },
     "execution_count": 65,
     "metadata": {},
     "output_type": "execute_result"
    }
   ],
   "source": [
    "rf.fit(X_train, y_train)"
   ]
  },
  {
   "cell_type": "code",
   "execution_count": 66,
   "metadata": {},
   "outputs": [
    {
     "name": "stdout",
     "output_type": "stream",
     "text": [
      "[0.19965801 0.66031395 0.08471526 0.02163134 0.03368144]\n"
     ]
    }
   ],
   "source": [
    "print(rf.feature_importances_)"
   ]
  },
  {
   "cell_type": "code",
   "execution_count": 67,
   "metadata": {},
   "outputs": [
    {
     "name": "stdout",
     "output_type": "stream",
     "text": [
      "Baseline accuracy is 61.77%\n"
     ]
    }
   ],
   "source": [
    "train['baseline'] = 0\n",
    "baseline_accuracy = (train.baseline == train.survived).mean()\n",
    "print(f'Baseline accuracy is {baseline_accuracy:.2%}')"
   ]
  },
  {
   "cell_type": "code",
   "execution_count": 68,
   "metadata": {},
   "outputs": [
    {
     "data": {
      "text/html": [
       "<div>\n",
       "<style scoped>\n",
       "    .dataframe tbody tr th:only-of-type {\n",
       "        vertical-align: middle;\n",
       "    }\n",
       "\n",
       "    .dataframe tbody tr th {\n",
       "        vertical-align: top;\n",
       "    }\n",
       "\n",
       "    .dataframe thead th {\n",
       "        text-align: right;\n",
       "    }\n",
       "</style>\n",
       "<table border=\"1\" class=\"dataframe\">\n",
       "  <thead>\n",
       "    <tr style=\"text-align: right;\">\n",
       "      <th></th>\n",
       "      <th>Unnamed: 0</th>\n",
       "      <th>survived</th>\n",
       "      <th>pclass</th>\n",
       "      <th>age</th>\n",
       "      <th>sibsp</th>\n",
       "      <th>parch</th>\n",
       "      <th>fare</th>\n",
       "      <th>alone</th>\n",
       "      <th>Q</th>\n",
       "      <th>S</th>\n",
       "      <th>model1_pred</th>\n",
       "      <th>prediction</th>\n",
       "      <th>model2_pred</th>\n",
       "      <th>baseline</th>\n",
       "    </tr>\n",
       "  </thead>\n",
       "  <tbody>\n",
       "    <tr>\n",
       "      <th>583</th>\n",
       "      <td>583</td>\n",
       "      <td>0</td>\n",
       "      <td>1</td>\n",
       "      <td>36.000000</td>\n",
       "      <td>0</td>\n",
       "      <td>0</td>\n",
       "      <td>40.1250</td>\n",
       "      <td>1</td>\n",
       "      <td>0</td>\n",
       "      <td>0</td>\n",
       "      <td>0</td>\n",
       "      <td>0</td>\n",
       "      <td>0</td>\n",
       "      <td>0</td>\n",
       "    </tr>\n",
       "    <tr>\n",
       "      <th>337</th>\n",
       "      <td>337</td>\n",
       "      <td>1</td>\n",
       "      <td>1</td>\n",
       "      <td>41.000000</td>\n",
       "      <td>0</td>\n",
       "      <td>0</td>\n",
       "      <td>134.5000</td>\n",
       "      <td>1</td>\n",
       "      <td>0</td>\n",
       "      <td>0</td>\n",
       "      <td>1</td>\n",
       "      <td>1</td>\n",
       "      <td>0</td>\n",
       "      <td>0</td>\n",
       "    </tr>\n",
       "    <tr>\n",
       "      <th>50</th>\n",
       "      <td>50</td>\n",
       "      <td>0</td>\n",
       "      <td>3</td>\n",
       "      <td>7.000000</td>\n",
       "      <td>4</td>\n",
       "      <td>1</td>\n",
       "      <td>39.6875</td>\n",
       "      <td>0</td>\n",
       "      <td>0</td>\n",
       "      <td>1</td>\n",
       "      <td>0</td>\n",
       "      <td>0</td>\n",
       "      <td>0</td>\n",
       "      <td>0</td>\n",
       "    </tr>\n",
       "    <tr>\n",
       "      <th>218</th>\n",
       "      <td>218</td>\n",
       "      <td>1</td>\n",
       "      <td>1</td>\n",
       "      <td>32.000000</td>\n",
       "      <td>0</td>\n",
       "      <td>0</td>\n",
       "      <td>76.2917</td>\n",
       "      <td>1</td>\n",
       "      <td>0</td>\n",
       "      <td>0</td>\n",
       "      <td>1</td>\n",
       "      <td>1</td>\n",
       "      <td>0</td>\n",
       "      <td>0</td>\n",
       "    </tr>\n",
       "    <tr>\n",
       "      <th>31</th>\n",
       "      <td>31</td>\n",
       "      <td>1</td>\n",
       "      <td>1</td>\n",
       "      <td>29.916875</td>\n",
       "      <td>1</td>\n",
       "      <td>0</td>\n",
       "      <td>146.5208</td>\n",
       "      <td>0</td>\n",
       "      <td>0</td>\n",
       "      <td>0</td>\n",
       "      <td>1</td>\n",
       "      <td>1</td>\n",
       "      <td>1</td>\n",
       "      <td>0</td>\n",
       "    </tr>\n",
       "    <tr>\n",
       "      <th>...</th>\n",
       "      <td>...</td>\n",
       "      <td>...</td>\n",
       "      <td>...</td>\n",
       "      <td>...</td>\n",
       "      <td>...</td>\n",
       "      <td>...</td>\n",
       "      <td>...</td>\n",
       "      <td>...</td>\n",
       "      <td>...</td>\n",
       "      <td>...</td>\n",
       "      <td>...</td>\n",
       "      <td>...</td>\n",
       "      <td>...</td>\n",
       "      <td>...</td>\n",
       "    </tr>\n",
       "    <tr>\n",
       "      <th>313</th>\n",
       "      <td>313</td>\n",
       "      <td>0</td>\n",
       "      <td>3</td>\n",
       "      <td>28.000000</td>\n",
       "      <td>0</td>\n",
       "      <td>0</td>\n",
       "      <td>7.8958</td>\n",
       "      <td>1</td>\n",
       "      <td>0</td>\n",
       "      <td>1</td>\n",
       "      <td>0</td>\n",
       "      <td>0</td>\n",
       "      <td>0</td>\n",
       "      <td>0</td>\n",
       "    </tr>\n",
       "    <tr>\n",
       "      <th>636</th>\n",
       "      <td>636</td>\n",
       "      <td>0</td>\n",
       "      <td>3</td>\n",
       "      <td>32.000000</td>\n",
       "      <td>0</td>\n",
       "      <td>0</td>\n",
       "      <td>7.9250</td>\n",
       "      <td>1</td>\n",
       "      <td>0</td>\n",
       "      <td>1</td>\n",
       "      <td>1</td>\n",
       "      <td>1</td>\n",
       "      <td>0</td>\n",
       "      <td>0</td>\n",
       "    </tr>\n",
       "    <tr>\n",
       "      <th>222</th>\n",
       "      <td>222</td>\n",
       "      <td>0</td>\n",
       "      <td>3</td>\n",
       "      <td>51.000000</td>\n",
       "      <td>0</td>\n",
       "      <td>0</td>\n",
       "      <td>8.0500</td>\n",
       "      <td>1</td>\n",
       "      <td>0</td>\n",
       "      <td>1</td>\n",
       "      <td>0</td>\n",
       "      <td>0</td>\n",
       "      <td>0</td>\n",
       "      <td>0</td>\n",
       "    </tr>\n",
       "    <tr>\n",
       "      <th>485</th>\n",
       "      <td>485</td>\n",
       "      <td>0</td>\n",
       "      <td>3</td>\n",
       "      <td>29.916875</td>\n",
       "      <td>3</td>\n",
       "      <td>1</td>\n",
       "      <td>25.4667</td>\n",
       "      <td>0</td>\n",
       "      <td>0</td>\n",
       "      <td>1</td>\n",
       "      <td>0</td>\n",
       "      <td>0</td>\n",
       "      <td>0</td>\n",
       "      <td>0</td>\n",
       "    </tr>\n",
       "    <tr>\n",
       "      <th>553</th>\n",
       "      <td>553</td>\n",
       "      <td>1</td>\n",
       "      <td>3</td>\n",
       "      <td>22.000000</td>\n",
       "      <td>0</td>\n",
       "      <td>0</td>\n",
       "      <td>7.2250</td>\n",
       "      <td>1</td>\n",
       "      <td>0</td>\n",
       "      <td>0</td>\n",
       "      <td>0</td>\n",
       "      <td>0</td>\n",
       "      <td>0</td>\n",
       "      <td>0</td>\n",
       "    </tr>\n",
       "  </tbody>\n",
       "</table>\n",
       "<p>497 rows × 14 columns</p>\n",
       "</div>"
      ],
      "text/plain": [
       "     Unnamed: 0  survived  pclass        age  sibsp  parch      fare  alone  \\\n",
       "583         583         0       1  36.000000      0      0   40.1250      1   \n",
       "337         337         1       1  41.000000      0      0  134.5000      1   \n",
       "50           50         0       3   7.000000      4      1   39.6875      0   \n",
       "218         218         1       1  32.000000      0      0   76.2917      1   \n",
       "31           31         1       1  29.916875      1      0  146.5208      0   \n",
       "..          ...       ...     ...        ...    ...    ...       ...    ...   \n",
       "313         313         0       3  28.000000      0      0    7.8958      1   \n",
       "636         636         0       3  32.000000      0      0    7.9250      1   \n",
       "222         222         0       3  51.000000      0      0    8.0500      1   \n",
       "485         485         0       3  29.916875      3      1   25.4667      0   \n",
       "553         553         1       3  22.000000      0      0    7.2250      1   \n",
       "\n",
       "     Q  S  model1_pred  prediction  model2_pred  baseline  \n",
       "583  0  0            0           0            0         0  \n",
       "337  0  0            1           1            0         0  \n",
       "50   0  1            0           0            0         0  \n",
       "218  0  0            1           1            0         0  \n",
       "31   0  0            1           1            1         0  \n",
       "..  .. ..          ...         ...          ...       ...  \n",
       "313  0  1            0           0            0         0  \n",
       "636  0  1            1           1            0         0  \n",
       "222  0  1            0           0            0         0  \n",
       "485  0  1            0           0            0         0  \n",
       "553  0  0            0           0            0         0  \n",
       "\n",
       "[497 rows x 14 columns]"
      ]
     },
     "execution_count": 68,
     "metadata": {},
     "output_type": "execute_result"
    }
   ],
   "source": [
    "train"
   ]
  },
  {
   "cell_type": "code",
   "execution_count": 69,
   "metadata": {},
   "outputs": [
    {
     "data": {
      "text/html": [
       "<div>\n",
       "<style scoped>\n",
       "    .dataframe tbody tr th:only-of-type {\n",
       "        vertical-align: middle;\n",
       "    }\n",
       "\n",
       "    .dataframe tbody tr th {\n",
       "        vertical-align: top;\n",
       "    }\n",
       "\n",
       "    .dataframe thead th {\n",
       "        text-align: right;\n",
       "    }\n",
       "</style>\n",
       "<table border=\"1\" class=\"dataframe\">\n",
       "  <thead>\n",
       "    <tr style=\"text-align: right;\">\n",
       "      <th></th>\n",
       "      <th>pclass</th>\n",
       "      <th>age</th>\n",
       "      <th>alone</th>\n",
       "      <th>Q</th>\n",
       "      <th>S</th>\n",
       "    </tr>\n",
       "  </thead>\n",
       "  <tbody>\n",
       "    <tr>\n",
       "      <th>583</th>\n",
       "      <td>1</td>\n",
       "      <td>36.000000</td>\n",
       "      <td>1</td>\n",
       "      <td>0</td>\n",
       "      <td>0</td>\n",
       "    </tr>\n",
       "    <tr>\n",
       "      <th>337</th>\n",
       "      <td>1</td>\n",
       "      <td>41.000000</td>\n",
       "      <td>1</td>\n",
       "      <td>0</td>\n",
       "      <td>0</td>\n",
       "    </tr>\n",
       "    <tr>\n",
       "      <th>50</th>\n",
       "      <td>3</td>\n",
       "      <td>7.000000</td>\n",
       "      <td>0</td>\n",
       "      <td>0</td>\n",
       "      <td>1</td>\n",
       "    </tr>\n",
       "    <tr>\n",
       "      <th>218</th>\n",
       "      <td>1</td>\n",
       "      <td>32.000000</td>\n",
       "      <td>1</td>\n",
       "      <td>0</td>\n",
       "      <td>0</td>\n",
       "    </tr>\n",
       "    <tr>\n",
       "      <th>31</th>\n",
       "      <td>1</td>\n",
       "      <td>29.916875</td>\n",
       "      <td>0</td>\n",
       "      <td>0</td>\n",
       "      <td>0</td>\n",
       "    </tr>\n",
       "    <tr>\n",
       "      <th>...</th>\n",
       "      <td>...</td>\n",
       "      <td>...</td>\n",
       "      <td>...</td>\n",
       "      <td>...</td>\n",
       "      <td>...</td>\n",
       "    </tr>\n",
       "    <tr>\n",
       "      <th>313</th>\n",
       "      <td>3</td>\n",
       "      <td>28.000000</td>\n",
       "      <td>1</td>\n",
       "      <td>0</td>\n",
       "      <td>1</td>\n",
       "    </tr>\n",
       "    <tr>\n",
       "      <th>636</th>\n",
       "      <td>3</td>\n",
       "      <td>32.000000</td>\n",
       "      <td>1</td>\n",
       "      <td>0</td>\n",
       "      <td>1</td>\n",
       "    </tr>\n",
       "    <tr>\n",
       "      <th>222</th>\n",
       "      <td>3</td>\n",
       "      <td>51.000000</td>\n",
       "      <td>1</td>\n",
       "      <td>0</td>\n",
       "      <td>1</td>\n",
       "    </tr>\n",
       "    <tr>\n",
       "      <th>485</th>\n",
       "      <td>3</td>\n",
       "      <td>29.916875</td>\n",
       "      <td>0</td>\n",
       "      <td>0</td>\n",
       "      <td>1</td>\n",
       "    </tr>\n",
       "    <tr>\n",
       "      <th>553</th>\n",
       "      <td>3</td>\n",
       "      <td>22.000000</td>\n",
       "      <td>1</td>\n",
       "      <td>0</td>\n",
       "      <td>0</td>\n",
       "    </tr>\n",
       "  </tbody>\n",
       "</table>\n",
       "<p>497 rows × 5 columns</p>\n",
       "</div>"
      ],
      "text/plain": [
       "     pclass        age  alone  Q  S\n",
       "583       1  36.000000      1  0  0\n",
       "337       1  41.000000      1  0  0\n",
       "50        3   7.000000      0  0  1\n",
       "218       1  32.000000      1  0  0\n",
       "31        1  29.916875      0  0  0\n",
       "..      ...        ...    ... .. ..\n",
       "313       3  28.000000      1  0  1\n",
       "636       3  32.000000      1  0  1\n",
       "222       3  51.000000      1  0  1\n",
       "485       3  29.916875      0  0  1\n",
       "553       3  22.000000      1  0  0\n",
       "\n",
       "[497 rows x 5 columns]"
      ]
     },
     "execution_count": 69,
     "metadata": {},
     "output_type": "execute_result"
    }
   ],
   "source": [
    "X_train"
   ]
  },
  {
   "cell_type": "markdown",
   "metadata": {},
   "source": [
    "2. Evaluate your results using the model score, confusion matrix, and classification report."
   ]
  },
  {
   "cell_type": "code",
   "execution_count": 56,
   "metadata": {},
   "outputs": [
    {
     "data": {
      "text/plain": [
       "RandomForestClassifier(max_depth=10, random_state=123)"
      ]
     },
     "execution_count": 56,
     "metadata": {},
     "output_type": "execute_result"
    }
   ],
   "source": [
    "rf.fit(X_train, y_train)"
   ]
  },
  {
   "cell_type": "code",
   "execution_count": 57,
   "metadata": {},
   "outputs": [
    {
     "name": "stdout",
     "output_type": "stream",
     "text": [
      "training score: 87.32%\n",
      "validate score: 68.22%\n"
     ]
    }
   ],
   "source": [
    "print(f'training score: {rf.score(X_train, y_train):.2%}')\n",
    "print(f'validate score: {rf.score(X_validate, y_validate):.2%}')"
   ]
  },
  {
   "cell_type": "markdown",
   "metadata": {},
   "source": [
    "3. Print and clearly label the following: Accuracy, true positive rate, false positive rate, true negative rate, false negative rate, precision, recall, f1-score, and support."
   ]
  },
  {
   "cell_type": "code",
   "execution_count": 72,
   "metadata": {},
   "outputs": [
    {
     "name": "stdout",
     "output_type": "stream",
     "text": [
      "Metrics for RF (random forest) on the Train data \n",
      "\n",
      "train data set accuracy score: 87.32%\n",
      "train data set precision score 88.02%\n",
      "train data set recall score: 77.37%\n",
      "-------------------------------\n",
      "classification report\n",
      "              precision    recall  f1-score   support\n",
      "\n",
      "           0       0.87      0.93      0.90       307\n",
      "           1       0.88      0.77      0.82       190\n",
      "\n",
      "    accuracy                           0.87       497\n",
      "   macro avg       0.87      0.85      0.86       497\n",
      "weighted avg       0.87      0.87      0.87       497\n",
      "\n",
      "-------------------------------\n",
      "\n",
      "confusion matrix\n",
      "[[287  20]\n",
      " [ 43 147]]\n",
      " \n",
      "train data set model metrics\n",
      "---------------------------------\n",
      "True positive rate for the model is 77.37%\n",
      "False positive rate for the model is  6.51%\n",
      "True negative rate for the model is 93.49%\n",
      "False negative rate for the model is 22.63%\n"
     ]
    }
   ],
   "source": [
    "print('Metrics for RF (random forest) on the Train data \\n')\n",
    "run_metrics(rf, 'train')\n"
   ]
  },
  {
   "cell_type": "code",
   "execution_count": 73,
   "metadata": {},
   "outputs": [
    {
     "name": "stdout",
     "output_type": "stream",
     "text": [
      "Metrics for RF (random forest) on the Validate data \n",
      "\n",
      "validate data set accuracy score: 68.22%\n",
      "validate data set precision score 60.29%\n",
      "validate data set recall score: 50.00%\n",
      "-------------------------------\n",
      "classification report\n",
      "              precision    recall  f1-score   support\n",
      "\n",
      "           0       0.72      0.80      0.76       132\n",
      "           1       0.60      0.50      0.55        82\n",
      "\n",
      "    accuracy                           0.68       214\n",
      "   macro avg       0.66      0.65      0.65       214\n",
      "weighted avg       0.67      0.68      0.68       214\n",
      "\n",
      "-------------------------------\n",
      "\n",
      "confusion matrix\n",
      "[[105  27]\n",
      " [ 41  41]]\n",
      " \n",
      "validate data set model metrics\n",
      "---------------------------------\n",
      "True positive rate for the model is 50.00%\n",
      "False positive rate for the model is  20.45%\n",
      "True negative rate for the model is 79.55%\n",
      "False negative rate for the model is 50.00%\n"
     ]
    }
   ],
   "source": [
    "print('Metrics for RF (random forest) on the Validate data \\n')\n",
    "run_metrics(rf, 'validate')"
   ]
  },
  {
   "cell_type": "markdown",
   "metadata": {},
   "source": [
    "4. Run through steps increasing your min_samples_leaf and decreasing your max_depth."
   ]
  },
  {
   "cell_type": "code",
   "execution_count": 74,
   "metadata": {},
   "outputs": [],
   "source": [
    "rf2 = RandomForestClassifier(max_depth=8,\n",
    "                            min_samples_leaf=3,\n",
    "                            random_state=123)"
   ]
  },
  {
   "cell_type": "code",
   "execution_count": 75,
   "metadata": {},
   "outputs": [
    {
     "data": {
      "text/plain": [
       "RandomForestClassifier(max_depth=8, min_samples_leaf=3, random_state=123)"
      ]
     },
     "execution_count": 75,
     "metadata": {},
     "output_type": "execute_result"
    }
   ],
   "source": [
    "rf2.fit(X_train, y_train)"
   ]
  },
  {
   "cell_type": "code",
   "execution_count": 77,
   "metadata": {},
   "outputs": [
    {
     "name": "stdout",
     "output_type": "stream",
     "text": [
      "[0.29368896 0.52785788 0.11808737 0.02171923 0.03864656]\n"
     ]
    }
   ],
   "source": [
    "print(rf2.feature_importances_)"
   ]
  },
  {
   "cell_type": "code",
   "execution_count": 78,
   "metadata": {},
   "outputs": [
    {
     "name": "stdout",
     "output_type": "stream",
     "text": [
      "training score: 78.67%\n",
      "validate score: 70.09%\n"
     ]
    }
   ],
   "source": [
    "print(f'training score: {rf2.score(X_train, y_train):.2%}')\n",
    "print(f'validate score: {rf2.score(X_validate, y_validate):.2%}')"
   ]
  },
  {
   "cell_type": "code",
   "execution_count": 79,
   "metadata": {},
   "outputs": [
    {
     "name": "stdout",
     "output_type": "stream",
     "text": [
      "Metrics for RF2 (random forest) on the Train data \n",
      "\n",
      "train data set accuracy score: 78.67%\n",
      "train data set precision score 75.93%\n",
      "train data set recall score: 64.74%\n",
      "-------------------------------\n",
      "classification report\n",
      "              precision    recall  f1-score   support\n",
      "\n",
      "           0       0.80      0.87      0.83       307\n",
      "           1       0.76      0.65      0.70       190\n",
      "\n",
      "    accuracy                           0.79       497\n",
      "   macro avg       0.78      0.76      0.77       497\n",
      "weighted avg       0.78      0.79      0.78       497\n",
      "\n",
      "-------------------------------\n",
      "\n",
      "confusion matrix\n",
      "[[268  39]\n",
      " [ 67 123]]\n",
      " \n",
      "train data set model metrics\n",
      "---------------------------------\n",
      "True positive rate for the model is 64.74%\n",
      "False positive rate for the model is  12.70%\n",
      "True negative rate for the model is 87.30%\n",
      "False negative rate for the model is 35.26%\n"
     ]
    }
   ],
   "source": [
    "print('Metrics for RF2 (random forest) on the Train data \\n')\n",
    "run_metrics(rf2, 'train')\n"
   ]
  },
  {
   "cell_type": "code",
   "execution_count": 80,
   "metadata": {},
   "outputs": [
    {
     "name": "stdout",
     "output_type": "stream",
     "text": [
      "Metrics for RF2 (random forest) on the Validate data \n",
      "\n",
      "validate data set accuracy score: 70.09%\n",
      "validate data set precision score 64.52%\n",
      "validate data set recall score: 48.78%\n",
      "-------------------------------\n",
      "classification report\n",
      "              precision    recall  f1-score   support\n",
      "\n",
      "           0       0.72      0.83      0.77       132\n",
      "           1       0.65      0.49      0.56        82\n",
      "\n",
      "    accuracy                           0.70       214\n",
      "   macro avg       0.68      0.66      0.67       214\n",
      "weighted avg       0.69      0.70      0.69       214\n",
      "\n",
      "-------------------------------\n",
      "\n",
      "confusion matrix\n",
      "[[110  22]\n",
      " [ 42  40]]\n",
      " \n",
      "validate data set model metrics\n",
      "---------------------------------\n",
      "True positive rate for the model is 48.78%\n",
      "False positive rate for the model is  16.67%\n",
      "True negative rate for the model is 83.33%\n",
      "False negative rate for the model is 51.22%\n"
     ]
    }
   ],
   "source": [
    "print('Metrics for RF2 (random forest) on the Validate data \\n')\n",
    "run_metrics(rf2, 'validate')\n"
   ]
  },
  {
   "cell_type": "code",
   "execution_count": 81,
   "metadata": {},
   "outputs": [],
   "source": [
    "rf3 = RandomForestClassifier(max_depth=6,\n",
    "                            min_samples_leaf=5,\n",
    "                            random_state=123)"
   ]
  },
  {
   "cell_type": "code",
   "execution_count": 82,
   "metadata": {},
   "outputs": [
    {
     "data": {
      "text/plain": [
       "RandomForestClassifier(max_depth=6, min_samples_leaf=5, random_state=123)"
      ]
     },
     "execution_count": 82,
     "metadata": {},
     "output_type": "execute_result"
    }
   ],
   "source": [
    "rf3.fit(X_train, y_train)"
   ]
  },
  {
   "cell_type": "code",
   "execution_count": 83,
   "metadata": {},
   "outputs": [
    {
     "name": "stdout",
     "output_type": "stream",
     "text": [
      "[0.36655788 0.40693497 0.16329911 0.01940393 0.04380411]\n"
     ]
    }
   ],
   "source": [
    "print(rf3.feature_importances_)"
   ]
  },
  {
   "cell_type": "code",
   "execution_count": 84,
   "metadata": {},
   "outputs": [
    {
     "name": "stdout",
     "output_type": "stream",
     "text": [
      "training score: 75.25%\n",
      "validate score: 69.63%\n"
     ]
    }
   ],
   "source": [
    "print(f'training score: {rf3.score(X_train, y_train):.2%}')\n",
    "print(f'validate score: {rf3.score(X_validate, y_validate):.2%}')"
   ]
  },
  {
   "cell_type": "code",
   "execution_count": 85,
   "metadata": {},
   "outputs": [
    {
     "name": "stdout",
     "output_type": "stream",
     "text": [
      "Metrics for RF3 (random forest) on the Train data \n",
      "\n",
      "train data set accuracy score: 75.25%\n",
      "train data set precision score 71.61%\n",
      "train data set recall score: 58.42%\n",
      "-------------------------------\n",
      "classification report\n",
      "              precision    recall  f1-score   support\n",
      "\n",
      "           0       0.77      0.86      0.81       307\n",
      "           1       0.72      0.58      0.64       190\n",
      "\n",
      "    accuracy                           0.75       497\n",
      "   macro avg       0.74      0.72      0.73       497\n",
      "weighted avg       0.75      0.75      0.75       497\n",
      "\n",
      "-------------------------------\n",
      "\n",
      "confusion matrix\n",
      "[[263  44]\n",
      " [ 79 111]]\n",
      " \n",
      "train data set model metrics\n",
      "---------------------------------\n",
      "True positive rate for the model is 58.42%\n",
      "False positive rate for the model is  14.33%\n",
      "True negative rate for the model is 85.67%\n",
      "False negative rate for the model is 41.58%\n"
     ]
    }
   ],
   "source": [
    "print('Metrics for RF3 (random forest) on the Train data \\n')\n",
    "run_metrics(rf3, 'train')\n"
   ]
  },
  {
   "cell_type": "code",
   "execution_count": 86,
   "metadata": {},
   "outputs": [
    {
     "name": "stdout",
     "output_type": "stream",
     "text": [
      "Metrics for RF3 (random forest) on the Validate data \n",
      "\n",
      "validate data set accuracy score: 69.63%\n",
      "validate data set precision score 63.49%\n",
      "validate data set recall score: 48.78%\n",
      "-------------------------------\n",
      "classification report\n",
      "              precision    recall  f1-score   support\n",
      "\n",
      "           0       0.72      0.83      0.77       132\n",
      "           1       0.63      0.49      0.55        82\n",
      "\n",
      "    accuracy                           0.70       214\n",
      "   macro avg       0.68      0.66      0.66       214\n",
      "weighted avg       0.69      0.70      0.69       214\n",
      "\n",
      "-------------------------------\n",
      "\n",
      "confusion matrix\n",
      "[[109  23]\n",
      " [ 42  40]]\n",
      " \n",
      "validate data set model metrics\n",
      "---------------------------------\n",
      "True positive rate for the model is 48.78%\n",
      "False positive rate for the model is  17.42%\n",
      "True negative rate for the model is 82.58%\n",
      "False negative rate for the model is 51.22%\n"
     ]
    }
   ],
   "source": [
    "print('Metrics for RF3 (random forest) on the Validate data \\n')\n",
    "run_metrics(rf3, 'validate')\n"
   ]
  },
  {
   "cell_type": "markdown",
   "metadata": {},
   "source": [
    "5. What are the differences in the evaluation metrics? Which performs better on your in-sample data? Why?"
   ]
  },
  {
   "cell_type": "markdown",
   "metadata": {},
   "source": [
    "The more the max_depth was decreased and the more the min_samples_leaf was increased the more the TN and TP decreased \n",
    "while the FN and FP increased."
   ]
  },
  {
   "cell_type": "markdown",
   "metadata": {},
   "source": [
    "# KNN exercises"
   ]
  },
  {
   "cell_type": "markdown",
   "metadata": {},
   "source": [
    "1. Fit a K-Nearest Neighbors classifier to your training sample and transform (i.e. make predictions on the training sample)\n",
    "\n"
   ]
  },
  {
   "cell_type": "code",
   "execution_count": 117,
   "metadata": {},
   "outputs": [],
   "source": [
    "from sklearn.neighbors import KNeighborsClassifier\n",
    "import model_func"
   ]
  },
  {
   "cell_type": "code",
   "execution_count": 92,
   "metadata": {},
   "outputs": [],
   "source": [
    "knn = KNeighborsClassifier(n_neighbors=5, weights='uniform')"
   ]
  },
  {
   "cell_type": "code",
   "execution_count": 93,
   "metadata": {},
   "outputs": [
    {
     "data": {
      "text/plain": [
       "KNeighborsClassifier()"
      ]
     },
     "execution_count": 93,
     "metadata": {},
     "output_type": "execute_result"
    }
   ],
   "source": [
    "knn.fit(X_train, y_train)"
   ]
  },
  {
   "cell_type": "code",
   "execution_count": 112,
   "metadata": {},
   "outputs": [
    {
     "name": "stdout",
     "output_type": "stream",
     "text": [
      " 1: 65.73%\n",
      " 2: 62.36%\n",
      " 3: 63.48%\n",
      " 4: 60.11%\n",
      " 5: 60.67%\n",
      " 6: 65.73%\n",
      " 7: 62.36%\n",
      " 8: 65.17%\n",
      " 9: 60.67%\n",
      "10: 62.92%\n",
      "11: 64.04%\n",
      "12: 65.17%\n"
     ]
    }
   ],
   "source": [
    "for k in range(1, 13):\n",
    "    knn = KNeighborsClassifier(n_neighbors=k)\n",
    "    knn.fit(X_train, y_train)\n",
    "    accuracy = knn.score(X_test, y_test)\n",
    "    print(f'{k:2d}: {accuracy:.2%}')"
   ]
  },
  {
   "cell_type": "code",
   "execution_count": 114,
   "metadata": {},
   "outputs": [
    {
     "name": "stdout",
     "output_type": "stream",
     "text": [
      "Model: 1 when k is 1\n",
      "training score: 85.31%\n",
      "validate score: 63.08%\n",
      "__________________________________________________________\n",
      "Model: 2 when k is 2\n",
      "training score: 78.87%\n",
      "validate score: 65.42%\n",
      "__________________________________________________________\n",
      "Model: 3 when k is 3\n",
      "training score: 77.87%\n",
      "validate score: 70.09%\n",
      "__________________________________________________________\n",
      "Model: 4 when k is 4\n",
      "training score: 75.05%\n",
      "validate score: 67.76%\n",
      "__________________________________________________________\n",
      "Model: 5 when k is 5\n",
      "training score: 76.06%\n",
      "validate score: 66.36%\n",
      "__________________________________________________________\n",
      "Model: 6 when k is 6\n",
      "training score: 72.84%\n",
      "validate score: 66.36%\n",
      "__________________________________________________________\n",
      "Model: 7 when k is 7\n",
      "training score: 74.04%\n",
      "validate score: 64.95%\n",
      "__________________________________________________________\n",
      "Model: 8 when k is 8\n",
      "training score: 73.44%\n",
      "validate score: 67.76%\n",
      "__________________________________________________________\n",
      "Model: 9 when k is 9\n",
      "training score: 74.65%\n",
      "validate score: 66.82%\n",
      "__________________________________________________________\n",
      "Model: 10 when k is 10\n",
      "training score: 72.43%\n",
      "validate score: 67.76%\n",
      "__________________________________________________________\n",
      "Model: 11 when k is 11\n",
      "training score: 73.84%\n",
      "validate score: 68.22%\n",
      "__________________________________________________________\n",
      "Model: 12 when k is 12\n",
      "training score: 72.03%\n",
      "validate score: 68.22%\n",
      "__________________________________________________________\n",
      "Model: 13 when k is 13\n",
      "training score: 72.84%\n",
      "validate score: 68.22%\n",
      "__________________________________________________________\n",
      "Model: 14 when k is 14\n",
      "training score: 71.23%\n",
      "validate score: 67.29%\n",
      "__________________________________________________________\n"
     ]
    }
   ],
   "source": [
    "for k in range(1, 15):\n",
    "    knn = KNeighborsClassifier(n_neighbors=k)\n",
    "    knn.fit(X_train, y_train)\n",
    "    print(f'Model: {k} when k is {k}')\n",
    "    print(f'training score: {knn.score(X_train, y_train):.2%}')\n",
    "    print(f'validate score: {knn.score(X_validate, y_validate):.2%}')\n",
    "    print('__________________________________________________________')"
   ]
  },
  {
   "cell_type": "code",
   "execution_count": 94,
   "metadata": {},
   "outputs": [],
   "source": [
    "y_pred = knn.predict(X_train)\n"
   ]
  },
  {
   "cell_type": "code",
   "execution_count": 95,
   "metadata": {},
   "outputs": [],
   "source": [
    "y_pred_proba = knn.predict_proba(X_train)"
   ]
  },
  {
   "cell_type": "markdown",
   "metadata": {},
   "source": [
    "2. Evaluate your results using the model score, confusion matrix, and classification report."
   ]
  },
  {
   "cell_type": "markdown",
   "metadata": {},
   "source": [
    "3. Print and clearly label the following: Accuracy, true positive rate, false positive rate, true negative rate, false negative rate, precision, recall, f1-score, and support."
   ]
  },
  {
   "cell_type": "code",
   "execution_count": 119,
   "metadata": {},
   "outputs": [
    {
     "name": "stdout",
     "output_type": "stream",
     "text": [
      "\n",
      "    The accuracy for our model is 71.2274%\n",
      "    The True Positive Rate is 38.421%,    The False Positive Rate is 8.469%,\n",
      "    The True Negative Rate is 91.531%,    The False Negative Rate is 61.579%\n",
      "    ________________________________________________________________________________\n",
      "    \n",
      "\n",
      "    The positive is  'survived'\n",
      "    Confusion Matrix\n",
      "    \n"
     ]
    },
    {
     "data": {
      "text/html": [
       "<div>\n",
       "<style scoped>\n",
       "    .dataframe tbody tr th:only-of-type {\n",
       "        vertical-align: middle;\n",
       "    }\n",
       "\n",
       "    .dataframe tbody tr th {\n",
       "        vertical-align: top;\n",
       "    }\n",
       "\n",
       "    .dataframe thead th {\n",
       "        text-align: right;\n",
       "    }\n",
       "</style>\n",
       "<table border=\"1\" class=\"dataframe\">\n",
       "  <thead>\n",
       "    <tr style=\"text-align: right;\">\n",
       "      <th></th>\n",
       "      <th>pred_dead</th>\n",
       "      <th>pred_survived</th>\n",
       "    </tr>\n",
       "  </thead>\n",
       "  <tbody>\n",
       "    <tr>\n",
       "      <th>actual_dead</th>\n",
       "      <td>True Negative: 281</td>\n",
       "      <td>False positive: 26</td>\n",
       "    </tr>\n",
       "    <tr>\n",
       "      <th>actual_survived</th>\n",
       "      <td>False Negative: 117</td>\n",
       "      <td>True Positive: 73</td>\n",
       "    </tr>\n",
       "  </tbody>\n",
       "</table>\n",
       "</div>"
      ],
      "text/plain": [
       "                           pred_dead       pred_survived\n",
       "actual_dead       True Negative: 281  False positive: 26\n",
       "actual_survived  False Negative: 117   True Positive: 73"
      ]
     },
     "metadata": {},
     "output_type": "display_data"
    },
    {
     "name": "stdout",
     "output_type": "stream",
     "text": [
      "\n",
      "    ________________________________________________________________________________\n",
      "    \n",
      "    Classification Report:\n",
      "    \n"
     ]
    },
    {
     "data": {
      "text/html": [
       "<div>\n",
       "<style scoped>\n",
       "    .dataframe tbody tr th:only-of-type {\n",
       "        vertical-align: middle;\n",
       "    }\n",
       "\n",
       "    .dataframe tbody tr th {\n",
       "        vertical-align: top;\n",
       "    }\n",
       "\n",
       "    .dataframe thead th {\n",
       "        text-align: right;\n",
       "    }\n",
       "</style>\n",
       "<table border=\"1\" class=\"dataframe\">\n",
       "  <thead>\n",
       "    <tr style=\"text-align: right;\">\n",
       "      <th></th>\n",
       "      <th>precision</th>\n",
       "      <th>recall</th>\n",
       "      <th>f1-score</th>\n",
       "      <th>support</th>\n",
       "    </tr>\n",
       "  </thead>\n",
       "  <tbody>\n",
       "    <tr>\n",
       "      <th>dead</th>\n",
       "      <td>0.706030</td>\n",
       "      <td>0.915309</td>\n",
       "      <td>0.797163</td>\n",
       "      <td>307.000000</td>\n",
       "    </tr>\n",
       "    <tr>\n",
       "      <th>survived</th>\n",
       "      <td>0.737374</td>\n",
       "      <td>0.384211</td>\n",
       "      <td>0.505190</td>\n",
       "      <td>190.000000</td>\n",
       "    </tr>\n",
       "    <tr>\n",
       "      <th>accuracy</th>\n",
       "      <td>0.712274</td>\n",
       "      <td>0.712274</td>\n",
       "      <td>0.712274</td>\n",
       "      <td>0.712274</td>\n",
       "    </tr>\n",
       "    <tr>\n",
       "      <th>macro avg</th>\n",
       "      <td>0.721702</td>\n",
       "      <td>0.649760</td>\n",
       "      <td>0.651177</td>\n",
       "      <td>497.000000</td>\n",
       "    </tr>\n",
       "    <tr>\n",
       "      <th>weighted avg</th>\n",
       "      <td>0.718013</td>\n",
       "      <td>0.712274</td>\n",
       "      <td>0.685544</td>\n",
       "      <td>497.000000</td>\n",
       "    </tr>\n",
       "  </tbody>\n",
       "</table>\n",
       "</div>"
      ],
      "text/plain": [
       "              precision    recall  f1-score     support\n",
       "dead           0.706030  0.915309  0.797163  307.000000\n",
       "survived       0.737374  0.384211  0.505190  190.000000\n",
       "accuracy       0.712274  0.712274  0.712274    0.712274\n",
       "macro avg      0.721702  0.649760  0.651177  497.000000\n",
       "weighted avg   0.718013  0.712274  0.685544  497.000000"
      ]
     },
     "metadata": {},
     "output_type": "display_data"
    }
   ],
   "source": [
    "#using my function import model \n",
    "model_func.model_performs(X_train, y_train, knn)"
   ]
  },
  {
   "cell_type": "code",
   "execution_count": 123,
   "metadata": {},
   "outputs": [
    {
     "name": "stdout",
     "output_type": "stream",
     "text": [
      "\n",
      "    The accuracy for our model is 67.2897%\n",
      "    The True Positive Rate is 31.707%,    The False Positive Rate is 10.606%,\n",
      "    The True Negative Rate is 89.394%,    The False Negative Rate is 68.293%\n",
      "    ________________________________________________________________________________\n",
      "    \n",
      "\n",
      "    The positive is  'survived'\n",
      "    Confusion Matrix\n",
      "    \n"
     ]
    },
    {
     "data": {
      "text/html": [
       "<div>\n",
       "<style scoped>\n",
       "    .dataframe tbody tr th:only-of-type {\n",
       "        vertical-align: middle;\n",
       "    }\n",
       "\n",
       "    .dataframe tbody tr th {\n",
       "        vertical-align: top;\n",
       "    }\n",
       "\n",
       "    .dataframe thead th {\n",
       "        text-align: right;\n",
       "    }\n",
       "</style>\n",
       "<table border=\"1\" class=\"dataframe\">\n",
       "  <thead>\n",
       "    <tr style=\"text-align: right;\">\n",
       "      <th></th>\n",
       "      <th>pred_dead</th>\n",
       "      <th>pred_survived</th>\n",
       "    </tr>\n",
       "  </thead>\n",
       "  <tbody>\n",
       "    <tr>\n",
       "      <th>actual_dead</th>\n",
       "      <td>True Negative: 118</td>\n",
       "      <td>False positive: 14</td>\n",
       "    </tr>\n",
       "    <tr>\n",
       "      <th>actual_survived</th>\n",
       "      <td>False Negative: 56</td>\n",
       "      <td>True Positive: 26</td>\n",
       "    </tr>\n",
       "  </tbody>\n",
       "</table>\n",
       "</div>"
      ],
      "text/plain": [
       "                          pred_dead       pred_survived\n",
       "actual_dead      True Negative: 118  False positive: 14\n",
       "actual_survived  False Negative: 56   True Positive: 26"
      ]
     },
     "metadata": {},
     "output_type": "display_data"
    },
    {
     "name": "stdout",
     "output_type": "stream",
     "text": [
      "\n",
      "    ________________________________________________________________________________\n",
      "    \n",
      "    Classification Report:\n",
      "    \n"
     ]
    },
    {
     "data": {
      "text/html": [
       "<div>\n",
       "<style scoped>\n",
       "    .dataframe tbody tr th:only-of-type {\n",
       "        vertical-align: middle;\n",
       "    }\n",
       "\n",
       "    .dataframe tbody tr th {\n",
       "        vertical-align: top;\n",
       "    }\n",
       "\n",
       "    .dataframe thead th {\n",
       "        text-align: right;\n",
       "    }\n",
       "</style>\n",
       "<table border=\"1\" class=\"dataframe\">\n",
       "  <thead>\n",
       "    <tr style=\"text-align: right;\">\n",
       "      <th></th>\n",
       "      <th>precision</th>\n",
       "      <th>recall</th>\n",
       "      <th>f1-score</th>\n",
       "      <th>support</th>\n",
       "    </tr>\n",
       "  </thead>\n",
       "  <tbody>\n",
       "    <tr>\n",
       "      <th>dead</th>\n",
       "      <td>0.678161</td>\n",
       "      <td>0.893939</td>\n",
       "      <td>0.771242</td>\n",
       "      <td>132.000000</td>\n",
       "    </tr>\n",
       "    <tr>\n",
       "      <th>survived</th>\n",
       "      <td>0.650000</td>\n",
       "      <td>0.317073</td>\n",
       "      <td>0.426230</td>\n",
       "      <td>82.000000</td>\n",
       "    </tr>\n",
       "    <tr>\n",
       "      <th>accuracy</th>\n",
       "      <td>0.672897</td>\n",
       "      <td>0.672897</td>\n",
       "      <td>0.672897</td>\n",
       "      <td>0.672897</td>\n",
       "    </tr>\n",
       "    <tr>\n",
       "      <th>macro avg</th>\n",
       "      <td>0.664080</td>\n",
       "      <td>0.605506</td>\n",
       "      <td>0.598736</td>\n",
       "      <td>214.000000</td>\n",
       "    </tr>\n",
       "    <tr>\n",
       "      <th>weighted avg</th>\n",
       "      <td>0.667370</td>\n",
       "      <td>0.672897</td>\n",
       "      <td>0.639041</td>\n",
       "      <td>214.000000</td>\n",
       "    </tr>\n",
       "  </tbody>\n",
       "</table>\n",
       "</div>"
      ],
      "text/plain": [
       "              precision    recall  f1-score     support\n",
       "dead           0.678161  0.893939  0.771242  132.000000\n",
       "survived       0.650000  0.317073  0.426230   82.000000\n",
       "accuracy       0.672897  0.672897  0.672897    0.672897\n",
       "macro avg      0.664080  0.605506  0.598736  214.000000\n",
       "weighted avg   0.667370  0.672897  0.639041  214.000000"
      ]
     },
     "metadata": {},
     "output_type": "display_data"
    }
   ],
   "source": [
    "model_func.model_performs(X_validate, y_validate, knn)"
   ]
  },
  {
   "cell_type": "markdown",
   "metadata": {},
   "source": [
    "4. Run through steps 2-4 setting k to 10"
   ]
  },
  {
   "cell_type": "code",
   "execution_count": 97,
   "metadata": {},
   "outputs": [],
   "source": [
    "knn2 = KNeighborsClassifier(n_neighbors=10, weights='uniform')"
   ]
  },
  {
   "cell_type": "code",
   "execution_count": 99,
   "metadata": {},
   "outputs": [
    {
     "data": {
      "text/plain": [
       "KNeighborsClassifier(n_neighbors=10)"
      ]
     },
     "execution_count": 99,
     "metadata": {},
     "output_type": "execute_result"
    }
   ],
   "source": [
    "knn2.fit(X_train, y_train)"
   ]
  },
  {
   "cell_type": "code",
   "execution_count": 100,
   "metadata": {},
   "outputs": [],
   "source": [
    "y_pred = knn2.predict(X_train)"
   ]
  },
  {
   "cell_type": "code",
   "execution_count": 102,
   "metadata": {},
   "outputs": [],
   "source": [
    "y_pred_proba = knn2.predict_proba(X_train)"
   ]
  },
  {
   "cell_type": "code",
   "execution_count": 120,
   "metadata": {},
   "outputs": [
    {
     "name": "stdout",
     "output_type": "stream",
     "text": [
      "\n",
      "    The accuracy for our model is 72.4346%\n",
      "    The True Positive Rate is 41.579%,    The False Positive Rate is 8.469%,\n",
      "    The True Negative Rate is 91.531%,    The False Negative Rate is 58.421%\n",
      "    ________________________________________________________________________________\n",
      "    \n",
      "\n",
      "    The positive is  'survived'\n",
      "    Confusion Matrix\n",
      "    \n"
     ]
    },
    {
     "data": {
      "text/html": [
       "<div>\n",
       "<style scoped>\n",
       "    .dataframe tbody tr th:only-of-type {\n",
       "        vertical-align: middle;\n",
       "    }\n",
       "\n",
       "    .dataframe tbody tr th {\n",
       "        vertical-align: top;\n",
       "    }\n",
       "\n",
       "    .dataframe thead th {\n",
       "        text-align: right;\n",
       "    }\n",
       "</style>\n",
       "<table border=\"1\" class=\"dataframe\">\n",
       "  <thead>\n",
       "    <tr style=\"text-align: right;\">\n",
       "      <th></th>\n",
       "      <th>pred_dead</th>\n",
       "      <th>pred_survived</th>\n",
       "    </tr>\n",
       "  </thead>\n",
       "  <tbody>\n",
       "    <tr>\n",
       "      <th>actual_dead</th>\n",
       "      <td>True Negative: 281</td>\n",
       "      <td>False positive: 26</td>\n",
       "    </tr>\n",
       "    <tr>\n",
       "      <th>actual_survived</th>\n",
       "      <td>False Negative: 111</td>\n",
       "      <td>True Positive: 79</td>\n",
       "    </tr>\n",
       "  </tbody>\n",
       "</table>\n",
       "</div>"
      ],
      "text/plain": [
       "                           pred_dead       pred_survived\n",
       "actual_dead       True Negative: 281  False positive: 26\n",
       "actual_survived  False Negative: 111   True Positive: 79"
      ]
     },
     "metadata": {},
     "output_type": "display_data"
    },
    {
     "name": "stdout",
     "output_type": "stream",
     "text": [
      "\n",
      "    ________________________________________________________________________________\n",
      "    \n",
      "    Classification Report:\n",
      "    \n"
     ]
    },
    {
     "data": {
      "text/html": [
       "<div>\n",
       "<style scoped>\n",
       "    .dataframe tbody tr th:only-of-type {\n",
       "        vertical-align: middle;\n",
       "    }\n",
       "\n",
       "    .dataframe tbody tr th {\n",
       "        vertical-align: top;\n",
       "    }\n",
       "\n",
       "    .dataframe thead th {\n",
       "        text-align: right;\n",
       "    }\n",
       "</style>\n",
       "<table border=\"1\" class=\"dataframe\">\n",
       "  <thead>\n",
       "    <tr style=\"text-align: right;\">\n",
       "      <th></th>\n",
       "      <th>precision</th>\n",
       "      <th>recall</th>\n",
       "      <th>f1-score</th>\n",
       "      <th>support</th>\n",
       "    </tr>\n",
       "  </thead>\n",
       "  <tbody>\n",
       "    <tr>\n",
       "      <th>dead</th>\n",
       "      <td>0.716837</td>\n",
       "      <td>0.915309</td>\n",
       "      <td>0.804006</td>\n",
       "      <td>307.000000</td>\n",
       "    </tr>\n",
       "    <tr>\n",
       "      <th>survived</th>\n",
       "      <td>0.752381</td>\n",
       "      <td>0.415789</td>\n",
       "      <td>0.535593</td>\n",
       "      <td>190.000000</td>\n",
       "    </tr>\n",
       "    <tr>\n",
       "      <th>accuracy</th>\n",
       "      <td>0.724346</td>\n",
       "      <td>0.724346</td>\n",
       "      <td>0.724346</td>\n",
       "      <td>0.724346</td>\n",
       "    </tr>\n",
       "    <tr>\n",
       "      <th>macro avg</th>\n",
       "      <td>0.734609</td>\n",
       "      <td>0.665549</td>\n",
       "      <td>0.669799</td>\n",
       "      <td>497.000000</td>\n",
       "    </tr>\n",
       "    <tr>\n",
       "      <th>weighted avg</th>\n",
       "      <td>0.730425</td>\n",
       "      <td>0.724346</td>\n",
       "      <td>0.701393</td>\n",
       "      <td>497.000000</td>\n",
       "    </tr>\n",
       "  </tbody>\n",
       "</table>\n",
       "</div>"
      ],
      "text/plain": [
       "              precision    recall  f1-score     support\n",
       "dead           0.716837  0.915309  0.804006  307.000000\n",
       "survived       0.752381  0.415789  0.535593  190.000000\n",
       "accuracy       0.724346  0.724346  0.724346    0.724346\n",
       "macro avg      0.734609  0.665549  0.669799  497.000000\n",
       "weighted avg   0.730425  0.724346  0.701393  497.000000"
      ]
     },
     "metadata": {},
     "output_type": "display_data"
    }
   ],
   "source": [
    "model_func.model_performs(X_train, y_train, knn2)"
   ]
  },
  {
   "cell_type": "code",
   "execution_count": 121,
   "metadata": {},
   "outputs": [
    {
     "name": "stdout",
     "output_type": "stream",
     "text": [
      "\n",
      "    The accuracy for our model is 67.7570%\n",
      "    The True Positive Rate is 34.146%,    The False Positive Rate is 11.364%,\n",
      "    The True Negative Rate is 88.636%,    The False Negative Rate is 65.854%\n",
      "    ________________________________________________________________________________\n",
      "    \n",
      "\n",
      "    The positive is  'survived'\n",
      "    Confusion Matrix\n",
      "    \n"
     ]
    },
    {
     "data": {
      "text/html": [
       "<div>\n",
       "<style scoped>\n",
       "    .dataframe tbody tr th:only-of-type {\n",
       "        vertical-align: middle;\n",
       "    }\n",
       "\n",
       "    .dataframe tbody tr th {\n",
       "        vertical-align: top;\n",
       "    }\n",
       "\n",
       "    .dataframe thead th {\n",
       "        text-align: right;\n",
       "    }\n",
       "</style>\n",
       "<table border=\"1\" class=\"dataframe\">\n",
       "  <thead>\n",
       "    <tr style=\"text-align: right;\">\n",
       "      <th></th>\n",
       "      <th>pred_dead</th>\n",
       "      <th>pred_survived</th>\n",
       "    </tr>\n",
       "  </thead>\n",
       "  <tbody>\n",
       "    <tr>\n",
       "      <th>actual_dead</th>\n",
       "      <td>True Negative: 117</td>\n",
       "      <td>False positive: 15</td>\n",
       "    </tr>\n",
       "    <tr>\n",
       "      <th>actual_survived</th>\n",
       "      <td>False Negative: 54</td>\n",
       "      <td>True Positive: 28</td>\n",
       "    </tr>\n",
       "  </tbody>\n",
       "</table>\n",
       "</div>"
      ],
      "text/plain": [
       "                          pred_dead       pred_survived\n",
       "actual_dead      True Negative: 117  False positive: 15\n",
       "actual_survived  False Negative: 54   True Positive: 28"
      ]
     },
     "metadata": {},
     "output_type": "display_data"
    },
    {
     "name": "stdout",
     "output_type": "stream",
     "text": [
      "\n",
      "    ________________________________________________________________________________\n",
      "    \n",
      "    Classification Report:\n",
      "    \n"
     ]
    },
    {
     "data": {
      "text/html": [
       "<div>\n",
       "<style scoped>\n",
       "    .dataframe tbody tr th:only-of-type {\n",
       "        vertical-align: middle;\n",
       "    }\n",
       "\n",
       "    .dataframe tbody tr th {\n",
       "        vertical-align: top;\n",
       "    }\n",
       "\n",
       "    .dataframe thead th {\n",
       "        text-align: right;\n",
       "    }\n",
       "</style>\n",
       "<table border=\"1\" class=\"dataframe\">\n",
       "  <thead>\n",
       "    <tr style=\"text-align: right;\">\n",
       "      <th></th>\n",
       "      <th>precision</th>\n",
       "      <th>recall</th>\n",
       "      <th>f1-score</th>\n",
       "      <th>support</th>\n",
       "    </tr>\n",
       "  </thead>\n",
       "  <tbody>\n",
       "    <tr>\n",
       "      <th>dead</th>\n",
       "      <td>0.684211</td>\n",
       "      <td>0.886364</td>\n",
       "      <td>0.772277</td>\n",
       "      <td>132.00000</td>\n",
       "    </tr>\n",
       "    <tr>\n",
       "      <th>survived</th>\n",
       "      <td>0.651163</td>\n",
       "      <td>0.341463</td>\n",
       "      <td>0.448000</td>\n",
       "      <td>82.00000</td>\n",
       "    </tr>\n",
       "    <tr>\n",
       "      <th>accuracy</th>\n",
       "      <td>0.677570</td>\n",
       "      <td>0.677570</td>\n",
       "      <td>0.677570</td>\n",
       "      <td>0.67757</td>\n",
       "    </tr>\n",
       "    <tr>\n",
       "      <th>macro avg</th>\n",
       "      <td>0.667687</td>\n",
       "      <td>0.613914</td>\n",
       "      <td>0.610139</td>\n",
       "      <td>214.00000</td>\n",
       "    </tr>\n",
       "    <tr>\n",
       "      <th>weighted avg</th>\n",
       "      <td>0.671547</td>\n",
       "      <td>0.677570</td>\n",
       "      <td>0.648021</td>\n",
       "      <td>214.00000</td>\n",
       "    </tr>\n",
       "  </tbody>\n",
       "</table>\n",
       "</div>"
      ],
      "text/plain": [
       "              precision    recall  f1-score    support\n",
       "dead           0.684211  0.886364  0.772277  132.00000\n",
       "survived       0.651163  0.341463  0.448000   82.00000\n",
       "accuracy       0.677570  0.677570  0.677570    0.67757\n",
       "macro avg      0.667687  0.613914  0.610139  214.00000\n",
       "weighted avg   0.671547  0.677570  0.648021  214.00000"
      ]
     },
     "metadata": {},
     "output_type": "display_data"
    }
   ],
   "source": [
    "model_func.model_performs(X_validate, y_validate, knn2)"
   ]
  },
  {
   "cell_type": "markdown",
   "metadata": {},
   "source": [
    "5. Run through setps 2-4 setting k to 20"
   ]
  },
  {
   "cell_type": "code",
   "execution_count": 106,
   "metadata": {},
   "outputs": [],
   "source": [
    "knn3 = KNeighborsClassifier(n_neighbors=20, weights='uniform')"
   ]
  },
  {
   "cell_type": "code",
   "execution_count": 107,
   "metadata": {},
   "outputs": [
    {
     "data": {
      "text/plain": [
       "KNeighborsClassifier(n_neighbors=20)"
      ]
     },
     "execution_count": 107,
     "metadata": {},
     "output_type": "execute_result"
    }
   ],
   "source": [
    "knn3.fit(X_train, y_train)"
   ]
  },
  {
   "cell_type": "code",
   "execution_count": 108,
   "metadata": {},
   "outputs": [],
   "source": [
    "y_pred = knn3.predict(X_train)"
   ]
  },
  {
   "cell_type": "code",
   "execution_count": 109,
   "metadata": {},
   "outputs": [],
   "source": [
    "y_pred_proba = knn3.predict_proba(X_train)"
   ]
  },
  {
   "cell_type": "code",
   "execution_count": 126,
   "metadata": {},
   "outputs": [
    {
     "name": "stdout",
     "output_type": "stream",
     "text": [
      "\n",
      "    The accuracy for our model is 68.4105%\n",
      "    The True Positive Rate is 33.684%,    The False Positive Rate is 10.098%,\n",
      "    The True Negative Rate is 89.902%,    The False Negative Rate is 66.316%\n",
      "    ________________________________________________________________________________\n",
      "    \n",
      "\n",
      "    The positive is  'survived'\n",
      "    Confusion Matrix\n",
      "    \n"
     ]
    },
    {
     "data": {
      "text/html": [
       "<div>\n",
       "<style scoped>\n",
       "    .dataframe tbody tr th:only-of-type {\n",
       "        vertical-align: middle;\n",
       "    }\n",
       "\n",
       "    .dataframe tbody tr th {\n",
       "        vertical-align: top;\n",
       "    }\n",
       "\n",
       "    .dataframe thead th {\n",
       "        text-align: right;\n",
       "    }\n",
       "</style>\n",
       "<table border=\"1\" class=\"dataframe\">\n",
       "  <thead>\n",
       "    <tr style=\"text-align: right;\">\n",
       "      <th></th>\n",
       "      <th>pred_dead</th>\n",
       "      <th>pred_survived</th>\n",
       "    </tr>\n",
       "  </thead>\n",
       "  <tbody>\n",
       "    <tr>\n",
       "      <th>actual_dead</th>\n",
       "      <td>True Negative: 276</td>\n",
       "      <td>False positive: 31</td>\n",
       "    </tr>\n",
       "    <tr>\n",
       "      <th>actual_survived</th>\n",
       "      <td>False Negative: 126</td>\n",
       "      <td>True Positive: 64</td>\n",
       "    </tr>\n",
       "  </tbody>\n",
       "</table>\n",
       "</div>"
      ],
      "text/plain": [
       "                           pred_dead       pred_survived\n",
       "actual_dead       True Negative: 276  False positive: 31\n",
       "actual_survived  False Negative: 126   True Positive: 64"
      ]
     },
     "metadata": {},
     "output_type": "display_data"
    },
    {
     "name": "stdout",
     "output_type": "stream",
     "text": [
      "\n",
      "    ________________________________________________________________________________\n",
      "    \n",
      "    Classification Report:\n",
      "    \n"
     ]
    },
    {
     "data": {
      "text/html": [
       "<div>\n",
       "<style scoped>\n",
       "    .dataframe tbody tr th:only-of-type {\n",
       "        vertical-align: middle;\n",
       "    }\n",
       "\n",
       "    .dataframe tbody tr th {\n",
       "        vertical-align: top;\n",
       "    }\n",
       "\n",
       "    .dataframe thead th {\n",
       "        text-align: right;\n",
       "    }\n",
       "</style>\n",
       "<table border=\"1\" class=\"dataframe\">\n",
       "  <thead>\n",
       "    <tr style=\"text-align: right;\">\n",
       "      <th></th>\n",
       "      <th>precision</th>\n",
       "      <th>recall</th>\n",
       "      <th>f1-score</th>\n",
       "      <th>support</th>\n",
       "    </tr>\n",
       "  </thead>\n",
       "  <tbody>\n",
       "    <tr>\n",
       "      <th>dead</th>\n",
       "      <td>0.686567</td>\n",
       "      <td>0.899023</td>\n",
       "      <td>0.778561</td>\n",
       "      <td>307.000000</td>\n",
       "    </tr>\n",
       "    <tr>\n",
       "      <th>survived</th>\n",
       "      <td>0.673684</td>\n",
       "      <td>0.336842</td>\n",
       "      <td>0.449123</td>\n",
       "      <td>190.000000</td>\n",
       "    </tr>\n",
       "    <tr>\n",
       "      <th>accuracy</th>\n",
       "      <td>0.684105</td>\n",
       "      <td>0.684105</td>\n",
       "      <td>0.684105</td>\n",
       "      <td>0.684105</td>\n",
       "    </tr>\n",
       "    <tr>\n",
       "      <th>macro avg</th>\n",
       "      <td>0.680126</td>\n",
       "      <td>0.617932</td>\n",
       "      <td>0.613842</td>\n",
       "      <td>497.000000</td>\n",
       "    </tr>\n",
       "    <tr>\n",
       "      <th>weighted avg</th>\n",
       "      <td>0.681642</td>\n",
       "      <td>0.684105</td>\n",
       "      <td>0.652619</td>\n",
       "      <td>497.000000</td>\n",
       "    </tr>\n",
       "  </tbody>\n",
       "</table>\n",
       "</div>"
      ],
      "text/plain": [
       "              precision    recall  f1-score     support\n",
       "dead           0.686567  0.899023  0.778561  307.000000\n",
       "survived       0.673684  0.336842  0.449123  190.000000\n",
       "accuracy       0.684105  0.684105  0.684105    0.684105\n",
       "macro avg      0.680126  0.617932  0.613842  497.000000\n",
       "weighted avg   0.681642  0.684105  0.652619  497.000000"
      ]
     },
     "metadata": {},
     "output_type": "display_data"
    }
   ],
   "source": [
    "model_func.model_performs(X_train, y_train, knn3)"
   ]
  },
  {
   "cell_type": "code",
   "execution_count": 127,
   "metadata": {},
   "outputs": [
    {
     "name": "stdout",
     "output_type": "stream",
     "text": [
      "\n",
      "    The accuracy for our model is 67.7570%\n",
      "    The True Positive Rate is 36.585%,    The False Positive Rate is 12.879%,\n",
      "    The True Negative Rate is 87.121%,    The False Negative Rate is 63.415%\n",
      "    ________________________________________________________________________________\n",
      "    \n",
      "\n",
      "    The positive is  'survived'\n",
      "    Confusion Matrix\n",
      "    \n"
     ]
    },
    {
     "data": {
      "text/html": [
       "<div>\n",
       "<style scoped>\n",
       "    .dataframe tbody tr th:only-of-type {\n",
       "        vertical-align: middle;\n",
       "    }\n",
       "\n",
       "    .dataframe tbody tr th {\n",
       "        vertical-align: top;\n",
       "    }\n",
       "\n",
       "    .dataframe thead th {\n",
       "        text-align: right;\n",
       "    }\n",
       "</style>\n",
       "<table border=\"1\" class=\"dataframe\">\n",
       "  <thead>\n",
       "    <tr style=\"text-align: right;\">\n",
       "      <th></th>\n",
       "      <th>pred_dead</th>\n",
       "      <th>pred_survived</th>\n",
       "    </tr>\n",
       "  </thead>\n",
       "  <tbody>\n",
       "    <tr>\n",
       "      <th>actual_dead</th>\n",
       "      <td>True Negative: 115</td>\n",
       "      <td>False positive: 17</td>\n",
       "    </tr>\n",
       "    <tr>\n",
       "      <th>actual_survived</th>\n",
       "      <td>False Negative: 52</td>\n",
       "      <td>True Positive: 30</td>\n",
       "    </tr>\n",
       "  </tbody>\n",
       "</table>\n",
       "</div>"
      ],
      "text/plain": [
       "                          pred_dead       pred_survived\n",
       "actual_dead      True Negative: 115  False positive: 17\n",
       "actual_survived  False Negative: 52   True Positive: 30"
      ]
     },
     "metadata": {},
     "output_type": "display_data"
    },
    {
     "name": "stdout",
     "output_type": "stream",
     "text": [
      "\n",
      "    ________________________________________________________________________________\n",
      "    \n",
      "    Classification Report:\n",
      "    \n"
     ]
    },
    {
     "data": {
      "text/html": [
       "<div>\n",
       "<style scoped>\n",
       "    .dataframe tbody tr th:only-of-type {\n",
       "        vertical-align: middle;\n",
       "    }\n",
       "\n",
       "    .dataframe tbody tr th {\n",
       "        vertical-align: top;\n",
       "    }\n",
       "\n",
       "    .dataframe thead th {\n",
       "        text-align: right;\n",
       "    }\n",
       "</style>\n",
       "<table border=\"1\" class=\"dataframe\">\n",
       "  <thead>\n",
       "    <tr style=\"text-align: right;\">\n",
       "      <th></th>\n",
       "      <th>precision</th>\n",
       "      <th>recall</th>\n",
       "      <th>f1-score</th>\n",
       "      <th>support</th>\n",
       "    </tr>\n",
       "  </thead>\n",
       "  <tbody>\n",
       "    <tr>\n",
       "      <th>dead</th>\n",
       "      <td>0.688623</td>\n",
       "      <td>0.871212</td>\n",
       "      <td>0.769231</td>\n",
       "      <td>132.00000</td>\n",
       "    </tr>\n",
       "    <tr>\n",
       "      <th>survived</th>\n",
       "      <td>0.638298</td>\n",
       "      <td>0.365854</td>\n",
       "      <td>0.465116</td>\n",
       "      <td>82.00000</td>\n",
       "    </tr>\n",
       "    <tr>\n",
       "      <th>accuracy</th>\n",
       "      <td>0.677570</td>\n",
       "      <td>0.677570</td>\n",
       "      <td>0.677570</td>\n",
       "      <td>0.67757</td>\n",
       "    </tr>\n",
       "    <tr>\n",
       "      <th>macro avg</th>\n",
       "      <td>0.663460</td>\n",
       "      <td>0.618533</td>\n",
       "      <td>0.617174</td>\n",
       "      <td>214.00000</td>\n",
       "    </tr>\n",
       "    <tr>\n",
       "      <th>weighted avg</th>\n",
       "      <td>0.669339</td>\n",
       "      <td>0.677570</td>\n",
       "      <td>0.652701</td>\n",
       "      <td>214.00000</td>\n",
       "    </tr>\n",
       "  </tbody>\n",
       "</table>\n",
       "</div>"
      ],
      "text/plain": [
       "              precision    recall  f1-score    support\n",
       "dead           0.688623  0.871212  0.769231  132.00000\n",
       "survived       0.638298  0.365854  0.465116   82.00000\n",
       "accuracy       0.677570  0.677570  0.677570    0.67757\n",
       "macro avg      0.663460  0.618533  0.617174  214.00000\n",
       "weighted avg   0.669339  0.677570  0.652701  214.00000"
      ]
     },
     "metadata": {},
     "output_type": "display_data"
    }
   ],
   "source": [
    "model_func.model_performs(X_validate, y_validate, knn3)"
   ]
  },
  {
   "cell_type": "markdown",
   "metadata": {},
   "source": [
    "6. What are the differences in the evaluation metrics? Which performs better on your in-sample data? Why?"
   ]
  },
  {
   "cell_type": "markdown",
   "metadata": {},
   "source": [
    "The higher the k value, the higher the TN and TP with k=20 the best one.  This is due to better sampling."
   ]
  },
  {
   "cell_type": "markdown",
   "metadata": {},
   "source": [
    "7. Which model performs best on our out-of-sample data from validate?"
   ]
  },
  {
   "cell_type": "markdown",
   "metadata": {},
   "source": [
    "Setting k to 10 seems to be the best model."
   ]
  },
  {
   "cell_type": "markdown",
   "metadata": {},
   "source": [
    "# Logistics Regression"
   ]
  },
  {
   "cell_type": "markdown",
   "metadata": {},
   "source": [
    "1. Create a model that includes age in addition to fare and pclass. Does this model perform better than your baseline?"
   ]
  },
  {
   "cell_type": "code",
   "execution_count": 5,
   "metadata": {},
   "outputs": [],
   "source": [
    "from sklearn.linear_model import LogisticRegression"
   ]
  },
  {
   "cell_type": "code",
   "execution_count": 129,
   "metadata": {},
   "outputs": [
    {
     "data": {
      "text/plain": [
       "['pclass', 'age', 'alone', 'Q', 'S']"
      ]
     },
     "execution_count": 129,
     "metadata": {},
     "output_type": "execute_result"
    }
   ],
   "source": [
    "X_cols"
   ]
  },
  {
   "cell_type": "code",
   "execution_count": 131,
   "metadata": {},
   "outputs": [],
   "source": [
    "X_cols = ['pclass', 'age', 'fare']\n",
    "y_col = 'survived'\n",
    "\n",
    "X_train, y_train = train[X_cols], train[y_col]\n",
    "X_validate, y_validate = validate[X_cols], validate[y_col]\n",
    "X_test, y_test = test[X_cols], test[y_col]"
   ]
  },
  {
   "cell_type": "code",
   "execution_count": 6,
   "metadata": {},
   "outputs": [],
   "source": [
    "logit = LogisticRegression(C=1, class_weight={0:61, 1:39}, random_state=123)"
   ]
  },
  {
   "cell_type": "code",
   "execution_count": 7,
   "metadata": {},
   "outputs": [
    {
     "data": {
      "text/plain": [
       "LogisticRegression(C=1, class_weight={0: 61, 1: 39}, random_state=123)"
      ]
     },
     "execution_count": 7,
     "metadata": {},
     "output_type": "execute_result"
    }
   ],
   "source": [
    "logit.fit(X_train, y_train)"
   ]
  },
  {
   "cell_type": "code",
   "execution_count": 8,
   "metadata": {},
   "outputs": [],
   "source": [
    "y_pred = logit.predict(X_train)"
   ]
  },
  {
   "cell_type": "code",
   "execution_count": 9,
   "metadata": {},
   "outputs": [
    {
     "name": "stdout",
     "output_type": "stream",
     "text": [
      "              precision    recall  f1-score   support\n",
      "\n",
      "           0       0.78      0.93      0.85       307\n",
      "           1       0.85      0.58      0.69       191\n",
      "\n",
      "    accuracy                           0.80       498\n",
      "   macro avg       0.81      0.76      0.77       498\n",
      "weighted avg       0.81      0.80      0.79       498\n",
      "\n"
     ]
    }
   ],
   "source": [
    "print(classification_report(y_train, y_pred))"
   ]
  },
  {
   "cell_type": "markdown",
   "metadata": {},
   "source": [
    "Accuracy of 80% so performed better than the baseline of 61%"
   ]
  },
  {
   "cell_type": "markdown",
   "metadata": {},
   "source": [
    "2. Include sex in your model as well. Note that you'll need to encode or create a dummy variable of this feature before including it in a model."
   ]
  },
  {
   "cell_type": "code",
   "execution_count": 2,
   "metadata": {},
   "outputs": [],
   "source": [
    "train, validate, test = prepare.prep_titanic_data(acquire.new_titanic_data(), column = 'age', method = 'median', dummies = ['embarked', 'sex'])"
   ]
  },
  {
   "cell_type": "code",
   "execution_count": 10,
   "metadata": {},
   "outputs": [],
   "source": [
    "X_cols = ['pclass', 'age', 'fare', 'sex_male']\n",
    "y_col = 'survived'\n",
    "\n",
    "X_train, y_train = train[X_cols], train[y_col]\n",
    "X_validate, y_validate = validate[X_cols], validate[y_col]\n",
    "X_test, y_test = test[X_cols], test[y_col]"
   ]
  },
  {
   "cell_type": "code",
   "execution_count": 17,
   "metadata": {},
   "outputs": [],
   "source": [
    "logit2 = LogisticRegression(C=.01, class_weight={0:61, 1:39}, random_state=123)"
   ]
  },
  {
   "cell_type": "code",
   "execution_count": 18,
   "metadata": {},
   "outputs": [
    {
     "data": {
      "text/plain": [
       "LogisticRegression(C=0.01, class_weight={0: 61, 1: 39}, random_state=123)"
      ]
     },
     "execution_count": 18,
     "metadata": {},
     "output_type": "execute_result"
    }
   ],
   "source": [
    "logit2.fit(X_train, y_train)"
   ]
  },
  {
   "cell_type": "code",
   "execution_count": 19,
   "metadata": {},
   "outputs": [],
   "source": [
    "y_pred = logit2.predict(X_train)"
   ]
  },
  {
   "cell_type": "code",
   "execution_count": 20,
   "metadata": {},
   "outputs": [
    {
     "name": "stdout",
     "output_type": "stream",
     "text": [
      "              precision    recall  f1-score   support\n",
      "\n",
      "           0       0.78      0.94      0.85       307\n",
      "           1       0.86      0.56      0.68       191\n",
      "\n",
      "    accuracy                           0.80       498\n",
      "   macro avg       0.82      0.75      0.77       498\n",
      "weighted avg       0.81      0.80      0.79       498\n",
      "\n"
     ]
    }
   ],
   "source": [
    "print(classification_report(y_train, y_pred))"
   ]
  },
  {
   "cell_type": "markdown",
   "metadata": {},
   "source": [
    "3. Try out other combinations of features and models."
   ]
  },
  {
   "cell_type": "markdown",
   "metadata": {},
   "source": [
    "4. Use your best 3 models to predict and evaluate on your validate sample."
   ]
  },
  {
   "cell_type": "code",
   "execution_count": 21,
   "metadata": {},
   "outputs": [],
   "source": [
    "logit3 = LogisticRegression(C=.01, random_state=123)"
   ]
  },
  {
   "cell_type": "code",
   "execution_count": 25,
   "metadata": {},
   "outputs": [
    {
     "data": {
      "text/plain": [
       "LogisticRegression(C=0.01, random_state=123)"
      ]
     },
     "execution_count": 25,
     "metadata": {},
     "output_type": "execute_result"
    }
   ],
   "source": [
    "logit3.fit(X_train, y_train)"
   ]
  },
  {
   "cell_type": "code",
   "execution_count": 36,
   "metadata": {},
   "outputs": [
    {
     "name": "stdout",
     "output_type": "stream",
     "text": [
      "training score: 71.08%\n",
      "validate score: 71.96%\n"
     ]
    }
   ],
   "source": [
    "#Model 3 score\n",
    "print(f'training score: {logit3.score(X_train, y_train):.2%}')\n",
    "print(f'validate score: {logit3.score(X_validate, y_validate):.2%}')"
   ]
  },
  {
   "cell_type": "code",
   "execution_count": 26,
   "metadata": {},
   "outputs": [],
   "source": [
    "y_pred = logit3.predict(X_train)"
   ]
  },
  {
   "cell_type": "code",
   "execution_count": 27,
   "metadata": {},
   "outputs": [
    {
     "name": "stdout",
     "output_type": "stream",
     "text": [
      "              precision    recall  f1-score   support\n",
      "\n",
      "           0       0.69      0.96      0.80       307\n",
      "           1       0.84      0.30      0.45       191\n",
      "\n",
      "    accuracy                           0.71       498\n",
      "   macro avg       0.77      0.63      0.63       498\n",
      "weighted avg       0.75      0.71      0.67       498\n",
      "\n"
     ]
    }
   ],
   "source": [
    "print(classification_report(y_train, y_pred))"
   ]
  },
  {
   "cell_type": "code",
   "execution_count": 28,
   "metadata": {},
   "outputs": [
    {
     "data": {
      "text/plain": [
       "LogisticRegression(C=1, class_weight={0: 61, 1: 39}, random_state=123,\n",
       "                   solver='sag')"
      ]
     },
     "execution_count": 28,
     "metadata": {},
     "output_type": "execute_result"
    }
   ],
   "source": [
    "logit4 = LogisticRegression(C=1, class_weight={0:61, 1:39}, random_state=123, intercept_scaling=1, solver='sag')\n",
    "#Fit the thing\n",
    "logit4.fit(X_train, y_train)"
   ]
  },
  {
   "cell_type": "code",
   "execution_count": 29,
   "metadata": {},
   "outputs": [
    {
     "name": "stdout",
     "output_type": "stream",
     "text": [
      "training score: 75.30%\n",
      "validate score: 73.36%\n"
     ]
    }
   ],
   "source": [
    "#Model 4 score\n",
    "print(f'training score: {logit4.score(X_train, y_train):.2%}')\n",
    "print(f'validate score: {logit4.score(X_validate, y_validate):.2%}')"
   ]
  },
  {
   "cell_type": "code",
   "execution_count": 32,
   "metadata": {},
   "outputs": [],
   "source": [
    "y_pred = logit4.predict(X_train)"
   ]
  },
  {
   "cell_type": "code",
   "execution_count": 33,
   "metadata": {},
   "outputs": [
    {
     "name": "stdout",
     "output_type": "stream",
     "text": [
      "              precision    recall  f1-score   support\n",
      "\n",
      "           0       0.87      0.71      0.78       307\n",
      "           1       0.64      0.83      0.72       191\n",
      "\n",
      "    accuracy                           0.75       498\n",
      "   macro avg       0.75      0.77      0.75       498\n",
      "weighted avg       0.78      0.75      0.76       498\n",
      "\n"
     ]
    }
   ],
   "source": [
    "print(classification_report(y_train, y_pred))"
   ]
  },
  {
   "cell_type": "code",
   "execution_count": 34,
   "metadata": {},
   "outputs": [
    {
     "data": {
      "text/plain": [
       "LogisticRegression(C=1, class_weight={0: 50, 1: 50}, random_state=123)"
      ]
     },
     "execution_count": 34,
     "metadata": {},
     "output_type": "execute_result"
    }
   ],
   "source": [
    "logit5 = LogisticRegression(C=1, class_weight={0:50, 1:50}, random_state=123, intercept_scaling=1, solver='lbfgs')\n",
    "#Fit the thing\n",
    "logit5.fit(X_train, y_train)"
   ]
  },
  {
   "cell_type": "code",
   "execution_count": 35,
   "metadata": {},
   "outputs": [
    {
     "name": "stdout",
     "output_type": "stream",
     "text": [
      "training score: 80.92%\n",
      "validate score: 76.64%\n"
     ]
    }
   ],
   "source": [
    "#Model 5 score\n",
    "print(f'training score: {logit5.score(X_train, y_train):.2%}')\n",
    "print(f'validate score: {logit5.score(X_validate, y_validate):.2%}')"
   ]
  },
  {
   "cell_type": "markdown",
   "metadata": {},
   "source": [
    "5. Choose you best model from the validation performation, and evaluate it on the test dataset. How do the performance metrics compare to validate? to train?\n",
    "\n"
   ]
  },
  {
   "cell_type": "code",
   "execution_count": 38,
   "metadata": {},
   "outputs": [],
   "source": [
    "import compare_metrics"
   ]
  },
  {
   "cell_type": "code",
   "execution_count": 41,
   "metadata": {},
   "outputs": [
    {
     "name": "stdout",
     "output_type": "stream",
     "text": [
      "\n",
      "    ******    Train       ******                              ******     Test    ****** \n",
      "       Overall Accuracy:  80.92%              |                Overall Accuracy:  78.21%  \n",
      "                                                \n",
      "    True Positive Rate:  73.30%               |          The True Positive Rate:  71.01%  \n",
      "    False Positive Rate:  14.33%              |          The False Positive Rate:  17.27% \n",
      "    True Negative Rate:  85.67%               |          The True Negative Rate:  82.73% \n",
      "    False Negative Rate:  26.70%              |          The False Negative Rate:  28.99%\n",
      "    _________________________________________________________________________________\n",
      "    \n",
      "\n",
      "    Positive =  'survived'\n",
      "    Confusion Matrix\n",
      "    \n"
     ]
    },
    {
     "data": {
      "text/html": [
       "<style  type=\"text/css\" >\n",
       "</style><table id=\"T_0b5dc154_bcf5_11eb_af29_acde48001122\" style='display:inline'><caption>Train Confusion Matrix</caption><thead>    <tr>        <th class=\"blank level0\" ></th>        <th class=\"col_heading level0 col0\" >pred_dead</th>        <th class=\"col_heading level0 col1\" >pred_survived</th>    </tr></thead><tbody>\n",
       "                <tr>\n",
       "                        <th id=\"T_0b5dc154_bcf5_11eb_af29_acde48001122level0_row0\" class=\"row_heading level0 row0\" >actual_dead</th>\n",
       "                        <td id=\"T_0b5dc154_bcf5_11eb_af29_acde48001122row0_col0\" class=\"data row0 col0\" >TN : 263</td>\n",
       "                        <td id=\"T_0b5dc154_bcf5_11eb_af29_acde48001122row0_col1\" class=\"data row0 col1\" >FP : 44</td>\n",
       "            </tr>\n",
       "            <tr>\n",
       "                        <th id=\"T_0b5dc154_bcf5_11eb_af29_acde48001122level0_row1\" class=\"row_heading level0 row1\" >actual_survived</th>\n",
       "                        <td id=\"T_0b5dc154_bcf5_11eb_af29_acde48001122row1_col0\" class=\"data row1 col0\" >FN : 51</td>\n",
       "                        <td id=\"T_0b5dc154_bcf5_11eb_af29_acde48001122row1_col1\" class=\"data row1 col1\" >TP : 140</td>\n",
       "            </tr>\n",
       "    </tbody></table>                                                  <style  type=\"text/css\" >\n",
       "</style><table id=\"T_0b5ec112_bcf5_11eb_af29_acde48001122\" style='display:inline'><caption>Test Confusion Matrix</caption><thead>    <tr>        <th class=\"blank level0\" ></th>        <th class=\"col_heading level0 col0\" >pred_dead</th>        <th class=\"col_heading level0 col1\" >pred_survived</th>    </tr></thead><tbody>\n",
       "                <tr>\n",
       "                        <th id=\"T_0b5ec112_bcf5_11eb_af29_acde48001122level0_row0\" class=\"row_heading level0 row0\" >actual_dead</th>\n",
       "                        <td id=\"T_0b5ec112_bcf5_11eb_af29_acde48001122row0_col0\" class=\"data row0 col0\" >TN : 91</td>\n",
       "                        <td id=\"T_0b5ec112_bcf5_11eb_af29_acde48001122row0_col1\" class=\"data row0 col1\" >FP : 19</td>\n",
       "            </tr>\n",
       "            <tr>\n",
       "                        <th id=\"T_0b5ec112_bcf5_11eb_af29_acde48001122level0_row1\" class=\"row_heading level0 row1\" >actual_survived</th>\n",
       "                        <td id=\"T_0b5ec112_bcf5_11eb_af29_acde48001122row1_col0\" class=\"data row1 col0\" >FN : 20</td>\n",
       "                        <td id=\"T_0b5ec112_bcf5_11eb_af29_acde48001122row1_col1\" class=\"data row1 col1\" >TP : 49</td>\n",
       "            </tr>\n",
       "    </tbody></table>"
      ]
     },
     "metadata": {},
     "output_type": "display_data"
    },
    {
     "name": "stdout",
     "output_type": "stream",
     "text": [
      "\n",
      "    ________________________________________________________________________________\n",
      "    \n",
      "    Classification Report:\n",
      "    \n"
     ]
    },
    {
     "data": {
      "text/html": [
       "<style  type=\"text/css\" >\n",
       "</style><table id=\"T_0b5f776a_bcf5_11eb_af29_acde48001122\" style='display:inline'><caption>Train Classification Report</caption><thead>    <tr>        <th class=\"blank level0\" ></th>        <th class=\"col_heading level0 col0\" >precision</th>        <th class=\"col_heading level0 col1\" >recall</th>        <th class=\"col_heading level0 col2\" >f1-score</th>        <th class=\"col_heading level0 col3\" >support</th>    </tr></thead><tbody>\n",
       "                <tr>\n",
       "                        <th id=\"T_0b5f776a_bcf5_11eb_af29_acde48001122level0_row0\" class=\"row_heading level0 row0\" >dead</th>\n",
       "                        <td id=\"T_0b5f776a_bcf5_11eb_af29_acde48001122row0_col0\" class=\"data row0 col0\" >0.837580</td>\n",
       "                        <td id=\"T_0b5f776a_bcf5_11eb_af29_acde48001122row0_col1\" class=\"data row0 col1\" >0.856678</td>\n",
       "                        <td id=\"T_0b5f776a_bcf5_11eb_af29_acde48001122row0_col2\" class=\"data row0 col2\" >0.847021</td>\n",
       "                        <td id=\"T_0b5f776a_bcf5_11eb_af29_acde48001122row0_col3\" class=\"data row0 col3\" >307.000000</td>\n",
       "            </tr>\n",
       "            <tr>\n",
       "                        <th id=\"T_0b5f776a_bcf5_11eb_af29_acde48001122level0_row1\" class=\"row_heading level0 row1\" >survived</th>\n",
       "                        <td id=\"T_0b5f776a_bcf5_11eb_af29_acde48001122row1_col0\" class=\"data row1 col0\" >0.760870</td>\n",
       "                        <td id=\"T_0b5f776a_bcf5_11eb_af29_acde48001122row1_col1\" class=\"data row1 col1\" >0.732984</td>\n",
       "                        <td id=\"T_0b5f776a_bcf5_11eb_af29_acde48001122row1_col2\" class=\"data row1 col2\" >0.746667</td>\n",
       "                        <td id=\"T_0b5f776a_bcf5_11eb_af29_acde48001122row1_col3\" class=\"data row1 col3\" >191.000000</td>\n",
       "            </tr>\n",
       "            <tr>\n",
       "                        <th id=\"T_0b5f776a_bcf5_11eb_af29_acde48001122level0_row2\" class=\"row_heading level0 row2\" >accuracy</th>\n",
       "                        <td id=\"T_0b5f776a_bcf5_11eb_af29_acde48001122row2_col0\" class=\"data row2 col0\" >0.809237</td>\n",
       "                        <td id=\"T_0b5f776a_bcf5_11eb_af29_acde48001122row2_col1\" class=\"data row2 col1\" >0.809237</td>\n",
       "                        <td id=\"T_0b5f776a_bcf5_11eb_af29_acde48001122row2_col2\" class=\"data row2 col2\" >0.809237</td>\n",
       "                        <td id=\"T_0b5f776a_bcf5_11eb_af29_acde48001122row2_col3\" class=\"data row2 col3\" >0.809237</td>\n",
       "            </tr>\n",
       "            <tr>\n",
       "                        <th id=\"T_0b5f776a_bcf5_11eb_af29_acde48001122level0_row3\" class=\"row_heading level0 row3\" >macro avg</th>\n",
       "                        <td id=\"T_0b5f776a_bcf5_11eb_af29_acde48001122row3_col0\" class=\"data row3 col0\" >0.799225</td>\n",
       "                        <td id=\"T_0b5f776a_bcf5_11eb_af29_acde48001122row3_col1\" class=\"data row3 col1\" >0.794831</td>\n",
       "                        <td id=\"T_0b5f776a_bcf5_11eb_af29_acde48001122row3_col2\" class=\"data row3 col2\" >0.796844</td>\n",
       "                        <td id=\"T_0b5f776a_bcf5_11eb_af29_acde48001122row3_col3\" class=\"data row3 col3\" >498.000000</td>\n",
       "            </tr>\n",
       "            <tr>\n",
       "                        <th id=\"T_0b5f776a_bcf5_11eb_af29_acde48001122level0_row4\" class=\"row_heading level0 row4\" >weighted avg</th>\n",
       "                        <td id=\"T_0b5f776a_bcf5_11eb_af29_acde48001122row4_col0\" class=\"data row4 col0\" >0.808159</td>\n",
       "                        <td id=\"T_0b5f776a_bcf5_11eb_af29_acde48001122row4_col1\" class=\"data row4 col1\" >0.809237</td>\n",
       "                        <td id=\"T_0b5f776a_bcf5_11eb_af29_acde48001122row4_col2\" class=\"data row4 col2\" >0.808532</td>\n",
       "                        <td id=\"T_0b5f776a_bcf5_11eb_af29_acde48001122row4_col3\" class=\"data row4 col3\" >498.000000</td>\n",
       "            </tr>\n",
       "    </tbody></table>                                             <style  type=\"text/css\" >\n",
       "</style><table id=\"T_0b5ff348_bcf5_11eb_af29_acde48001122\" style='display:inline'><caption>Test Classification Report</caption><thead>    <tr>        <th class=\"blank level0\" ></th>        <th class=\"col_heading level0 col0\" >precision</th>        <th class=\"col_heading level0 col1\" >recall</th>        <th class=\"col_heading level0 col2\" >f1-score</th>        <th class=\"col_heading level0 col3\" >support</th>    </tr></thead><tbody>\n",
       "                <tr>\n",
       "                        <th id=\"T_0b5ff348_bcf5_11eb_af29_acde48001122level0_row0\" class=\"row_heading level0 row0\" >dead</th>\n",
       "                        <td id=\"T_0b5ff348_bcf5_11eb_af29_acde48001122row0_col0\" class=\"data row0 col0\" >0.819820</td>\n",
       "                        <td id=\"T_0b5ff348_bcf5_11eb_af29_acde48001122row0_col1\" class=\"data row0 col1\" >0.827273</td>\n",
       "                        <td id=\"T_0b5ff348_bcf5_11eb_af29_acde48001122row0_col2\" class=\"data row0 col2\" >0.823529</td>\n",
       "                        <td id=\"T_0b5ff348_bcf5_11eb_af29_acde48001122row0_col3\" class=\"data row0 col3\" >110.000000</td>\n",
       "            </tr>\n",
       "            <tr>\n",
       "                        <th id=\"T_0b5ff348_bcf5_11eb_af29_acde48001122level0_row1\" class=\"row_heading level0 row1\" >survived</th>\n",
       "                        <td id=\"T_0b5ff348_bcf5_11eb_af29_acde48001122row1_col0\" class=\"data row1 col0\" >0.720588</td>\n",
       "                        <td id=\"T_0b5ff348_bcf5_11eb_af29_acde48001122row1_col1\" class=\"data row1 col1\" >0.710145</td>\n",
       "                        <td id=\"T_0b5ff348_bcf5_11eb_af29_acde48001122row1_col2\" class=\"data row1 col2\" >0.715328</td>\n",
       "                        <td id=\"T_0b5ff348_bcf5_11eb_af29_acde48001122row1_col3\" class=\"data row1 col3\" >69.000000</td>\n",
       "            </tr>\n",
       "            <tr>\n",
       "                        <th id=\"T_0b5ff348_bcf5_11eb_af29_acde48001122level0_row2\" class=\"row_heading level0 row2\" >accuracy</th>\n",
       "                        <td id=\"T_0b5ff348_bcf5_11eb_af29_acde48001122row2_col0\" class=\"data row2 col0\" >0.782123</td>\n",
       "                        <td id=\"T_0b5ff348_bcf5_11eb_af29_acde48001122row2_col1\" class=\"data row2 col1\" >0.782123</td>\n",
       "                        <td id=\"T_0b5ff348_bcf5_11eb_af29_acde48001122row2_col2\" class=\"data row2 col2\" >0.782123</td>\n",
       "                        <td id=\"T_0b5ff348_bcf5_11eb_af29_acde48001122row2_col3\" class=\"data row2 col3\" >0.782123</td>\n",
       "            </tr>\n",
       "            <tr>\n",
       "                        <th id=\"T_0b5ff348_bcf5_11eb_af29_acde48001122level0_row3\" class=\"row_heading level0 row3\" >macro avg</th>\n",
       "                        <td id=\"T_0b5ff348_bcf5_11eb_af29_acde48001122row3_col0\" class=\"data row3 col0\" >0.770204</td>\n",
       "                        <td id=\"T_0b5ff348_bcf5_11eb_af29_acde48001122row3_col1\" class=\"data row3 col1\" >0.768709</td>\n",
       "                        <td id=\"T_0b5ff348_bcf5_11eb_af29_acde48001122row3_col2\" class=\"data row3 col2\" >0.769429</td>\n",
       "                        <td id=\"T_0b5ff348_bcf5_11eb_af29_acde48001122row3_col3\" class=\"data row3 col3\" >179.000000</td>\n",
       "            </tr>\n",
       "            <tr>\n",
       "                        <th id=\"T_0b5ff348_bcf5_11eb_af29_acde48001122level0_row4\" class=\"row_heading level0 row4\" >weighted avg</th>\n",
       "                        <td id=\"T_0b5ff348_bcf5_11eb_af29_acde48001122row4_col0\" class=\"data row4 col0\" >0.781569</td>\n",
       "                        <td id=\"T_0b5ff348_bcf5_11eb_af29_acde48001122row4_col1\" class=\"data row4 col1\" >0.782123</td>\n",
       "                        <td id=\"T_0b5ff348_bcf5_11eb_af29_acde48001122row4_col2\" class=\"data row4 col2\" >0.781821</td>\n",
       "                        <td id=\"T_0b5ff348_bcf5_11eb_af29_acde48001122row4_col3\" class=\"data row4 col3\" >179.000000</td>\n",
       "            </tr>\n",
       "    </tbody></table>"
      ]
     },
     "metadata": {},
     "output_type": "display_data"
    }
   ],
   "source": [
    "# Using logit5\n",
    "#compare Train and Test\n",
    "m.compare_metrics(logit5,'Train',X_train, y_train,'Test', X_test, y_test)"
   ]
  },
  {
   "cell_type": "code",
   "execution_count": 42,
   "metadata": {},
   "outputs": [
    {
     "name": "stdout",
     "output_type": "stream",
     "text": [
      "\n",
      "    ******    Validate       ******                              ******     Test    ****** \n",
      "       Overall Accuracy:  76.64%              |                Overall Accuracy:  78.21%  \n",
      "                                                \n",
      "    True Positive Rate:  67.07%               |          The True Positive Rate:  71.01%  \n",
      "    False Positive Rate:  17.42%              |          The False Positive Rate:  17.27% \n",
      "    True Negative Rate:  82.58%               |          The True Negative Rate:  82.73% \n",
      "    False Negative Rate:  32.93%              |          The False Negative Rate:  28.99%\n",
      "    _________________________________________________________________________________\n",
      "    \n",
      "\n",
      "    Positive =  'survived'\n",
      "    Confusion Matrix\n",
      "    \n"
     ]
    },
    {
     "data": {
      "text/html": [
       "<style  type=\"text/css\" >\n",
       "</style><table id=\"T_4663611e_bcf5_11eb_af29_acde48001122\" style='display:inline'><caption>Validate Confusion Matrix</caption><thead>    <tr>        <th class=\"blank level0\" ></th>        <th class=\"col_heading level0 col0\" >pred_dead</th>        <th class=\"col_heading level0 col1\" >pred_survived</th>    </tr></thead><tbody>\n",
       "                <tr>\n",
       "                        <th id=\"T_4663611e_bcf5_11eb_af29_acde48001122level0_row0\" class=\"row_heading level0 row0\" >actual_dead</th>\n",
       "                        <td id=\"T_4663611e_bcf5_11eb_af29_acde48001122row0_col0\" class=\"data row0 col0\" >TN : 109</td>\n",
       "                        <td id=\"T_4663611e_bcf5_11eb_af29_acde48001122row0_col1\" class=\"data row0 col1\" >FP : 23</td>\n",
       "            </tr>\n",
       "            <tr>\n",
       "                        <th id=\"T_4663611e_bcf5_11eb_af29_acde48001122level0_row1\" class=\"row_heading level0 row1\" >actual_survived</th>\n",
       "                        <td id=\"T_4663611e_bcf5_11eb_af29_acde48001122row1_col0\" class=\"data row1 col0\" >FN : 27</td>\n",
       "                        <td id=\"T_4663611e_bcf5_11eb_af29_acde48001122row1_col1\" class=\"data row1 col1\" >TP : 55</td>\n",
       "            </tr>\n",
       "    </tbody></table>                                                  <style  type=\"text/css\" >\n",
       "</style><table id=\"T_4663dc02_bcf5_11eb_af29_acde48001122\" style='display:inline'><caption>Test Confusion Matrix</caption><thead>    <tr>        <th class=\"blank level0\" ></th>        <th class=\"col_heading level0 col0\" >pred_dead</th>        <th class=\"col_heading level0 col1\" >pred_survived</th>    </tr></thead><tbody>\n",
       "                <tr>\n",
       "                        <th id=\"T_4663dc02_bcf5_11eb_af29_acde48001122level0_row0\" class=\"row_heading level0 row0\" >actual_dead</th>\n",
       "                        <td id=\"T_4663dc02_bcf5_11eb_af29_acde48001122row0_col0\" class=\"data row0 col0\" >TN : 91</td>\n",
       "                        <td id=\"T_4663dc02_bcf5_11eb_af29_acde48001122row0_col1\" class=\"data row0 col1\" >FP : 19</td>\n",
       "            </tr>\n",
       "            <tr>\n",
       "                        <th id=\"T_4663dc02_bcf5_11eb_af29_acde48001122level0_row1\" class=\"row_heading level0 row1\" >actual_survived</th>\n",
       "                        <td id=\"T_4663dc02_bcf5_11eb_af29_acde48001122row1_col0\" class=\"data row1 col0\" >FN : 20</td>\n",
       "                        <td id=\"T_4663dc02_bcf5_11eb_af29_acde48001122row1_col1\" class=\"data row1 col1\" >TP : 49</td>\n",
       "            </tr>\n",
       "    </tbody></table>"
      ]
     },
     "metadata": {},
     "output_type": "display_data"
    },
    {
     "name": "stdout",
     "output_type": "stream",
     "text": [
      "\n",
      "    ________________________________________________________________________________\n",
      "    \n",
      "    Classification Report:\n",
      "    \n"
     ]
    },
    {
     "data": {
      "text/html": [
       "<style  type=\"text/css\" >\n",
       "</style><table id=\"T_4665b0cc_bcf5_11eb_af29_acde48001122\" style='display:inline'><caption>Validate Classification Report</caption><thead>    <tr>        <th class=\"blank level0\" ></th>        <th class=\"col_heading level0 col0\" >precision</th>        <th class=\"col_heading level0 col1\" >recall</th>        <th class=\"col_heading level0 col2\" >f1-score</th>        <th class=\"col_heading level0 col3\" >support</th>    </tr></thead><tbody>\n",
       "                <tr>\n",
       "                        <th id=\"T_4665b0cc_bcf5_11eb_af29_acde48001122level0_row0\" class=\"row_heading level0 row0\" >dead</th>\n",
       "                        <td id=\"T_4665b0cc_bcf5_11eb_af29_acde48001122row0_col0\" class=\"data row0 col0\" >0.801471</td>\n",
       "                        <td id=\"T_4665b0cc_bcf5_11eb_af29_acde48001122row0_col1\" class=\"data row0 col1\" >0.825758</td>\n",
       "                        <td id=\"T_4665b0cc_bcf5_11eb_af29_acde48001122row0_col2\" class=\"data row0 col2\" >0.813433</td>\n",
       "                        <td id=\"T_4665b0cc_bcf5_11eb_af29_acde48001122row0_col3\" class=\"data row0 col3\" >132.000000</td>\n",
       "            </tr>\n",
       "            <tr>\n",
       "                        <th id=\"T_4665b0cc_bcf5_11eb_af29_acde48001122level0_row1\" class=\"row_heading level0 row1\" >survived</th>\n",
       "                        <td id=\"T_4665b0cc_bcf5_11eb_af29_acde48001122row1_col0\" class=\"data row1 col0\" >0.705128</td>\n",
       "                        <td id=\"T_4665b0cc_bcf5_11eb_af29_acde48001122row1_col1\" class=\"data row1 col1\" >0.670732</td>\n",
       "                        <td id=\"T_4665b0cc_bcf5_11eb_af29_acde48001122row1_col2\" class=\"data row1 col2\" >0.687500</td>\n",
       "                        <td id=\"T_4665b0cc_bcf5_11eb_af29_acde48001122row1_col3\" class=\"data row1 col3\" >82.000000</td>\n",
       "            </tr>\n",
       "            <tr>\n",
       "                        <th id=\"T_4665b0cc_bcf5_11eb_af29_acde48001122level0_row2\" class=\"row_heading level0 row2\" >accuracy</th>\n",
       "                        <td id=\"T_4665b0cc_bcf5_11eb_af29_acde48001122row2_col0\" class=\"data row2 col0\" >0.766355</td>\n",
       "                        <td id=\"T_4665b0cc_bcf5_11eb_af29_acde48001122row2_col1\" class=\"data row2 col1\" >0.766355</td>\n",
       "                        <td id=\"T_4665b0cc_bcf5_11eb_af29_acde48001122row2_col2\" class=\"data row2 col2\" >0.766355</td>\n",
       "                        <td id=\"T_4665b0cc_bcf5_11eb_af29_acde48001122row2_col3\" class=\"data row2 col3\" >0.766355</td>\n",
       "            </tr>\n",
       "            <tr>\n",
       "                        <th id=\"T_4665b0cc_bcf5_11eb_af29_acde48001122level0_row3\" class=\"row_heading level0 row3\" >macro avg</th>\n",
       "                        <td id=\"T_4665b0cc_bcf5_11eb_af29_acde48001122row3_col0\" class=\"data row3 col0\" >0.753299</td>\n",
       "                        <td id=\"T_4665b0cc_bcf5_11eb_af29_acde48001122row3_col1\" class=\"data row3 col1\" >0.748245</td>\n",
       "                        <td id=\"T_4665b0cc_bcf5_11eb_af29_acde48001122row3_col2\" class=\"data row3 col2\" >0.750466</td>\n",
       "                        <td id=\"T_4665b0cc_bcf5_11eb_af29_acde48001122row3_col3\" class=\"data row3 col3\" >214.000000</td>\n",
       "            </tr>\n",
       "            <tr>\n",
       "                        <th id=\"T_4665b0cc_bcf5_11eb_af29_acde48001122level0_row4\" class=\"row_heading level0 row4\" >weighted avg</th>\n",
       "                        <td id=\"T_4665b0cc_bcf5_11eb_af29_acde48001122row4_col0\" class=\"data row4 col0\" >0.764554</td>\n",
       "                        <td id=\"T_4665b0cc_bcf5_11eb_af29_acde48001122row4_col1\" class=\"data row4 col1\" >0.766355</td>\n",
       "                        <td id=\"T_4665b0cc_bcf5_11eb_af29_acde48001122row4_col2\" class=\"data row4 col2\" >0.765178</td>\n",
       "                        <td id=\"T_4665b0cc_bcf5_11eb_af29_acde48001122row4_col3\" class=\"data row4 col3\" >214.000000</td>\n",
       "            </tr>\n",
       "    </tbody></table>                                             <style  type=\"text/css\" >\n",
       "</style><table id=\"T_466622e6_bcf5_11eb_af29_acde48001122\" style='display:inline'><caption>Test Classification Report</caption><thead>    <tr>        <th class=\"blank level0\" ></th>        <th class=\"col_heading level0 col0\" >precision</th>        <th class=\"col_heading level0 col1\" >recall</th>        <th class=\"col_heading level0 col2\" >f1-score</th>        <th class=\"col_heading level0 col3\" >support</th>    </tr></thead><tbody>\n",
       "                <tr>\n",
       "                        <th id=\"T_466622e6_bcf5_11eb_af29_acde48001122level0_row0\" class=\"row_heading level0 row0\" >dead</th>\n",
       "                        <td id=\"T_466622e6_bcf5_11eb_af29_acde48001122row0_col0\" class=\"data row0 col0\" >0.819820</td>\n",
       "                        <td id=\"T_466622e6_bcf5_11eb_af29_acde48001122row0_col1\" class=\"data row0 col1\" >0.827273</td>\n",
       "                        <td id=\"T_466622e6_bcf5_11eb_af29_acde48001122row0_col2\" class=\"data row0 col2\" >0.823529</td>\n",
       "                        <td id=\"T_466622e6_bcf5_11eb_af29_acde48001122row0_col3\" class=\"data row0 col3\" >110.000000</td>\n",
       "            </tr>\n",
       "            <tr>\n",
       "                        <th id=\"T_466622e6_bcf5_11eb_af29_acde48001122level0_row1\" class=\"row_heading level0 row1\" >survived</th>\n",
       "                        <td id=\"T_466622e6_bcf5_11eb_af29_acde48001122row1_col0\" class=\"data row1 col0\" >0.720588</td>\n",
       "                        <td id=\"T_466622e6_bcf5_11eb_af29_acde48001122row1_col1\" class=\"data row1 col1\" >0.710145</td>\n",
       "                        <td id=\"T_466622e6_bcf5_11eb_af29_acde48001122row1_col2\" class=\"data row1 col2\" >0.715328</td>\n",
       "                        <td id=\"T_466622e6_bcf5_11eb_af29_acde48001122row1_col3\" class=\"data row1 col3\" >69.000000</td>\n",
       "            </tr>\n",
       "            <tr>\n",
       "                        <th id=\"T_466622e6_bcf5_11eb_af29_acde48001122level0_row2\" class=\"row_heading level0 row2\" >accuracy</th>\n",
       "                        <td id=\"T_466622e6_bcf5_11eb_af29_acde48001122row2_col0\" class=\"data row2 col0\" >0.782123</td>\n",
       "                        <td id=\"T_466622e6_bcf5_11eb_af29_acde48001122row2_col1\" class=\"data row2 col1\" >0.782123</td>\n",
       "                        <td id=\"T_466622e6_bcf5_11eb_af29_acde48001122row2_col2\" class=\"data row2 col2\" >0.782123</td>\n",
       "                        <td id=\"T_466622e6_bcf5_11eb_af29_acde48001122row2_col3\" class=\"data row2 col3\" >0.782123</td>\n",
       "            </tr>\n",
       "            <tr>\n",
       "                        <th id=\"T_466622e6_bcf5_11eb_af29_acde48001122level0_row3\" class=\"row_heading level0 row3\" >macro avg</th>\n",
       "                        <td id=\"T_466622e6_bcf5_11eb_af29_acde48001122row3_col0\" class=\"data row3 col0\" >0.770204</td>\n",
       "                        <td id=\"T_466622e6_bcf5_11eb_af29_acde48001122row3_col1\" class=\"data row3 col1\" >0.768709</td>\n",
       "                        <td id=\"T_466622e6_bcf5_11eb_af29_acde48001122row3_col2\" class=\"data row3 col2\" >0.769429</td>\n",
       "                        <td id=\"T_466622e6_bcf5_11eb_af29_acde48001122row3_col3\" class=\"data row3 col3\" >179.000000</td>\n",
       "            </tr>\n",
       "            <tr>\n",
       "                        <th id=\"T_466622e6_bcf5_11eb_af29_acde48001122level0_row4\" class=\"row_heading level0 row4\" >weighted avg</th>\n",
       "                        <td id=\"T_466622e6_bcf5_11eb_af29_acde48001122row4_col0\" class=\"data row4 col0\" >0.781569</td>\n",
       "                        <td id=\"T_466622e6_bcf5_11eb_af29_acde48001122row4_col1\" class=\"data row4 col1\" >0.782123</td>\n",
       "                        <td id=\"T_466622e6_bcf5_11eb_af29_acde48001122row4_col2\" class=\"data row4 col2\" >0.781821</td>\n",
       "                        <td id=\"T_466622e6_bcf5_11eb_af29_acde48001122row4_col3\" class=\"data row4 col3\" >179.000000</td>\n",
       "            </tr>\n",
       "    </tbody></table>"
      ]
     },
     "metadata": {},
     "output_type": "display_data"
    }
   ],
   "source": [
    "#compare validate and Test\n",
    "m.compare_metrics(logit5,'Validate',X_validate, y_validate,'Test', X_test, y_test)"
   ]
  },
  {
   "cell_type": "markdown",
   "metadata": {},
   "source": [
    "The test data performed better than the validate, but the train data performed better than the test."
   ]
  },
  {
   "cell_type": "code",
   "execution_count": null,
   "metadata": {},
   "outputs": [],
   "source": []
  }
 ],
 "metadata": {
  "kernelspec": {
   "display_name": "Python 3",
   "language": "python",
   "name": "python3"
  },
  "language_info": {
   "codemirror_mode": {
    "name": "ipython",
    "version": 3
   },
   "file_extension": ".py",
   "mimetype": "text/x-python",
   "name": "python",
   "nbconvert_exporter": "python",
   "pygments_lexer": "ipython3",
   "version": "3.8.5"
  }
 },
 "nbformat": 4,
 "nbformat_minor": 4
}
